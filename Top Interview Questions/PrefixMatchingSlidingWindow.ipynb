{
 "cells": [
  {
   "cell_type": "markdown",
   "metadata": {},
   "source": [
    "# Top 10 Prefix Matching and Sliding Window algorithms in interview questions\n",
    "\n",
    "For further references see https://www.geeksforgeeks.org/top-10-algorithms-in-interview-questions-set-2/"
   ]
  },
  {
   "cell_type": "markdown",
   "metadata": {},
   "source": [
    "# Equilibrium index of an array\n",
    "\n",
    "Equilibrium index of an array is an index such that the sum of elements at lower indexes is equal to the sum of elements at higher indexes. Write a function to find the first equilibrium index.\n",
    "\n",
    "### Complexity Analysis\n",
    "\n",
    "This algorithm has time and space complexity of $\\mathcal{O}(n)$."
   ]
  },
  {
   "cell_type": "code",
   "execution_count": 1,
   "metadata": {},
   "outputs": [
    {
     "name": "stdout",
     "output_type": "stream",
     "text": [
      "First equilibrium index is  0\n"
     ]
    }
   ],
   "source": [
    "class Solution:        \n",
    "    def equilibrium(self, nums):\n",
    "        n = len(nums)\n",
    "        if n < 2: return\n",
    "        leftSum, rightSum = 0, sum(nums)\n",
    "        for i, num in enumerate(nums):\n",
    "            leftSum += num\n",
    "            rightSum -= num\n",
    "            if leftSum + rightSum == 0:\n",
    "                return i\n",
    "        return -1       \n",
    "            \n",
    "def main():\n",
    "    sol = Solution()\n",
    "    nums = [-7, -3, 5, 1, -4, 3, 0, 1, 4]\n",
    "    print('First equilibrium index is ', sol.equilibrium(nums))\n",
    "    \n",
    "if __name__ == \"__main__\":\n",
    "    main()"
   ]
  },
  {
   "cell_type": "markdown",
   "metadata": {},
   "source": [
    "# Print all subarrays with 0 sum\n",
    "\n",
    "Given an array, print all subarrays in the array which has sum 0.\n",
    "\n",
    "### Complexity Analysis\n",
    "\n",
    "This algorithm has time and space complexity of $\\mathcal{O}(n)$."
   ]
  },
  {
   "cell_type": "code",
   "execution_count": 2,
   "metadata": {},
   "outputs": [
    {
     "name": "stdout",
     "output_type": "stream",
     "text": [
      "Subarray found from Index 2 to 4\n",
      "Subarray found from Index 2 to 6\n",
      "Subarray found from Index 5 to 6\n",
      "Subarray found from Index 6 to 9\n",
      "Subarray found from Index 0 to 10\n"
     ]
    }
   ],
   "source": [
    "class Solution:\n",
    "    def findSubarrays(self, nums):\n",
    "        hashMap = {}\n",
    "        result = []\n",
    "        curSum = 0\n",
    "        for i, num in enumerate(nums):\n",
    "            curSum += num\n",
    "            if curSum == 0:\n",
    "                result.append((0,i))\n",
    "            al = []\n",
    "            if curSum - 0 in hashMap:\n",
    "                al = hashMap.get(curSum)\n",
    "                for j in al:\n",
    "                    result.append((j+1, i))\n",
    "            al.append(i)\n",
    "            hashMap[curSum] = al\n",
    "        return result\n",
    "        \n",
    "def printOutput(result):\n",
    "    for i in result: \n",
    "        print (\"Subarray found from Index \" + str(i[0]) + \" to \" + str(i[1])) \n",
    "        \n",
    "def main():\n",
    "    sol = Solution()\n",
    "    nums = [6, 3, -1, -3, 4, -2,  \n",
    "              2, 4, 6, -12, -7] \n",
    "    res = sol.findSubarrays(nums)\n",
    "    if res:\n",
    "        printOutput(res)\n",
    "    else:\n",
    "        print (\"No subarray exists\")\n",
    "    \n",
    "if __name__ == \"__main__\":\n",
    "    main()"
   ]
  },
  {
   "cell_type": "markdown",
   "metadata": {},
   "source": [
    "# Largest subarray with equal number of 0s and 1s\n",
    "\n",
    "Given an array containing only $0$ and $1$, find the largest subarray which contains equal no of $0$ and $1$.\n",
    "\n",
    "\n",
    "### Complexity Analysis\n",
    "\n",
    "This algorithm has time and space complexity of $\\mathcal{O}(n)$."
   ]
  },
  {
   "cell_type": "code",
   "execution_count": 3,
   "metadata": {},
   "outputs": [
    {
     "name": "stdout",
     "output_type": "stream",
     "text": [
      "4\n"
     ]
    }
   ],
   "source": [
    "class Solution:\n",
    "    def largestSubarray(self, arr):\n",
    "        hashMap = {} \n",
    "        maxLen = curSum = 0\n",
    "        curSum = 0\n",
    "\n",
    "        for i in range(len(arr)):\n",
    "            curSum += 1 if arr[i] else -1\n",
    "            if curSum is 0: \n",
    "                maxLen = i + 1\n",
    "            if curSum in hashMap: \n",
    "                maxLen = max(maxLen, i - hashMap[curSum] ) \n",
    "            else: \n",
    "                hashMap[curSum] = i \n",
    "        return maxLen    \n",
    "    \n",
    "def main():\n",
    "    sol = Solution()\n",
    "    nums = [1, 0, 1, 1, 1, 1, 1, 1, 0, 0]\n",
    "    print(sol.largestSubarray(nums))\n",
    "    \n",
    "if __name__ == \"__main__\":\n",
    "    main()"
   ]
  },
  {
   "cell_type": "markdown",
   "metadata": {},
   "source": [
    "# Find maximum (or minimum) sum of a subarray of size k\n",
    "\n",
    "Given an array of integers and a number $k$, find maximum sum of a subarray of size $k$.\n",
    "\n",
    "\n",
    "### Complexity Analysis\n",
    "This algorithm has time complexity of $\\mathcal{O}(n)$."
   ]
  },
  {
   "cell_type": "code",
   "execution_count": 4,
   "metadata": {},
   "outputs": [
    {
     "name": "stdout",
     "output_type": "stream",
     "text": [
      "39\n"
     ]
    }
   ],
   "source": [
    "class Solution:\n",
    "    def maxSumK(self, nums, k):\n",
    "        n = len(nums)\n",
    "        if n < k:\n",
    "            return -1\n",
    "        maxSum = curSum = sum(nums[:4])\n",
    "        for i in range(4, n):\n",
    "            curSum += nums[i] - nums[i-k]\n",
    "            maxSum = max(maxSum, curSum)\n",
    "        return maxSum\n",
    "    \n",
    "def main():\n",
    "    sol = Solution()\n",
    "    nums = [1, 4, 2, 10, 23, 3, 1, 0, 20]\n",
    "    k = 4\n",
    "    print(sol.maxSumK(nums, k))\n",
    "    \n",
    "if __name__ == \"__main__\":\n",
    "    main()"
   ]
  },
  {
   "cell_type": "markdown",
   "metadata": {},
   "source": [
    "# Count distinct elements in every window of size k\n",
    "\n",
    "Given an array of size n and an integer $k$, return the count of distinct numbers in all windows of size $k$.\n",
    "\n",
    "### Complexity Analysis\n",
    "This algorithm has time complexity of $\\mathcal{O}(n)$."
   ]
  },
  {
   "cell_type": "code",
   "execution_count": 5,
   "metadata": {},
   "outputs": [
    {
     "name": "stdout",
     "output_type": "stream",
     "text": [
      "[3, 4, 4, 3]\n"
     ]
    }
   ],
   "source": [
    "from collections import Counter\n",
    "class Solution:\n",
    "    def countDistinct(self, nums, k):\n",
    "        hashMap = Counter()\n",
    "        result = []\n",
    "        for num in nums[:k]:\n",
    "            hashMap[num] += 1\n",
    "        result.append(len(hashMap))\n",
    "        for i in range(k, len(nums)):\n",
    "            hashMap[nums[i]] += 1\n",
    "            hashMap[nums[i-k]] -= 1\n",
    "            if hashMap[nums[i-k]] == 0:\n",
    "                del hashMap[nums[i-k]]\n",
    "            result.append(len(hashMap))\n",
    "        return result\n",
    "            \n",
    "def main():\n",
    "    sol = Solution()\n",
    "    nums = [1, 2, 1, 3, 4, 2, 3]\n",
    "    k = 4\n",
    "    print(sol.countDistinct(nums, k))\n",
    "    \n",
    "if __name__ == \"__main__\":\n",
    "    main()"
   ]
  },
  {
   "cell_type": "markdown",
   "metadata": {},
   "source": [
    "# Subarray with given sum in an array of positive numbers\n",
    "\n",
    "Given an unsorted array of nonnegative integers, find a continuous subarray which adds to a given number.\n",
    "\n",
    "### Complexity Analysis\n",
    "\n",
    "This algorithm has time complexity of $\\mathcal{O}(n)$."
   ]
  },
  {
   "cell_type": "code",
   "execution_count": 6,
   "metadata": {},
   "outputs": [
    {
     "name": "stdout",
     "output_type": "stream",
     "text": [
      "(1, 4)\n"
     ]
    }
   ],
   "source": [
    "class Solution:\n",
    "    def subarraySum(self, nums, target):\n",
    "        l = r = curSum = 0\n",
    "        while r < len(nums):\n",
    "            curSum += nums[r]\n",
    "            if curSum == target:\n",
    "                return l, r\n",
    "            while curSum > target:\n",
    "                curSum -= nums[l]\n",
    "                l += 1\n",
    "                if curSum == target:\n",
    "                    return l, r\n",
    "            r += 1\n",
    "        return -1\n",
    "    \n",
    "def main():\n",
    "    sol = Solution()\n",
    "    nums = [15, 2, 4, 8, 9, 5, 10, 23]\n",
    "    target = 23\n",
    "    print(sol.subarraySum(nums, target))\n",
    "    \n",
    "if __name__ == \"__main__\":\n",
    "    main()"
   ]
  },
  {
   "cell_type": "markdown",
   "metadata": {},
   "source": [
    "# Find maximum of minimum for every window size in a given array\n",
    "\n",
    "Given an integer array of size $n$, find the maximum of the minimum’s of every window size in the array. Note that window size varies from $1$ to $n$.\n",
    "\n",
    "### Complexity Analysis\n",
    "This algorithm has time and space complexity of $\\mathcal{O}(n)$."
   ]
  },
  {
   "cell_type": "code",
   "execution_count": 7,
   "metadata": {},
   "outputs": [
    {
     "name": "stdout",
     "output_type": "stream",
     "text": [
      "[70, 30, 20, 10, 10, 10, 10]\n"
     ]
    }
   ],
   "source": [
    "class Solution:\n",
    "    def maxOfMin(self, nums):\n",
    "        n = len(nums)\n",
    "        left, right = [-1] * (n+1), [n] * (n+1)\n",
    "        stack = []\n",
    "        for i in range(n):\n",
    "            while stack and nums[stack[-1]] >= nums[i]:\n",
    "                stack.pop()\n",
    "            if stack:\n",
    "                left[i] = stack[-1]\n",
    "            stack.append(i)\n",
    "        stack = []\n",
    "        for i in range(n)[::-1]:\n",
    "            while stack and nums[stack[-1]] >= nums[i]:\n",
    "                stack.pop()\n",
    "            if stack:\n",
    "                right[i] = stack[-1]\n",
    "            stack.append(i)\n",
    "        res = [0] * (n+1)\n",
    "        for i in range(n):\n",
    "            curLen = right[i] - left[i] - 1\n",
    "            res[curLen] = max(res[curLen], nums[i])\n",
    "        for i in range(n)[::-1]: \n",
    "            res[i] = max(res[i], res[i + 1])\n",
    "        return res[1:]\n",
    "            \n",
    "def main():\n",
    "    sol = Solution()\n",
    "    nums = [10, 20, 30, 50, 10, 70, 30]\n",
    "    target = 23\n",
    "    print(sol.maxOfMin(nums))\n",
    "    \n",
    "if __name__ == \"__main__\":\n",
    "    main()"
   ]
  },
  {
   "cell_type": "markdown",
   "metadata": {},
   "source": [
    "# N-bonacci Numbers\n",
    "\n",
    "You are given two Integers N and M, and print all the terms of the series upto M-terms of the N-bonacci Numbers.\n",
    "\n",
    "### Complexity Analysis\n",
    "This algorithm has time and space complexity of $\\mathcal{O}(n)$."
   ]
  },
  {
   "cell_type": "code",
   "execution_count": 8,
   "metadata": {},
   "outputs": [
    {
     "name": "stdout",
     "output_type": "stream",
     "text": [
      "[0, 0, 0, 0, 1, 1, 2, 4, 8, 16, 31, 61, 120, 236, 464]\n"
     ]
    }
   ],
   "source": [
    "class Solution:\n",
    "    def nBonacci(self, n, m):\n",
    "        if m < n:\n",
    "            return None\n",
    "        dp = [0] * m\n",
    "        dp[n-1] = 1\n",
    "        curSum = sum(dp[:n])\n",
    "        for i in range(n, m):\n",
    "            dp[i] = curSum\n",
    "            curSum += dp[i] - dp[i-n]\n",
    "        return dp\n",
    "        \n",
    "def main():\n",
    "    sol = Solution()\n",
    "    nb = sol.nBonacci(5, 15)\n",
    "    print(nb)\n",
    "    \n",
    "if __name__ == \"__main__\":\n",
    "    main()"
   ]
  },
  {
   "cell_type": "markdown",
   "metadata": {},
   "source": [
    "# Longest subsequence of the form $0^* 1^* 0^*$ in a binary string\n",
    "\n",
    "Given a binary string, find the longest subsequence of the form $0^* 1^* 0^*$ in it. \n",
    "\n",
    "### Complexity Analysis\n",
    "This algorithm has expected time complexity of $\\mathcal{O}(n^2)$."
   ]
  },
  {
   "cell_type": "code",
   "execution_count": 9,
   "metadata": {},
   "outputs": [
    {
     "name": "stdout",
     "output_type": "stream",
     "text": [
      "12\n"
     ]
    }
   ],
   "source": [
    "class Solution:\n",
    "    def longestSubseq(self, s):\n",
    "        n = len(s)\n",
    "        pre_count_0 = [0] * (n+2)\n",
    "        pre_count_1 = [0] * (n+1)\n",
    "        post_count_0 = [0] * (n+2)\n",
    "        for i in range(1, n+1):\n",
    "            pre_count_0[i] = pre_count_0[i - 1] \n",
    "            pre_count_1[i] = pre_count_1[i - 1] \n",
    "            post_count_0[n - i + 1] = post_count_0[n - i + 2] \n",
    "            if (s[i - 1] == '0'): \n",
    "                pre_count_0[i] += 1\n",
    "            else: \n",
    "                pre_count_1[i] += 1\n",
    "            if (s[n - i] == '0'): \n",
    "                post_count_0[n - i + 1] += 1\n",
    "        if (pre_count_0[n] == n or pre_count_0[n] == 0): \n",
    "            return n\n",
    "        res = 0\n",
    "        for i in range(1, n + 1): \n",
    "            for j in range(i, n + 1, 1): \n",
    "                res = max(pre_count_0[i - 1] + pre_count_1[j] - pre_count_1[i - 1] + post_count_0[j + 1], res) \n",
    "        return res \n",
    "        \n",
    "def main():\n",
    "    sol = Solution()\n",
    "    s = \"000011100000\"\n",
    "    print(sol.longestSubseq(s))\n",
    "    \n",
    "if __name__ == \"__main__\":\n",
    "    main()"
   ]
  },
  {
   "cell_type": "markdown",
   "metadata": {},
   "source": [
    "# Longest Span with same Sum in two Binary arrays\n",
    "\n",
    "Given two binary arrays $arr1$ and $arr2$ of same size $n$. Find length of the longest common span $(i, j)$ where $j >= i$ such that $arr1[i] + arr1[i+1] + \\dots + arr1[j] = arr2[i] + arr2[i+1] + \\dots + arr2[j]$.\n",
    "\n",
    "### Complexity Analysis\n",
    "The time complexity of this algorithm is $\\mathcal{O}(n)$."
   ]
  },
  {
   "cell_type": "code",
   "execution_count": 10,
   "metadata": {},
   "outputs": [
    {
     "name": "stdout",
     "output_type": "stream",
     "text": [
      "6\n"
     ]
    }
   ],
   "source": [
    "class Solution:\n",
    "    def largestSubarray(self, nums1, nums2):\n",
    "        hashMap = {} \n",
    "        maxLen = curSum = 0\n",
    "        curSum = 0\n",
    "        arr = [0] * len(nums1)\n",
    "        for i in range(len(nums1)):\n",
    "            arr[i] = nums1[i] - nums2[i]\n",
    "        for i in range(len(arr)):\n",
    "            curSum += 1 if arr[i] else -1\n",
    "            if curSum is 0: \n",
    "                maxLen = i + 1\n",
    "            if curSum in hashMap: \n",
    "                maxLen = max(maxLen, i - hashMap[curSum] ) \n",
    "            else: \n",
    "                hashMap[curSum] = i \n",
    "        return maxLen   \n",
    "    \n",
    "def main():\n",
    "    sol = Solution()\n",
    "    nums1 = [0, 1, 0, 1, 1, 1, 1]\n",
    "    nums2 = [1, 1, 1, 1, 1, 0, 1]\n",
    "    print(sol.largestSubarray(nums1, nums2))\n",
    "    \n",
    "if __name__ == \"__main__\":\n",
    "    main()"
   ]
  }
 ],
 "metadata": {
  "kernelspec": {
   "display_name": "Python 3",
   "language": "python",
   "name": "python3"
  },
  "language_info": {
   "codemirror_mode": {
    "name": "ipython",
    "version": 3
   },
   "file_extension": ".py",
   "mimetype": "text/x-python",
   "name": "python",
   "nbconvert_exporter": "python",
   "pygments_lexer": "ipython3",
   "version": "3.7.3"
  }
 },
 "nbformat": 4,
 "nbformat_minor": 2
}
