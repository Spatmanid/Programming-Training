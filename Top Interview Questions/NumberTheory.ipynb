{
 "cells": [
  {
   "cell_type": "markdown",
   "metadata": {},
   "source": [
    "# Top 10 Number Theory algorithms in interview questions\n",
    "\n",
    "For further references see https://www.geeksforgeeks.org/top-10-algorithms-in-interview-questions/"
   ]
  },
  {
   "cell_type": "markdown",
   "metadata": {},
   "source": [
    "# Greatest Common Divisor (GCD)\n",
    "\n",
    "Find the Greatest Common Divisor (GCD) of two numbers. The GCD is the largest number that divides both of them."
   ]
  },
  {
   "cell_type": "code",
   "execution_count": 1,
   "metadata": {},
   "outputs": [
    {
     "name": "stdout",
     "output_type": "stream",
     "text": [
      "8\n"
     ]
    }
   ],
   "source": [
    "class Solution:\n",
    "    def gcd(self, a, b):\n",
    "        if a == 0:\n",
    "            return b\n",
    "        return self.gcd(b%a, a)\n",
    "\n",
    "def main():\n",
    "    sol = Solution()\n",
    "    print(sol.gcd(8, 32))\n",
    "    \n",
    "if __name__ == \"__main__\":\n",
    "    main()"
   ]
  },
  {
   "cell_type": "markdown",
   "metadata": {},
   "source": [
    "# Least Common Multiple (LCM)\n",
    "\n",
    "Find the Least Common Multiple (LCM) of two numbers. The LCM is the lowest number which can be devided by both numbers."
   ]
  },
  {
   "cell_type": "code",
   "execution_count": 2,
   "metadata": {},
   "outputs": [
    {
     "name": "stdout",
     "output_type": "stream",
     "text": [
      "60\n"
     ]
    }
   ],
   "source": [
    "class Solution:\n",
    "    def gcd(self, a, b):\n",
    "        if not b:\n",
    "            return a\n",
    "        return self.gcd(b, a%b)\n",
    "    \n",
    "    def lcm(self, a, b):\n",
    "        return (a * b) // self.gcd(a,b)\n",
    "\n",
    "def main():\n",
    "    sol = Solution()\n",
    "    print(sol.lcm(15, 20))\n",
    "    \n",
    "if __name__ == \"__main__\":\n",
    "    main()"
   ]
  },
  {
   "cell_type": "markdown",
   "metadata": {},
   "source": [
    "# Power(x, y)\n",
    "\n",
    "Given an integer $x$ and a positive number $y$, write a function that computes $x^y$."
   ]
  },
  {
   "cell_type": "code",
   "execution_count": 3,
   "metadata": {},
   "outputs": [
    {
     "name": "stdout",
     "output_type": "stream",
     "text": [
      "243\n"
     ]
    }
   ],
   "source": [
    "class Solution:\n",
    "    def power(self, x, y):\n",
    "        res = 1\n",
    "        while y:\n",
    "            if y & 1:\n",
    "                res *= x\n",
    "            y >>= 1\n",
    "            x *= x\n",
    "        return res\n",
    "        \n",
    "def main():\n",
    "    sol = Solution()\n",
    "    print(sol.power(3, 5))\n",
    "    \n",
    "if __name__ == \"__main__\":\n",
    "    main()"
   ]
  },
  {
   "cell_type": "markdown",
   "metadata": {},
   "source": [
    "# Modular Exponentiation (Power in Modular Arithmetic)\n",
    "\n",
    "Given three numbers $x$, $y$ and $p$, compute $(x \\cdot y) \\% p$.\n",
    "\n",
    "### Complexity Analysis\n",
    "This algorithm has time complexity of $\\mathcal{O}(\\log y)$."
   ]
  },
  {
   "cell_type": "code",
   "execution_count": 4,
   "metadata": {},
   "outputs": [
    {
     "name": "stdout",
     "output_type": "stream",
     "text": [
      "11\n"
     ]
    }
   ],
   "source": [
    "class Solution:\n",
    "    def modExponentiation(self, x, y, p):\n",
    "        res = 1\n",
    "        x %= p\n",
    "        if x == 0:\n",
    "            return 0\n",
    "        while y:\n",
    "            if y & 1:\n",
    "                res = (res * x) % p\n",
    "            y >>= 1\n",
    "            x = (x * x) % p\n",
    "        return res\n",
    "    \n",
    "def main():\n",
    "    x, y, p = 2, 7, 13\n",
    "    sol = Solution()\n",
    "    print(sol.modExponentiation(x, y, p))\n",
    "\n",
    "if __name__ == \"__main__\":\n",
    "    main()"
   ]
  },
  {
   "cell_type": "markdown",
   "metadata": {},
   "source": [
    "# Modular multiplicative inverse\n",
    "\n",
    "Given two integers $a$ and $m$, find modular multiplicative inverse of $a$ under modulo $m$.\n",
    "\n",
    "### Complexity Analysis\n",
    "This algorithm has time complexity of $\\mathcal{O}(\\log m)$."
   ]
  },
  {
   "cell_type": "code",
   "execution_count": 5,
   "metadata": {},
   "outputs": [
    {
     "name": "stdout",
     "output_type": "stream",
     "text": [
      "8\n"
     ]
    }
   ],
   "source": [
    "class Solution:\n",
    "    def modInverse(self, a, m):\n",
    "        a %= m\n",
    "        for x in range(1, m):\n",
    "            if ((a * x) % m) == 1:\n",
    "                return x\n",
    "        return 1       \n",
    "    \n",
    "def main():\n",
    "    a, m = 2, 15\n",
    "    sol = Solution()\n",
    "    print(sol.modInverse(a, m))\n",
    "\n",
    "if __name__ == \"__main__\":\n",
    "    main()"
   ]
  },
  {
   "cell_type": "markdown",
   "metadata": {},
   "source": [
    "# Primality Test (Fermat Method)\n",
    "\n",
    "Given a number n, check if it is prime or not.\n",
    "\n",
    "\n",
    "### Complexity Analysis\n",
    "This algorithm has time complexity of $\\mathcal{O}(k \\log n)$."
   ]
  },
  {
   "cell_type": "code",
   "execution_count": 6,
   "metadata": {},
   "outputs": [
    {
     "name": "stdout",
     "output_type": "stream",
     "text": [
      "False\n",
      "True\n"
     ]
    }
   ],
   "source": [
    "from random import randint\n",
    "class Solution:\n",
    "    def isPrime(self, n, k):\n",
    "        if n <= 1 or n == 4:\n",
    "            return False\n",
    "        if n <= 3:\n",
    "            return True\n",
    "        while k:\n",
    "            a = randint(2, n-2)\n",
    "            if self.gcd(n, a) != 1:\n",
    "                return False\n",
    "            if self.modExponentiation(a, n-1, n) != 1:\n",
    "                return False\n",
    "            k -= 1\n",
    "        return True\n",
    "    \n",
    "    def gcd(self, a, b):\n",
    "        if not b:\n",
    "            return a\n",
    "        return self.gcd(b, a%b)\n",
    "    \n",
    "    def modExponentiation(self, x, y, p):\n",
    "        res = 1\n",
    "        x %= p\n",
    "        if x == 0:\n",
    "            return 0\n",
    "        while y:\n",
    "            if y & 1:\n",
    "                res = (res * x) % p\n",
    "            y >>= 1\n",
    "            x = (x * x) % p\n",
    "        return res\n",
    "    \n",
    "def main():\n",
    "    k = 3\n",
    "    sol = Solution()\n",
    "    print(sol.isPrime(27, k))\n",
    "    print(sol.isPrime(37, k))\n",
    "\n",
    "if __name__ == \"__main__\":\n",
    "    main()"
   ]
  },
  {
   "cell_type": "markdown",
   "metadata": {},
   "source": [
    "# Euler’s Totient Function\n",
    "\n",
    "Euler’s Totient function $?(n)$ for an input $n$ is count of numbers in $[1, 2, 3, \\dots, n]$ that are relatively prime to $n$, i.e., the numbers whose GCD (Greatest Common Divisor) with $n$ is $1$.\n",
    "\n",
    "### Complexity Analysis\n",
    "This algorithm has time complexity of $\\mathcal{O}(n)$."
   ]
  },
  {
   "cell_type": "code",
   "execution_count": 7,
   "metadata": {},
   "outputs": [
    {
     "name": "stdout",
     "output_type": "stream",
     "text": [
      "phi( 1 ) =  1\n",
      "phi( 2 ) =  1\n",
      "phi( 3 ) =  2\n",
      "phi( 4 ) =  2\n",
      "phi( 5 ) =  4\n",
      "phi( 6 ) =  2\n",
      "phi( 7 ) =  6\n",
      "phi( 8 ) =  4\n",
      "phi( 9 ) =  6\n",
      "phi( 10 ) =  4\n"
     ]
    }
   ],
   "source": [
    "class Solution:\n",
    "    def phi(self, n):\n",
    "        result = n\n",
    "        p = 2\n",
    "        while p * p <= n:\n",
    "            if not n % p:\n",
    "                while not n % p:\n",
    "                    n //= p\n",
    "                result *= (1.0 - (1.0 / float(p)))\n",
    "            p += 1\n",
    "        if n > 1:\n",
    "            result *= (1.0 - (1.0 / float(n)))\n",
    "        return int(result)\n",
    "    \n",
    "def main():\n",
    "    sol = Solution()\n",
    "    for n in range(1, 11):\n",
    "        print(\"phi(\", n, \") = \", sol.phi(n))\n",
    "\n",
    "if __name__ == \"__main__\":\n",
    "    main()"
   ]
  },
  {
   "cell_type": "markdown",
   "metadata": {},
   "source": [
    "# Sieve of Eratosthenes\n",
    "\n",
    "Given a number $n$, print all primes smaller than or equal to $n$. It is also given that $n$ is a small number.\n",
    "\n",
    "### Complexity Analysis\n",
    "This algorithm has time complexity of $\\mathcal{O}(n \\log \\log n)$."
   ]
  },
  {
   "cell_type": "code",
   "execution_count": 8,
   "metadata": {},
   "outputs": [
    {
     "name": "stdout",
     "output_type": "stream",
     "text": [
      "Following are the prime numbers smaller than or equal to 50\n",
      "2 3 5 7 11 13 17 19 23 29 31 37 41 43 47 "
     ]
    }
   ],
   "source": [
    "class Solution:\n",
    "    def SieveOfEratosthenes(self, n):\n",
    "        prime = [True] * (n + 1)\n",
    "        p = 2\n",
    "        while p * p <= n:\n",
    "            if prime[p]:\n",
    "                for i in range(p*p, n+1, p):\n",
    "                    prime[i] = False\n",
    "            p += 1\n",
    "        for p in range(2, n+1):\n",
    "            if prime[p]:\n",
    "                print(p, end=' ')\n",
    "    \n",
    "def main():\n",
    "    n = 50\n",
    "    sol = Solution()\n",
    "    print(\"Following are the prime numbers smaller than or equal to\", n) \n",
    "    sol.SieveOfEratosthenes(n)\n",
    "    \n",
    "if __name__ == \"__main__\":\n",
    "    main()"
   ]
  },
  {
   "cell_type": "markdown",
   "metadata": {},
   "source": [
    "# Convex Hull (Jarvis’s Algorithm or Wrapping)\n",
    "\n",
    "Given a set of points in the plane, the convex hull of the set is the smallest convex polygon that contains all the points of it.\n",
    "\n",
    "### Complexity Analysis\n",
    "This algorithm has time complexity of $\\mathcal{O}(n^2)$."
   ]
  },
  {
   "cell_type": "code",
   "execution_count": 9,
   "metadata": {},
   "outputs": [
    {
     "name": "stdout",
     "output_type": "stream",
     "text": [
      "[[0, 1], [4, 1], [5, 2], [3, 4], [0, 3]]\n"
     ]
    }
   ],
   "source": [
    "import math\n",
    "class Solution:\n",
    "    def convexHull(self, points):\n",
    "        start = points[0]\n",
    "        pos_min = 0\n",
    "        for i in range(1, len(points)):\n",
    "            cur = points[i]\n",
    "            if start[1] > cur[1] or (start[1] == cur[1] and start[0] > cur[0]):\n",
    "                start = cur\n",
    "                pos_min = i\n",
    "\n",
    "        points[-1], points[pos_min] = points[pos_min], points[-1]\n",
    "        p0 = points.pop()\n",
    "        hullPoints = []\n",
    "                \n",
    "        points.sort(key=lambda item:self.angle(p0, item))\n",
    "        \n",
    "        p1 = points[0]\n",
    "        ang1 = self.angle(p0, p1)\n",
    "        i = 1\n",
    "        while i < len(points) and self.angle(p0, points[i]) == ang1:\n",
    "            p1 = points[i]\n",
    "            i += 1\n",
    "        p2 = points[i]\n",
    "        ang2 = self.angle(p1, p2)\n",
    "        i += 1\n",
    "        while i < len(points) and self.angle(p1, points[i]) == ang2:\n",
    "            p2 = points[i]\n",
    "            i += 1\n",
    "                        \n",
    "        hullPoints.append(p0)\n",
    "        hullPoints.append(p1)\n",
    "        hullPoints.append(p2)\n",
    "        \n",
    "        if len(hullPoints) < 3:\n",
    "            return       \n",
    "        \n",
    "        for r in points[i:]:\n",
    "            while self.orientation(hullPoints[-2], hullPoints[-1], r) != 2:\n",
    "                hullPoints.pop()\n",
    "            hullPoints.append(r)\n",
    "            \n",
    "        print(hullPoints)\n",
    "        \n",
    "    def angle(self, p0, p1):\n",
    "        y = p1[1] - p0[1]\n",
    "        x = p1[0] - p0[0]\n",
    "        if x == 0:\n",
    "            return 90\n",
    "        else:\n",
    "            return math.degrees(math.atan(y/x))\n",
    "        \n",
    "    def orientation(self, p, q, r):\n",
    "        val = (q[1] - p[1]) * (r[0] - q[0]) - (q[0] - p[0]) * (r[1] - q[1])\n",
    "        if val == 0:\n",
    "            return 0\n",
    "        elif val > 0:\n",
    "            return 1\n",
    "        else:\n",
    "            return 2\n",
    "    \n",
    "def main():\n",
    "    points = [[1,1], [2,1], [4,1], [0,1], [0,2], [0,3], [3,2], [5,2], [1,3], [2,3], [4,3], [3,4]]\n",
    "    sol = Solution()\n",
    "    sol.convexHull(points)\n",
    "\n",
    "if __name__ == \"__main__\":\n",
    "    main()"
   ]
  },
  {
   "cell_type": "markdown",
   "metadata": {},
   "source": [
    "# Euclidean algorithms (Basic and Extended)\n",
    "\n",
    "GCD of two numbers is the largest number that divides both of them. A simple way to find GCD is to factorize both numbers and multiply common factors.\n",
    "\n",
    "### Complexity Analysis\n",
    "This algorithm has time complexity of $\\mathcal{O}(\\log min(a,b))$."
   ]
  },
  {
   "cell_type": "code",
   "execution_count": 10,
   "metadata": {},
   "outputs": [
    {
     "name": "stdout",
     "output_type": "stream",
     "text": [
      "5\n",
      "(5, 1, -2)\n"
     ]
    }
   ],
   "source": [
    "class Solution:\n",
    "    def gcd(self, a, b):\n",
    "        if a == 0:\n",
    "            return b\n",
    "        return self.gcd(b%a, a)\n",
    "    \n",
    "    def gcdExtended(self, a, b):\n",
    "        if a == 0:\n",
    "            return b, 0, 1\n",
    "        \n",
    "        gcd, x1, y1 = self.gcdExtended(b%a, a)\n",
    "        \n",
    "        x = y1 - (b // a) * x1\n",
    "        y = x1\n",
    "        \n",
    "        return gcd, x, y\n",
    "\n",
    "def main():\n",
    "    sol = Solution()\n",
    "    print(sol.gcd(10, 15))\n",
    "    print(sol.gcdExtended(35, 15))\n",
    "    \n",
    "if __name__ == \"__main__\":\n",
    "    main()"
   ]
  }
 ],
 "metadata": {
  "kernelspec": {
   "display_name": "Python 3",
   "language": "python",
   "name": "python3"
  },
  "language_info": {
   "codemirror_mode": {
    "name": "ipython",
    "version": 3
   },
   "file_extension": ".py",
   "mimetype": "text/x-python",
   "name": "python",
   "nbconvert_exporter": "python",
   "pygments_lexer": "ipython3",
   "version": "3.7.3"
  }
 },
 "nbformat": 4,
 "nbformat_minor": 2
}
