{
 "cells": [
  {
   "cell_type": "markdown",
   "metadata": {},
   "source": [
    "# Top 10 Stack & Queue algorithms in interview questions\n",
    "\n",
    "For further references see https://www.geeksforgeeks.org/top-10-algorithms-in-interview-questions-set-2/"
   ]
  },
  {
   "cell_type": "markdown",
   "metadata": {},
   "source": [
    "# Next Greater Element\n",
    "\n",
    "Given an array, print the Next Greater Element (NGE) for every element. The Next greater Element for an element $x$ is the first greater element on the right side of $x$ in array. Elements for which no greater element exist, consider next greater element as -1.\n",
    "\n",
    "### Complexity Analysis\n",
    "This algorithm has time complexity of $\\mathcal{O}(n)$, where $n$ is the number of nodes in the array. The space complexity is $\\mathcal{O}(n)$."
   ]
  },
  {
   "cell_type": "code",
   "execution_count": 1,
   "metadata": {},
   "outputs": [
    {
     "name": "stdout",
     "output_type": "stream",
     "text": [
      "[-1, 12, 12, -1]\n",
      "[5, 25, 25, -1]\n",
      "[8, 5, 8, -1, -1, -1]\n"
     ]
    }
   ],
   "source": [
    "class Solution:\n",
    "    def nextGreater(self, arr):\n",
    "        n = len(arr)\n",
    "        nge = [-1] * n\n",
    "        stack = []\n",
    "        for i, a in enumerate(arr):\n",
    "            while stack and stack[-1][0] < a:\n",
    "                nge[stack.pop()[1]] = a\n",
    "            stack.append((a, i))\n",
    "        return nge\n",
    "        \n",
    "def main():\n",
    "    sol = Solution()\n",
    "    arr = [13, 7, 6, 12]\n",
    "    print(sol.nextGreater(arr))\n",
    "    arr = [4, 5, 2, 25]\n",
    "    print(sol.nextGreater(arr))\n",
    "    arr = [7,2,5,8,4,1]\n",
    "    print(sol.nextGreater(arr))\n",
    "\n",
    "if __name__ == \"__main__\":\n",
    "    main()"
   ]
  },
  {
   "cell_type": "markdown",
   "metadata": {},
   "source": [
    "# Check for balanced parentheses in an expression\n",
    "\n",
    "Given an expression string $exp$, write a program to examine whether the pairs and the orders of “{“,”}”,”(“,”)”,”[“,”]” are correct in exp.\n",
    "\n",
    "### Complexity Analysis\n",
    "This algorithm has time complexity of $\\mathcal{O}(n)$, where $n$ is the number of the characters of $exp$. The space complexity is $\\mathcal{O}(n)$."
   ]
  },
  {
   "cell_type": "code",
   "execution_count": 2,
   "metadata": {},
   "outputs": [
    {
     "name": "stdout",
     "output_type": "stream",
     "text": [
      "True\n"
     ]
    }
   ],
   "source": [
    "class Solution:\n",
    "    def checkBalance(self, exp):\n",
    "        match = {'}':'{', ')':'(', ']':'['}\n",
    "        stack = []\n",
    "        for c in exp:\n",
    "            if c in match.values():\n",
    "                stack.append(c)\n",
    "            elif c in match:\n",
    "                if not stack and match[c] != stack.pop():\n",
    "                    return False\n",
    "            else:\n",
    "                return False\n",
    "        return True\n",
    "        \n",
    "def main():\n",
    "    exp = '()[]{()}'\n",
    "    sol = Solution()\n",
    "    print(sol.checkBalance(exp))\n",
    "\n",
    "if __name__ == \"__main__\":\n",
    "    main()"
   ]
  },
  {
   "cell_type": "markdown",
   "metadata": {},
   "source": [
    "# The Stock Span Problem\n",
    "\n",
    "The stock span problem is a financial problem where we have a series of n daily price quotes for a stock and we need to calculate span of stock’s price for all n days.\n",
    "\n",
    "The span $S_i$ of the stock’s price on a given day $i$ is defined as the maximum number of consecutive days just before the given day, for which the price of the stock on the current day is less than or equal to its price on the given day.\n",
    "\n",
    "For example, if an array of 7 days prices is given as $[100, 80, 60, 70, 60, 75, 85]$, then the span values for corresponding 7 days are $[1, 1, 1, 2, 1, 4, 6]$.\n",
    "\n",
    "### Complexity Analysis\n",
    "This algorithm has time complexity of $\\mathcal{O}(n)$, where $n$ is the number of elements in the array. The space complexity is $\\mathcal{O}(n)$."
   ]
  },
  {
   "cell_type": "code",
   "execution_count": 3,
   "metadata": {},
   "outputs": [
    {
     "name": "stdout",
     "output_type": "stream",
     "text": [
      "[1, 1, 1, 2, 1, 4, 6]\n",
      "[1, 1, 2, 4, 5, 1]\n"
     ]
    }
   ],
   "source": [
    "class Solution:\n",
    "    def stockSpan(self, arr):\n",
    "        stack, stock = [], [1] * len(arr)\n",
    "        for i in range(len(arr))[::-1]:\n",
    "            while stack and stack[-1][0] < arr[i]:\n",
    "                ind = stack.pop()[1]\n",
    "                stock[ind] = ind - i\n",
    "            stack.append((arr[i], i))\n",
    "        while stack:\n",
    "            _, i = stack.pop()\n",
    "            if i:\n",
    "                stock[i] += i\n",
    "        return stock       \n",
    "        \n",
    "def main():\n",
    "    arr = [100, 80, 60, 70, 60, 75, 85]\n",
    "    sol = Solution()\n",
    "    print(sol.stockSpan(arr))\n",
    "    \n",
    "    arr = [10, 4, 5, 90, 120, 80]\n",
    "    print(sol.stockSpan(arr))\n",
    "\n",
    "if __name__ == \"__main__\":\n",
    "    main()"
   ]
  },
  {
   "cell_type": "markdown",
   "metadata": {},
   "source": [
    "# Implement Stack using Queues\n",
    "\n",
    "We are given a Queue data structure that supports standard operations like enqueue() and dequeue(). We need to implement a Stack data structure using only instances of Queue and queue operations allowed on the instances.\n",
    "\n",
    "### Complexity Analysis\n",
    "This algorithm has time and space complexity of $\\mathcal{O}(n)$."
   ]
  },
  {
   "cell_type": "code",
   "execution_count": 4,
   "metadata": {},
   "outputs": [
    {
     "name": "stdout",
     "output_type": "stream",
     "text": [
      "3\n",
      "2\n",
      "4\n",
      "1\n"
     ]
    }
   ],
   "source": [
    "from collections import deque\n",
    "class Stack:\n",
    "    def __init__(self):\n",
    "        self.q1 = deque()\n",
    "        self.q2 = deque()\n",
    "        \n",
    "    def pop(self):\n",
    "        if not self.q1:\n",
    "            print(\"Cannot pop from empty stack.\")\n",
    "            return None\n",
    "        \n",
    "        while len(self.q1) > 1:\n",
    "            self.q2.append(self.q1.popleft())\n",
    "        \n",
    "        self.q1, self.q2 = self.q2, self.q1\n",
    "        \n",
    "        return self.q2.popleft()\n",
    "    \n",
    "    def push(self, x):\n",
    "        self.q1.append(x)\n",
    "        return\n",
    "        \n",
    "def main():\n",
    "    stack = Stack()\n",
    "    stack.push(1)\n",
    "    stack.push(2)\n",
    "    stack.push(3)\n",
    "    print(stack.pop())\n",
    "    print(stack.pop())\n",
    "    stack.push(4)\n",
    "    print(stack.pop())\n",
    "    print(stack.pop())\n",
    "\n",
    "if __name__ == \"__main__\":\n",
    "    main()"
   ]
  },
  {
   "cell_type": "markdown",
   "metadata": {},
   "source": [
    "# Queue using Stacks\n",
    "\n",
    " We are given a stack data structure with push and pop operations, the task is to implement a queue using instances of stack data structure and operations on them.\n",
    "\n",
    "### Complexity Analysis\n",
    "This algorithm has time and space complexity of $\\mathcal{O}(n)$."
   ]
  },
  {
   "cell_type": "code",
   "execution_count": 5,
   "metadata": {},
   "outputs": [
    {
     "name": "stdout",
     "output_type": "stream",
     "text": [
      "1\n",
      "2\n",
      "3\n",
      "4\n"
     ]
    }
   ],
   "source": [
    "class Queue:\n",
    "    def __init__(self):\n",
    "        self.s1 = []\n",
    "        self.s2 = []\n",
    "        \n",
    "    def dequeue(self):\n",
    "        if not self.s1:\n",
    "            print(\"Cannot enqueue from empty queue.\")\n",
    "            return None\n",
    "        \n",
    "        while len(self.s1) > 1:\n",
    "            self.s2.append(self.s1.pop())\n",
    "        \n",
    "        tmp = self.s1.pop()\n",
    "        \n",
    "        while self.s2:\n",
    "            self.s1.append(self.s2.pop())\n",
    "        \n",
    "        return tmp\n",
    "    \n",
    "    def enqueue(self, x):\n",
    "        self.s1.append(x)\n",
    "        return\n",
    "        \n",
    "def main():\n",
    "    queue = Queue()\n",
    "    queue.enqueue(1)\n",
    "    queue.enqueue(2)\n",
    "    queue.enqueue(3)\n",
    "    print(queue.dequeue())\n",
    "    print(queue.dequeue())\n",
    "    queue.enqueue(4)\n",
    "    print(queue.dequeue())\n",
    "    print(queue.dequeue())\n",
    "\n",
    "if __name__ == \"__main__\":\n",
    "    main()"
   ]
  },
  {
   "cell_type": "markdown",
   "metadata": {},
   "source": [
    "# Implement two stacks in an array\n",
    "\n",
    "Create a data structure twoStacks that represents two stacks. Implementation of twoStacks should use only one array, i.e., both stacks should use the same array for storing elements. Following functions must be supported by twoStacks.\n",
    "\n",
    "    push1(int x) –> pushes x to first stack\n",
    "    push2(int x) –> pushes x to second stack\n",
    "\n",
    "    pop1() –> pops an element from first stack and return the popped element\n",
    "    pop2() –> pops an element from second stack and return the popped element\n",
    "\n",
    "Implementation of twoStack should be space efficient.\n",
    "\n",
    "### Complexity Analysis\n",
    "This algorithm has time complexity of $\\mathcal{O}(n)$ where $n$ is the number of nodes in the list. The space complexity is $\\mathcal{O}(1)$."
   ]
  },
  {
   "cell_type": "code",
   "execution_count": 6,
   "metadata": {},
   "outputs": [
    {
     "name": "stdout",
     "output_type": "stream",
     "text": [
      "Stack empty.\n",
      "None\n",
      "Stack is full.\n",
      "10\n",
      "9\n",
      "Stack is full.\n",
      "12\n",
      "3\n",
      "8\n",
      "7\n"
     ]
    }
   ],
   "source": [
    "class Solution:\n",
    "    def __init__(self):\n",
    "        self.capacity = 10\n",
    "        self.arr = [0] * self.capacity\n",
    "        self.s1 = 0\n",
    "        self.s2 = 0\n",
    "        self.l, self.r = 0, self.capacity - 1\n",
    "        \n",
    "    def isFull(self):\n",
    "        if self.s1 + self.s2 == self.capacity:\n",
    "            return True\n",
    "        return False\n",
    "    \n",
    "    def push1(self, x):\n",
    "        if self.isFull():\n",
    "            print(\"Stack is full.\")\n",
    "        else:\n",
    "            self.arr[self.l] = x\n",
    "            self.l += 1\n",
    "            self.s1 += 1\n",
    "        return\n",
    "    \n",
    "    def push2(self, x):\n",
    "        if self.isFull():\n",
    "            print(\"Stack is full.\")\n",
    "        else:\n",
    "            self.arr[self.r] = x\n",
    "            self.r -= 1\n",
    "            self.s2 += 1\n",
    "        return\n",
    "    \n",
    "    def pop1(self):\n",
    "        if self.s1:\n",
    "            self.l -= 1\n",
    "            self.s1 -= 1\n",
    "            return self.arr[self.l]\n",
    "        else:\n",
    "            print(\"Stack empty.\")\n",
    "            return None\n",
    "    \n",
    "    def pop2(self):\n",
    "        if self.s2:\n",
    "            self.r += 1\n",
    "            self.s2 -= 1\n",
    "            return self.arr[self.r]\n",
    "        else:\n",
    "            print(\"Stack empty.\")\n",
    "            return None\n",
    "        \n",
    "    def printArr(self):\n",
    "        print(self.arr)\n",
    "    \n",
    "        \n",
    "def main():\n",
    "    stack = Solution()\n",
    "    print(stack.pop1())\n",
    "    stack.push1(1)\n",
    "    stack.push1(2)\n",
    "    stack.push1(3)\n",
    "    stack.push1(4)\n",
    "    stack.push1(5)\n",
    "    stack.push1(6)\n",
    "    stack.push1(7)\n",
    "    stack.push1(8)\n",
    "    stack.push1(9)\n",
    "    stack.push1(10)\n",
    "    stack.push1(10)\n",
    "    print(stack.pop1())\n",
    "    print(stack.pop1())\n",
    "    stack.push2(3)\n",
    "    stack.push2(12)\n",
    "    stack.push2(10)\n",
    "    print(stack.pop2())\n",
    "    print(stack.pop2())\n",
    "    print(stack.pop1())\n",
    "    print(stack.pop1())\n",
    "\n",
    "    \n",
    "    \n",
    "\n",
    "if __name__ == \"__main__\":\n",
    "    main()"
   ]
  },
  {
   "cell_type": "markdown",
   "metadata": {},
   "source": [
    "# How to efficiently implement k stacks in a single array?\n",
    "\n",
    "We have discussed space efficient implementation of 2 stacks in a single array. In this post, a general solution for k stacks is discussed. Following is the detailed problem statement.\n",
    "\n",
    "Create a data structure kStacks that represents k stacks. Implementation of kStacks should use only one array, i.e., k stacks should use the same array for storing elements. Following functions must be supported by kStacks.\n",
    "\n",
    "push(int x, int sn) –> pushes x to stack number ‘sn’ where sn is from 0 to k-1\n",
    "pop(int sn) –> pops an element from stack number ‘sn’ where sn is from 0 to k-1\n",
    "\n",
    "\n",
    "### Complexity Analysis\n",
    "This algorithm has time and space complexity of $\\mathcal{O}(n+m)$, where $m$ and $n$ are the number of nodes in each list."
   ]
  },
  {
   "cell_type": "code",
   "execution_count": 7,
   "metadata": {},
   "outputs": [
    {
     "name": "stdout",
     "output_type": "stream",
     "text": [
      "None\n"
     ]
    }
   ],
   "source": [
    "class Solution:\n",
    "    def name(self):\n",
    "        pass\n",
    "        \n",
    "def main():\n",
    "    sol = Solution()\n",
    "    print(sol.name())\n",
    "\n",
    "if __name__ == \"__main__\":\n",
    "    main()"
   ]
  },
  {
   "cell_type": "markdown",
   "metadata": {},
   "source": [
    "# Design a stack that supports getMin() in O(1) time and O(1) extra space\n",
    "\n",
    "Design a Data Structure SpecialStack that supports all the stack operations like push(), pop(), isEmpty(), isFull() and an additional operation getMin() which should return minimum element from the SpecialStack. All these operations of SpecialStack must be O(1). To implement SpecialStack, you should only use standard Stack data structure and no other data structure like arrays, list, .. etc.\n",
    "\n",
    "### Complexity Analysis\n",
    "This algorithm has time complexity of $\\mathcal{O}(n)$, where $n$ is the number of nodes in the list. The space complexity is $\\mathcal{O}(1)$."
   ]
  },
  {
   "cell_type": "code",
   "execution_count": 8,
   "metadata": {},
   "outputs": [
    {
     "name": "stdout",
     "output_type": "stream",
     "text": [
      "3\n",
      "1\n",
      "2\n",
      "5\n"
     ]
    }
   ],
   "source": [
    "class MinStack:\n",
    "\n",
    "    def __init__(self):\n",
    "        self.stack = []\n",
    "        self.minEle = None\n",
    "\n",
    "    def push(self, x: int) -> None:\n",
    "        if not self.stack:\n",
    "            self.stack.append(x)\n",
    "            self.minEle = x\n",
    "        else:\n",
    "            if x >= self.minEle:\n",
    "                self.stack.append(x)\n",
    "            else:\n",
    "                self.stack.append(2 * x - self.minEle)\n",
    "                self.minEle = x\n",
    "\n",
    "    def pop(self) -> None:\n",
    "        if self.stack:\n",
    "            x = self.stack.pop()\n",
    "            if x < self.minEle:\n",
    "                self.minEle = 2 * self.minEle - x\n",
    "        if not self.stack:\n",
    "            self.minEle = None\n",
    "        \n",
    "    def top(self) -> int:\n",
    "        return self.stack[-1]\n",
    "\n",
    "    def getMin(self) -> int:\n",
    "        return self.minEle\n",
    "        \n",
    "def main():\n",
    "    stack = MinStack()  \n",
    "    stack.push(3) \n",
    "    stack.push(5)  \n",
    "    print(stack.getMin() )\n",
    "    stack.push(2) \n",
    "    stack.push(1) \n",
    "    print(stack.getMin())      \n",
    "    stack.pop() \n",
    "    print(stack.getMin()) \n",
    "    stack.pop()  \n",
    "    print(stack.top())\n",
    "\n",
    "if __name__ == \"__main__\":\n",
    "    main()"
   ]
  },
  {
   "cell_type": "markdown",
   "metadata": {},
   "source": [
    "# LRU Cache Implementation\n",
    "\n",
    "We are given total possible page numbers that can be referred. We are also given cache (or memory) size (Number of page frames that cache can hold at a time). The LRU caching scheme is to remove the least recently used frame when the cache is full and a new page is referenced which is not there in cache.\n",
    "\n",
    "### Complexity Analysis\n",
    "The time complexity of this algorithm is $\\mathcal{O}(n \\log n)$, where $n$ is the number of elements in the list. The space complexity is $\\mathcal{O}(\\log n)$."
   ]
  },
  {
   "cell_type": "code",
   "execution_count": 9,
   "metadata": {},
   "outputs": [
    {
     "name": "stdout",
     "output_type": "stream",
     "text": [
      "-1\n"
     ]
    }
   ],
   "source": [
    "from collections import OrderedDict\n",
    "class LRUCache(OrderedDict):\n",
    "\n",
    "    def __init__(self, capacity):\n",
    "        self.capacity = capacity\n",
    "\n",
    "    def get(self, key):\n",
    "        if key not in self:\n",
    "            return - 1\n",
    "        self.move_to_end(key)\n",
    "        return self[key]\n",
    "\n",
    "    def put(self, key, value):\n",
    "        if key in self:\n",
    "            self.move_to_end(key)\n",
    "        self[key] = value\n",
    "        if len(self) > self.capacity:\n",
    "            self.popitem(last = False)\n",
    "        \n",
    "def main():\n",
    "    LRU = LRUCache(5)\n",
    "\n",
    "    LRU.put(1, 1)\n",
    "    LRU.put(2, 2)\n",
    "    LRU.put(3, 2)\n",
    "    LRU.put(1, 2)\n",
    "    LRU.put(4, 1)\n",
    "    LRU.put(5, 3)\n",
    "    print(LRU.get(7))\n",
    "\n",
    "if __name__ == \"__main__\":\n",
    "    main()"
   ]
  }
 ],
 "metadata": {
  "kernelspec": {
   "display_name": "Python 3",
   "language": "python",
   "name": "python3"
  },
  "language_info": {
   "codemirror_mode": {
    "name": "ipython",
    "version": 3
   },
   "file_extension": ".py",
   "mimetype": "text/x-python",
   "name": "python",
   "nbconvert_exporter": "python",
   "pygments_lexer": "ipython3",
   "version": "3.7.3"
  }
 },
 "nbformat": 4,
 "nbformat_minor": 2
}
