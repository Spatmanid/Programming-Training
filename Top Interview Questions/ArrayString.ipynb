{
 "cells": [
  {
   "cell_type": "markdown",
   "metadata": {},
   "source": [
    "# Top 10 Array and String algorithms in interview questions\n",
    "\n",
    "For further references see https://www.geeksforgeeks.org/top-10-algorithms-in-interview-questions/"
   ]
  },
  {
   "cell_type": "markdown",
   "metadata": {},
   "source": [
    "# Reverse a string without affecting special characters\n",
    "\n",
    "Given a string, that contains special character together with alphabets (‘a’ to ‘z’ and ‘A’ to ‘Z’), reverse the string in a way that special characters are not affected.\n",
    "\n",
    "### Complexity Analysis\n",
    "This algorithm has time complexity of $\\mathcal{O}(n)$."
   ]
  },
  {
   "cell_type": "code",
   "execution_count": 1,
   "metadata": {},
   "outputs": [
    {
     "name": "stdout",
     "output_type": "stream",
     "text": [
      "Input string: a!!!b.c.d,e'f,ghi\n",
      "Output string: i!!!h.g.f,e'd,cba\n"
     ]
    }
   ],
   "source": [
    "class Solution:\n",
    "    def reverseString(self, text):\n",
    "        stack = list(text)\n",
    "        l, r = 0, len(stack)-1\n",
    "        while l < r:\n",
    "            while l < r and not stack[r].isalpha():\n",
    "                r -= 1\n",
    "            while l < r and not stack[l].isalpha():\n",
    "                l += 1\n",
    "            stack[l], stack[r] = stack[r], stack[l]\n",
    "            l += 1\n",
    "            r -= 1\n",
    "        return ''.join(stack)\n",
    "    \n",
    "def main():\n",
    "    text = \"a!!!b.c.d,e'f,ghi\"\n",
    "    sol = Solution()\n",
    "    print(\"Input string:\", text)\n",
    "    print(\"Output string:\", sol.reverseString(text))\n",
    "      \n",
    "if __name__ == \"__main__\":\n",
    "    main()"
   ]
  },
  {
   "cell_type": "markdown",
   "metadata": {},
   "source": [
    "# Given a string, print all possible palindromic partitions\n",
    "\n",
    "Given a string, find all possible palindromic partitions of given string."
   ]
  },
  {
   "cell_type": "code",
   "execution_count": 2,
   "metadata": {},
   "outputs": [
    {
     "name": "stdout",
     "output_type": "stream",
     "text": [
      "['n', 'o', 'i', 't', 'i', 'o', 'n']\n",
      "['n', 'o', 'iti', 'o', 'n']\n",
      "['n', 'oitio', 'n']\n",
      "['noition']\n"
     ]
    }
   ],
   "source": [
    "class Solution:\n",
    "    def __init__(self):\n",
    "        self.result = []\n",
    "    \n",
    "    def allPalindromicPartitions(self, text, l, r):\n",
    "        if(l > r):\n",
    "            print(self.result)\n",
    "            return\n",
    "        for i in range(l, r+1):\n",
    "            if text[l:i+1] == text[l:i+1][::-1]:\n",
    "                self.result.append(text[l:i+1])\n",
    "                self.allPalindromicPartitions(text, i+1, r)\n",
    "                self.result.pop()\n",
    "                \n",
    "def main():\n",
    "    text = 'noition'\n",
    "    sol = Solution()\n",
    "    sol.allPalindromicPartitions(text, 0, len(text)-1)\n",
    "    \n",
    "if __name__ == \"__main__\":\n",
    "    main()"
   ]
  },
  {
   "cell_type": "markdown",
   "metadata": {},
   "source": [
    "# Count triplets with sum smaller than a given value\n",
    "\n",
    "Given an array of distinct integers and a sum value. Find count of triplets with sum smaller than given sum value. Expected Time Complexity is $\\mathcal{O}(n^2)$.\n",
    "\n",
    "\n",
    "### Complexity Analysis\n",
    "This algorithm has time complexity of $\\mathcal{O}(n^2)$."
   ]
  },
  {
   "cell_type": "code",
   "execution_count": 3,
   "metadata": {},
   "outputs": [
    {
     "name": "stdout",
     "output_type": "stream",
     "text": [
      "4\n"
     ]
    }
   ],
   "source": [
    "class Solution:\n",
    "    def countTriplets(self, arr, target):\n",
    "        n = len(arr)\n",
    "        arr.sort()\n",
    "        count = 0\n",
    "        for i in range(0, n-2):\n",
    "            l = i + 1\n",
    "            r = n - 1\n",
    "            while l < r:\n",
    "                if arr[i] + arr[l] + arr[r] >= target:\n",
    "                    r -= 1\n",
    "                else:\n",
    "                    count += r - l\n",
    "                    l += 1\n",
    "        return count\n",
    "    \n",
    "def main():\n",
    "    arr = [5, 1, 3, 4, 7]\n",
    "    target = 12\n",
    "    sol = Solution()\n",
    "    print(sol.countTriplets(arr, target))\n",
    "      \n",
    "if __name__ == \"__main__\":\n",
    "    main()"
   ]
  },
  {
   "cell_type": "markdown",
   "metadata": {},
   "source": [
    "# Convert array into Zig-Zag fashion\n",
    "\n",
    "Given an array of DISTINCT elements, rearrange the elements of array in zig-zag fashion in O(n) time. The converted array should be in form $ a < b > c < d > e < f$. \n",
    "\n",
    "\n",
    "### Complexity Analysis\n",
    "This algorithm has time complexity of $\\mathcal{O}(n)$."
   ]
  },
  {
   "cell_type": "code",
   "execution_count": 4,
   "metadata": {},
   "outputs": [
    {
     "name": "stdout",
     "output_type": "stream",
     "text": [
      "[3, 7, 4, 8, 2, 6, 1]\n"
     ]
    }
   ],
   "source": [
    "class Solution:\n",
    "    def zigzag(self, arr):\n",
    "        n = len(arr)\n",
    "        flag = True\n",
    "        for i in range(n-1):\n",
    "            if flag:\n",
    "                if arr[i] > arr[i+1]:\n",
    "                    arr[i], arr[i+1] = arr[i+1], arr[i]\n",
    "            else:\n",
    "                if arr[i] < arr[i+1]:\n",
    "                    arr[i], arr[i+1] = arr[i+1], arr[i]\n",
    "            flag = bool(1 - flag)\n",
    "        return arr\n",
    "    \n",
    "def main():\n",
    "    arr = [4, 3, 7, 8, 6, 2, 1]\n",
    "    sol = Solution()\n",
    "    print(sol.zigzag(arr))\n",
    "      \n",
    "if __name__ == \"__main__\":\n",
    "    main()"
   ]
  },
  {
   "cell_type": "markdown",
   "metadata": {},
   "source": [
    "# Generate all possible sorted arrays from alternate elements of two given sorted arrays\n",
    "\n",
    "Given two sorted arrays A and B, generate all possible arrays such that first element is taken from A then from B then from A and so on in increasing order till the arrays exhausted. The generated arrays should end with an element from B.\n",
    "\n",
    "### Complexity Analysis\n",
    "This algorithm has time complexity of $\\mathcal{O}(n * 2^n)$."
   ]
  },
  {
   "cell_type": "code",
   "execution_count": 5,
   "metadata": {},
   "outputs": [
    {
     "name": "stdout",
     "output_type": "stream",
     "text": [
      "10 20 \n",
      "10 20 25 30 \n",
      "10 30 \n",
      "15 20 \n",
      "15 20 25 30 \n",
      "15 30 \n",
      "25 30 \n"
     ]
    }
   ],
   "source": [
    "class Solution:\n",
    "    def generate(self, A, B, m, n):\n",
    "        C = []\n",
    "        for i in range(m+n+1):\n",
    "            C.append(0)\n",
    "        self.generateUtil(A, B, C, 0, 0, m, n, 0, True)\n",
    "        \n",
    "    def generateUtil(self, A, B, C, i, j, m, n, curLen, flag):\n",
    "        if flag:\n",
    "            if curLen:\n",
    "                self.printArr(C, curLen+1)\n",
    "            for k in range(i, m):\n",
    "                if not curLen:\n",
    "                    C[curLen] = A[k]\n",
    "                    self.generateUtil(A, B, C, k+1, j, m, n, curLen, not flag)\n",
    "                else:\n",
    "                    if A[k] > C[curLen]:\n",
    "                        C[curLen+1] = A[k]\n",
    "                        self.generateUtil(A, B, C, k+1, j, m, n, curLen+1, not flag)\n",
    "        else:\n",
    "            for l in range(j, n):\n",
    "                if B[l] > C[curLen]: \n",
    "                    C[curLen+1] = B[l] \n",
    "                    self.generateUtil(A, B, C, i, l+1, m, n, curLen+1, not flag) \n",
    "\n",
    "    def printArr(self, arr, n):\n",
    "        for i in range(n): \n",
    "            print(arr[i] , end=\" \") \n",
    "        print() \n",
    "    \n",
    "def main():\n",
    "    A = [10, 15, 25]\n",
    "    B = [5, 20, 30]\n",
    "    sol = Solution()\n",
    "    sol.generate(A, B, len(A), len(B))\n",
    "      \n",
    "if __name__ == \"__main__\":\n",
    "    main()"
   ]
  },
  {
   "cell_type": "markdown",
   "metadata": {},
   "source": [
    "# Pythagorean Triplet in an array\n",
    "\n",
    "Given an array of integers, write a function that returns true if there is a triplet $(a, b, c)$ that satisfies $a^2 + b^2 = c^2$.\n",
    "\n",
    "### Complexity Analysis\n",
    "\n",
    "This algorithm has time complexity of $\\mathcal{O}(n^2)$."
   ]
  },
  {
   "cell_type": "code",
   "execution_count": 6,
   "metadata": {},
   "outputs": [
    {
     "name": "stdout",
     "output_type": "stream",
     "text": [
      "True\n"
     ]
    }
   ],
   "source": [
    "class Solution:\n",
    "    def isTriplet(self, arr):\n",
    "        n = len(arr)\n",
    "        arr.sort()\n",
    "        for i in range(n):\n",
    "            arr[i] *= arr[i]\n",
    "        for i in range(2, n):\n",
    "            l, r = 0, i - 1\n",
    "            while l < r:\n",
    "                if arr[i] == arr[l] + arr[r]:\n",
    "                    return True\n",
    "                elif arr[i] > arr[l] + arr[r]:\n",
    "                    l += 1\n",
    "                else:\n",
    "                    r -= 1\n",
    "        return False\n",
    "    \n",
    "def main():\n",
    "    arr = [3, 1, 4, 6, 5]\n",
    "    sol = Solution()\n",
    "    print(sol.isTriplet(arr))\n",
    "      \n",
    "if __name__ == \"__main__\":\n",
    "    main()\n"
   ]
  },
  {
   "cell_type": "markdown",
   "metadata": {},
   "source": [
    "# Length of the largest subarray with contiguous elements\n",
    "\n",
    "Given an array of distinct integers, find length of the longest subarray which contains numbers that can be arranged in a continuous sequence. \n",
    "\n",
    "### Complexity Analysis\n",
    "This algorithm has time complexity of $\\mathcal{O}(n^2)$."
   ]
  },
  {
   "cell_type": "code",
   "execution_count": 7,
   "metadata": {},
   "outputs": [
    {
     "name": "stdout",
     "output_type": "stream",
     "text": [
      "The length of the longest contiguous subarray is 5\n"
     ]
    }
   ],
   "source": [
    "class Solution:\n",
    "    def largestSubarray(self, arr):\n",
    "        largest = 1\n",
    "        for i in range(1, len(arr)):\n",
    "            min_v = arr[i]\n",
    "            max_v = arr[i]\n",
    "            for j in range(i)[::-1]:\n",
    "                min_v = min(min_v, arr[j])\n",
    "                max_v = max(max_v, arr[j])\n",
    "                if max_v - min_v == i - j:\n",
    "                    largest = max(largest, i - j + 1)\n",
    "        return largest\n",
    "    \n",
    "def main():\n",
    "    arr = [1, 56, 58, 57, 90, 92, 94, 93, 91, 45]\n",
    "    sol = Solution()\n",
    "    print(\"The length of the longest contiguous subarray is\",sol.largestSubarray(arr))\n",
    "      \n",
    "if __name__ == \"__main__\":\n",
    "    main()"
   ]
  },
  {
   "cell_type": "markdown",
   "metadata": {},
   "source": [
    "# Find the smallest positive integer value that cannot be represented as sum of any subset of a given array\n",
    "\n",
    "Given a sorted array (sorted in non-decreasing order) of positive numbers, find the smallest positive integer value that cannot be represented as sum of elements of any subset of given set. Expected time complexity is O(n).\n",
    "\n",
    "### Complexity Analysis\n",
    "This algorithm has time complexity of $\\mathcal{O}(n)$."
   ]
  },
  {
   "cell_type": "code",
   "execution_count": 8,
   "metadata": {},
   "outputs": [
    {
     "name": "stdout",
     "output_type": "stream",
     "text": [
      "2\n",
      "4\n",
      "5\n",
      "10\n"
     ]
    }
   ],
   "source": [
    "class Solution:\n",
    "    def findSmallest(self, arr):\n",
    "        res = 1\n",
    "        for cur in arr:\n",
    "            if cur > res:\n",
    "                return res\n",
    "            res += cur\n",
    "        return res\n",
    "    \n",
    "def main():\n",
    "    sol = Solution()\n",
    "    arr1 = [1, 3, 4, 5]\n",
    "    print(sol.findSmallest(arr1))\n",
    "    arr2 = [1, 2, 6, 10, 11, 15]\n",
    "    print(sol.findSmallest(arr2))\n",
    "    arr3 = [1, 1, 1, 1]\n",
    "    print(sol.findSmallest(arr3))\n",
    "    arr4 = [1, 1, 3, 4]\n",
    "    print(sol.findSmallest(arr4))\n",
    "      \n",
    "if __name__ == \"__main__\":\n",
    "    main()"
   ]
  },
  {
   "cell_type": "markdown",
   "metadata": {},
   "source": [
    "# Smallest subarray with sum greater than a given value\n",
    "\n",
    "Given an array of integers and a number x, find the smallest subarray with sum greater than the given value.\n",
    "\n",
    "### Complexity Analysis\n",
    "This algorithm has expected time complexity of $\\mathcal{O}(n)$."
   ]
  },
  {
   "cell_type": "code",
   "execution_count": 9,
   "metadata": {},
   "outputs": [
    {
     "name": "stdout",
     "output_type": "stream",
     "text": [
      "3\n",
      "1\n",
      "4\n"
     ]
    }
   ],
   "source": [
    "class Solution:\n",
    "    def smallestSubWithSum(self, arr, target):\n",
    "        n = len(arr)\n",
    "        curSum, minLen = 0, n + 1\n",
    "        l = r = 0\n",
    "        while r < n:\n",
    "            while curSum <= target and r < n:\n",
    "                curSum += arr[r]\n",
    "                r += 1\n",
    "            \n",
    "            while curSum > target and l <= r:\n",
    "                minLen = min(minLen, r - l)\n",
    "                curSum -= arr[l]\n",
    "                l += 1\n",
    "        return minLen\n",
    "    \n",
    "def main():\n",
    "    sol = Solution()\n",
    "    arr1 = [1, 4, 45, 6, 10, 19]\n",
    "    print(sol.smallestSubWithSum(arr1, 51))\n",
    "    arr2 = [1, 10, 5, 2, 7]\n",
    "    print(sol.smallestSubWithSum(arr2, 9))\n",
    "    arr3 = [1, 11, 100, 1, 0, 200, 3, 2, 1, 250 ]\n",
    "    print(sol.smallestSubWithSum(arr3, 280))\n",
    "\n",
    "      \n",
    "if __name__ == \"__main__\":\n",
    "    main()"
   ]
  },
  {
   "cell_type": "markdown",
   "metadata": {},
   "source": [
    "# Stock Buy Sell to Maximize Profit\n",
    "\n",
    "The cost of a stock on each day is given in an array, find the max profit that you can make by buying and selling in those days. For example, if the given array is {100, 180, 260, 310, 40, 535, 695}, the maximum profit can earned by buying on day 0, selling on day 3. Again buy on day 4 and sell on day 6. If the given array of prices is sorted in decreasing order, then profit cannot be earned at all.\n",
    "\n",
    "### Complexity Analysis\n",
    "The time complexity of this algorithm is $\\mathcal{O}(n)$."
   ]
  },
  {
   "cell_type": "code",
   "execution_count": 10,
   "metadata": {},
   "outputs": [
    {
     "name": "stdout",
     "output_type": "stream",
     "text": [
      "The maximum attainable profit is 865\n"
     ]
    }
   ],
   "source": [
    "class Solution:\n",
    "    def maximizeProfit(self, prices):\n",
    "        max_profit = 0\n",
    "        for i in range(1, len(prices)):\n",
    "            if prices[i] > prices[i-1]:\n",
    "                max_profit += prices[i] - prices[i-1]\n",
    "        return max_profit\n",
    "    \n",
    "def main():\n",
    "    prices = [100, 180, 260, 310, 40, 535, 695]\n",
    "    sol = Solution()\n",
    "    print(\"The maximum attainable profit is\", sol.maximizeProfit(prices))\n",
    "      \n",
    "if __name__ == \"__main__\":\n",
    "    main()"
   ]
  }
 ],
 "metadata": {
  "kernelspec": {
   "display_name": "Python 3",
   "language": "python",
   "name": "python3"
  },
  "language_info": {
   "codemirror_mode": {
    "name": "ipython",
    "version": 3
   },
   "file_extension": ".py",
   "mimetype": "text/x-python",
   "name": "python",
   "nbconvert_exporter": "python",
   "pygments_lexer": "ipython3",
   "version": "3.7.3"
  }
 },
 "nbformat": 4,
 "nbformat_minor": 2
}
