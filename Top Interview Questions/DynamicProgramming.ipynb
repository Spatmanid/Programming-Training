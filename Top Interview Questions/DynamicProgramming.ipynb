{
 "cells": [
  {
   "cell_type": "markdown",
   "metadata": {},
   "source": [
    "# Top 10 Dynamic Programming algorithms in interview questions\n",
    "\n",
    "For further references see https://www.geeksforgeeks.org/top-10-algorithms-in-interview-questions/"
   ]
  },
  {
   "cell_type": "markdown",
   "metadata": {},
   "source": [
    "# Longest common subsequence\n",
    "\n",
    "Given two strings, find longest common subsequence between them.\n",
    "\n",
    "### Complexity Analysis\n",
    "This solution has time and space complexity of $\\mathcal{O}(m \\cdot n)$, where $m$ is the length of the first string and $n$ is the length of the second string."
   ]
  },
  {
   "cell_type": "code",
   "execution_count": 1,
   "metadata": {},
   "outputs": [
    {
     "name": "stdout",
     "output_type": "stream",
     "text": [
      "The length of LCS is: 4\n"
     ]
    }
   ],
   "source": [
    "class LCS:\n",
    "    def findLCS(self, s1, s2):\n",
    "        if not s1 or not s2: return ''\n",
    "        m, n = len(s1), len(s2)\n",
    "        dp = [[0] * (n+1) for _ in range(m+1)]\n",
    "        for i in range(1, m+1):\n",
    "            for j in range(1, n+1):\n",
    "                if s1[i-1] == s2[j-1]:\n",
    "                    dp[i][j] = dp[i-1][j-1] + 1\n",
    "                else:\n",
    "                    dp[i][j] = max(dp[i][j-1], dp[i-1][j])\n",
    "        return dp[m][n]             \n",
    "    \n",
    "def main():\n",
    "    s1 = 'abcdef'\n",
    "    s2 = 'acepf'\n",
    "    lcs = LCS()\n",
    "    \n",
    "    print(\"The length of LCS is:\", lcs.findLCS(s1, s2))\n",
    "    \n",
    "if __name__ == \"__main__\":\n",
    "    main()"
   ]
  },
  {
   "cell_type": "markdown",
   "metadata": {},
   "source": [
    "# Longest increasing subsequence\n",
    "\n",
    "Given an unsorted array of integers, find the length of longest increasing subsequence.\n",
    "\n",
    "### Complexity Analysis\n",
    "This algorithm has time complexity of $\\mathcal{O}(n^2)$ where $n$ is the number of elements in the array. The space complexity is $\\mathcal{O}(n)$.\n",
    "This problem can also be solved in $\\mathcal{O}(n \\log n)$ time."
   ]
  },
  {
   "cell_type": "code",
   "execution_count": 2,
   "metadata": {},
   "outputs": [
    {
     "name": "stdout",
     "output_type": "stream",
     "text": [
      "The length of LIS is: 4\n",
      "The length of LIS is: 4\n"
     ]
    }
   ],
   "source": [
    "class LIS:\n",
    "    def lengthOfLIS_1(self, nums):\n",
    "        if not nums: return 0\n",
    "        n, longest = len(nums), 1\n",
    "        dp = [1] * n\n",
    "        for i in range(1, n):\n",
    "            for j in range(i):\n",
    "                if nums[i] > nums[j]:\n",
    "                    dp[i] = max(dp[i], dp[j]+1)\n",
    "            longest = max(longest, dp[i])\n",
    "        return longest\n",
    "    \n",
    "    def lengthOfLIS_2(self, nums):\n",
    "        if not nums: return 0\n",
    "        n, size = len(nums), 0\n",
    "        dp = [0] * n\n",
    "        for num in nums:\n",
    "            i, j = 0, size\n",
    "            while i != j:\n",
    "                m = (i + j) // 2\n",
    "                if num > dp[m]:\n",
    "                    i = m + 1\n",
    "                else:\n",
    "                    j = m\n",
    "            dp[i] = num\n",
    "            size = max(size, i+1)\n",
    "        return size\n",
    "        \n",
    "def main():\n",
    "    nums = [11,8,2,6,4,7,77,21]\n",
    "    lis = LIS()\n",
    "    print(\"The length of LIS is:\", lis.lengthOfLIS_1(nums))\n",
    "    print(\"The length of LIS is:\", lis.lengthOfLIS_2(nums))    \n",
    "    \n",
    "if __name__ == \"__main__\":\n",
    "    main()"
   ]
  },
  {
   "cell_type": "markdown",
   "metadata": {},
   "source": [
    "# Edit Distance\n",
    "\n",
    "Given two strings how many minimum edits(update, delete or add) is needed to convert one string to another\n",
    "\n",
    "\n",
    "### Complexity Analysis\n",
    "This algorithm has time complexity of $\\mathcal{O}(N \\cdot M)$ and space complexity of $\\mathcal{O}(N \\cdot M)$."
   ]
  },
  {
   "cell_type": "code",
   "execution_count": 3,
   "metadata": {},
   "outputs": [
    {
     "name": "stdout",
     "output_type": "stream",
     "text": [
      "The distance that needs to be edited is: 3\n"
     ]
    }
   ],
   "source": [
    "class ED:\n",
    "    def editDistance(self, s1, s2):\n",
    "        m, n = len(s1), len(s2)\n",
    "        dp = [[0] * (n+1) for _ in range(m+1)]\n",
    "        for i in range(1, m+1):\n",
    "            dp[i][0] = i\n",
    "        for j in range(1, n+1):\n",
    "            dp[0][j] = j\n",
    "        for i in range(1, m+1):\n",
    "            for j in range(1, n+1):\n",
    "                if s1[i-1] == s2[j-1]:\n",
    "                    dp[i][j] = dp[i-1][j-1]\n",
    "                else:\n",
    "                    dp[i][j] = min(dp[i-1][j-1], dp[i][j-1], dp[i-1][j]) + 1\n",
    "        return dp[m][n]\n",
    "        \n",
    "def main():\n",
    "    s1, s2 = 'saturday', 'sunday'\n",
    "    ed = ED()\n",
    "    print(\"The distance that needs to be edited is:\", ed.editDistance(s1, s2))\n",
    "    \n",
    "if __name__ == \"__main__\":\n",
    "    main()"
   ]
  },
  {
   "cell_type": "markdown",
   "metadata": {},
   "source": [
    "# Partition a set into two subsets such that the difference of subset sums is minimum\n",
    "\n",
    "Partition a set into two subsets such that the difference of subset sums is minimum\n",
    "\n",
    "### Complexity Analysis\n",
    "This algorithm has time and space complexity of $\\mathcal{O}(N \\cdot S)$, where $N$ represents total items and $S$ is the half of the array's summation."
   ]
  },
  {
   "cell_type": "code",
   "execution_count": 4,
   "metadata": {},
   "outputs": [
    {
     "name": "stdout",
     "output_type": "stream",
     "text": [
      "The minimum difference is: 1\n"
     ]
    }
   ],
   "source": [
    "class MSP:\n",
    "    def bestHalf(self, nums):\n",
    "        half = sum(nums) // 2\n",
    "        dp = [True] + [False] * half\n",
    "        for num in nums:\n",
    "            for j in range(num, half+1)[::-1]:\n",
    "                dp[j] = dp[j] or dp[j-num]\n",
    "        for j in range(half+1)[::-1]:\n",
    "            if dp[j]:\n",
    "                return sum(nums) - 2 * j\n",
    "            \n",
    "def main():\n",
    "    nums = [1, 6, 11, 5]\n",
    "    msp = MSP()\n",
    "    print(\"The minimum difference is:\", msp.bestHalf(nums))\n",
    "    \n",
    "if __name__ == \"__main__\":\n",
    "    main()"
   ]
  },
  {
   "cell_type": "markdown",
   "metadata": {},
   "source": [
    "# Count number of ways to cover a distance\n",
    "\n",
    "Given a distance $n$, count total number of ways to cover the distance with 1, 2 and 3 steps.\n",
    "\n",
    "### Complexity Analysis\n",
    "This algorithm has time complexity of $\\mathcal{O}(n)$ and space complexity of $\\mathcal{O}(1)$."
   ]
  },
  {
   "cell_type": "code",
   "execution_count": 5,
   "metadata": {},
   "outputs": [
    {
     "name": "stdout",
     "output_type": "stream",
     "text": [
      "There are 24 to cover the distance 6\n"
     ]
    }
   ],
   "source": [
    "class CountWays:\n",
    "    def countWays(self, n):\n",
    "        if n == 0:\n",
    "            return 0\n",
    "        elif n == 1:\n",
    "            return 1\n",
    "        elif n == 2:\n",
    "            return 2\n",
    "        a, b, c, d = 1, 1, 2, 0\n",
    "        for i in range(3, n+1):\n",
    "            d = a + b + c\n",
    "            a, b, c = b, c, d\n",
    "        return d\n",
    "            \n",
    "def main():\n",
    "    n = 6\n",
    "    cw = CountWays()\n",
    "    print(\"There are\", cw.countWays(n), \"to cover the distance\", n)\n",
    "    \n",
    "if __name__ == \"__main__\":\n",
    "    main()"
   ]
  },
  {
   "cell_type": "markdown",
   "metadata": {},
   "source": [
    "# Find the longest path in a matrix with given constraints\n",
    "\n",
    "Given a $n \\times n$ matrix where all numbers are distinct, find the maximum length path (starting from any cell) such that all cells along the path are in increasing order with a difference of 1. \n",
    "\n",
    "### Complexity Analysis\n",
    "This algorithm has time and space complexity of $\\mathcal{O}(n^2)$."
   ]
  },
  {
   "cell_type": "code",
   "execution_count": 6,
   "metadata": {},
   "outputs": [
    {
     "name": "stdout",
     "output_type": "stream",
     "text": [
      "The longest path is 4\n"
     ]
    }
   ],
   "source": [
    "class LongestPath:\n",
    "    def findLongestPath(self, matrix):\n",
    "        if not matrix: return 0\n",
    "        n, longest = len(matrix), 1\n",
    "        dp = [[-1] * n for _ in range(n)]\n",
    "        for i in range(n):\n",
    "            for j in range(n):\n",
    "                if dp[i][j] == -1:\n",
    "                    self.findLongestFromCell(i, j, matrix, dp)\n",
    "                longest = max(longest, dp[i][j])\n",
    "        return longest\n",
    "    \n",
    "    def findLongestFromCell(self, i, j, matrix, dp):\n",
    "        n = len(matrix)\n",
    "        if dp[i][j] != -1:\n",
    "            return dp[i][j]\n",
    "        x0 = x1 = y0 = y1 = -1\n",
    "        if j > 0 and matrix[i][j-1] == matrix[i][j] + 1:\n",
    "            x0 = 1 + self.findLongestFromCell(i, j-1, matrix, dp)\n",
    "        if i > 0 and matrix[i-1][j] == matrix[i][j] + 1:\n",
    "            y0 = 1 + self.findLongestFromCell(i-1, j, matrix, dp)\n",
    "        if j < n-1 and matrix[i][j+1] == matrix[i][j] + 1:\n",
    "            x1 = 1 + self.findLongestFromCell(i, j+1, matrix, dp)\n",
    "        if i < n-1 and matrix[i+1][j] == matrix[i][j] + 1:\n",
    "            y1 = 1 + self.findLongestFromCell(i+1, j, matrix, dp)\n",
    "        dp[i][j] = max(x0, max(x1, max(y0, max(y1 ,1))))\n",
    "        return dp[i][j]\n",
    "        \n",
    "            \n",
    "def main():\n",
    "    matrix = [[1, 2, 9], [5, 3, 8], [4, 6, 7]]\n",
    "    lp = LongestPath()\n",
    "    print(\"The longest path is\", lp.findLongestPath(matrix))\n",
    "    \n",
    "if __name__ == \"__main__\":\n",
    "    main()"
   ]
  },
  {
   "cell_type": "markdown",
   "metadata": {},
   "source": [
    "# Subset Sum Problem\n",
    "\n",
    "Given a set of $n$ non-negative integers, and a value $val$, determine if there is a subset of the given set with sum equal to given value.\n",
    "\n",
    "### Complexity Analysis\n",
    "This algorithm has time and space complexity of $\\mathcal{O}(n \\cdot val)$."
   ]
  },
  {
   "cell_type": "code",
   "execution_count": 7,
   "metadata": {},
   "outputs": [
    {
     "name": "stdout",
     "output_type": "stream",
     "text": [
      "Found a subset of the given sum\n"
     ]
    }
   ],
   "source": [
    "class SubsetSum:\n",
    "    def findSubsetSum(self, nums, val):\n",
    "        dp = [True] + [False] * val\n",
    "        for num in nums:\n",
    "            for j in range(num, val+1)[::-1]:\n",
    "                dp[j] = dp[j] or dp[j-num]\n",
    "        return dp[-1]\n",
    "            \n",
    "def main():\n",
    "    nums, val = [6, 2, 5], 7\n",
    "    ss = SubsetSum()\n",
    "    if ss.findSubsetSum(nums, val):\n",
    "        print(\"Found a subset of the given sum\")\n",
    "    else:\n",
    "        print(\"No subset with given sum\")\n",
    "    \n",
    "if __name__ == \"__main__\":\n",
    "    main()"
   ]
  },
  {
   "cell_type": "markdown",
   "metadata": {},
   "source": [
    "# Optimal Strategy for a Game\n",
    "\n",
    "Consider a row of $n$ coins of values $v1, \\dots, vn$ where $n$ is even. We play a game against an opponent by alternating turns. In each turn, a player selects either the first or last coin from the row, removes it from the row permanently, and receives the value of the coin. Determine the maximum possible amount of money we can definitely win if we move first.\n",
    "\n",
    "### Complexity Analysis\n",
    "This algorithm has time and space complexity of $\\mathcal{O}(n^2)$."
   ]
  },
  {
   "cell_type": "code",
   "execution_count": 8,
   "metadata": {},
   "outputs": [
    {
     "name": "stdout",
     "output_type": "stream",
     "text": [
      "value: 7 index: 3 \n",
      "value: 3 index: 2 \n",
      "value: 15 index: 1 \n",
      "value: 8 index: 0 \n",
      "(22, 11)\n",
      "value: 2 index: 3 \n",
      "value: 2 index: 2 \n",
      "value: 2 index: 1 \n",
      "value: 2 index: 0 \n",
      "(4, 4)\n",
      "value: 10 index: 5 \n",
      "value: 2 index: 4 \n",
      "value: 2 index: 3 \n",
      "value: 2 index: 2 \n",
      "value: 30 index: 1 \n",
      "value: 20 index: 0 \n",
      "(42, 24)\n"
     ]
    }
   ],
   "source": [
    "class OptimalStrategy:\n",
    "    def findMoves(self, vals):\n",
    "        if not vals: return None\n",
    "        N = len(vals)\n",
    "        dp = [[None] * N for i in range(N)]\n",
    "        picks = [[0] * N for i in range(N)]\n",
    "        for i in range(N):\n",
    "            dp[i][i] = (vals[i],0)\n",
    "            picks[i][i] = i                  \n",
    "        for l in range(2, N+1):\n",
    "            for i in range(N-l+1):\n",
    "                j = i + l - 1\n",
    "                if vals[i] + dp[i+1][j][1] > dp[i][j-1][1] + vals[j]:\n",
    "                    dp[i][j] = (vals[i] + dp[i+1][j][1], dp[i+1][j][0])\n",
    "                    picks[i][j] = i\n",
    "                else:\n",
    "                    dp[i][j] = (vals[j] + dp[i][j-1][1], dp[i][j-1][0])\n",
    "                    picks[i][j] = j\n",
    "        self.printSequence(vals, picks)\n",
    "        return dp[0][N-1]\n",
    "    \n",
    "    def printSequence(self, vals, picks):\n",
    "        i, j = 0, len(vals) - 1\n",
    "        for k in range(len(vals)):\n",
    "            step = picks[i][j]\n",
    "            print(f'value: {vals[step]} index: {step} ')\n",
    "            if step <= i:\n",
    "                i += 1\n",
    "            else:\n",
    "                j -= 1\n",
    "            \n",
    "def main():\n",
    "    os = OptimalStrategy()\n",
    "    \n",
    "    vals = [ 8, 15, 3, 7 ] \n",
    "    print(os.findMoves(vals))\n",
    "    \n",
    "    vals = [ 2, 2, 2, 2 ] \n",
    "    print(os.findMoves(vals))\n",
    "    \n",
    "    vals = [ 20, 30, 2, 2, 2, 10] \n",
    "    print(os.findMoves(vals))\n",
    "    \n",
    "if __name__ == \"__main__\":\n",
    "    main()"
   ]
  },
  {
   "cell_type": "markdown",
   "metadata": {},
   "source": [
    "# 0-1 Knapsack Problem\n",
    "\n",
    "Given weights and values of n items, put these items in a knapsack of capacity $W$ to get the maximum total value in the knapsack. In other words, given two integer arrays $val[0..n-1]$ and $wt[0..n-1]$ which represent values and weights associated with n items respectively. Also given an integer W which represents knapsack capacity, find out the maximum value subset of $val[]$ such that sum of the weights of this subset is smaller than or equal to $W$. You cannot break an item, either pick the complete item, or don’t pick it (0-1 property).\n",
    "\n",
    "### Complexity Analysis\n",
    "This algorithm has time and space complexity of $\\mathcal{O}(N \\cdot C)$, where $N$ represents total items and $C$ is the maximum capacity.\n",
    "\n",
    "##### We can further improve our bottom-up DP solution to have $\\mathcal{O}(C)$ space complexity."
   ]
  },
  {
   "cell_type": "code",
   "execution_count": 9,
   "metadata": {},
   "outputs": [
    {
     "name": "stdout",
     "output_type": "stream",
     "text": [
      "220\n",
      "220\n"
     ]
    }
   ],
   "source": [
    "class Knapsack:\n",
    "    def knapsack_1(self, values, weights, capacity):\n",
    "        N = len(values)\n",
    "        if capacity <= 0 or N == 0 or len(weights) != N:\n",
    "            return 0\n",
    "        dp = [[0]*(capacity+1) for i in range(N+1)]\n",
    "        for i in range(1, N+1):\n",
    "            for j in range(1, capacity+1):\n",
    "                if weights[i-1] > j:\n",
    "                    dp[i][j] = dp[i-1][j]\n",
    "                else:\n",
    "                    dp[i][j] = max(dp[i-1][j],\n",
    "                                values[i-1] + dp[i-1][j - weights[i-1]])\n",
    "        return dp[N][capacity]\n",
    "    \n",
    "    def knapsack_2(self, values, weights, capacity ):\n",
    "        if capacity <= 0 or len(values) == 0 or len(weights) != len(values): return 0\n",
    "        dp = [0] * (capacity + 1)\n",
    "        for w, v in zip(weights, values):\n",
    "            for j in range(w, capacity + 1)[::-1]:\n",
    "                dp[j] = max(dp[j], dp[j-w] + v)\n",
    "        return dp[capacity]\n",
    "            \n",
    "def main():\n",
    "    ks = Knapsack()\n",
    "    \n",
    "    values = [60, 100, 120]\n",
    "    weights = [10, 20, 30]\n",
    "    capacity = 50\n",
    "    print(ks.knapsack_1(values, weights, capacity))\n",
    "    print(ks.knapsack_2(values, weights, capacity))\n",
    "    \n",
    "if __name__ == \"__main__\":\n",
    "    main()"
   ]
  },
  {
   "cell_type": "markdown",
   "metadata": {},
   "source": [
    "# Boolean Parenthesization Problem\n",
    "\n",
    "Given a boolean expression with following symbols 'T' = True and 'F' = False, and following operators filled between symbols $\\&$ = AND, $|$ = OR and $^$ = XOR, count the number of ways we can parenthesize the expression so that the value of expression evaluates to true. \n",
    "\n",
    "### Complexity Analysis\n",
    "The time complexity of this algorithm is $\\mathcal{O}(n^3)$, where $n$ is the number of symbols. The space complexity is $\\mathcal{O}(n^2)$."
   ]
  },
  {
   "cell_type": "code",
   "execution_count": 10,
   "metadata": {},
   "outputs": [
    {
     "name": "stdout",
     "output_type": "stream",
     "text": [
      "4\n"
     ]
    }
   ],
   "source": [
    "class BooleanParenth:\n",
    "    def countParenth(self, symb, oper):\n",
    "        n = len(symb)\n",
    "        F = [[0] * (n + 1) for _ in range(n + 1)] \n",
    "        T = [[0] * (n + 1) for _ in range(n + 1)] \n",
    "              \n",
    "        for i in range(n): \n",
    "            if symb[i] == 'F': \n",
    "                F[i][i] = 1\n",
    "            else: \n",
    "                F[i][i] = 0\n",
    "\n",
    "            if symb[i] == 'T': \n",
    "                T[i][i] = 1\n",
    "            else: \n",
    "                T[i][i] = 0\n",
    "              \n",
    "        for gap in range(1, n): \n",
    "            i = 0\n",
    "            for j in range(gap, n):  \n",
    "                T[i][j] = F[i][j] = 0\n",
    "                for g in range(gap): \n",
    "                    k = i + g \n",
    "                    tik = T[i][k] + F[i][k];  \n",
    "                    tkj = T[k + 1][j] + F[k + 1][j]; \n",
    "                    if oper[k] == '&': \n",
    "                        T[i][j] += T[i][k] * T[k + 1][j] \n",
    "                        F[i][j] += (tik * tkj - T[i][k] * \n",
    "                                                T[k + 1][j]) \n",
    "                    if oper[k] == '|': \n",
    "                        F[i][j] += F[i][k] * F[k + 1][j] \n",
    "                        T[i][j] += (tik * tkj - F[i][k] * \n",
    "                                                F[k + 1][j]) \n",
    "                    if oper[k]=='^': \n",
    "                        T[i][j] += (F[i][k] * T[k + 1][j] + \n",
    "                                    T[i][k] * F[k + 1][j])  \n",
    "                        F[i][j] += (T[i][k] * T[k + 1][j] + \n",
    "                                    F[i][k] * F[k + 1][j]) \n",
    "                i += 1\n",
    "        return T[0][n - 1]\n",
    "               \n",
    "def main():\n",
    "    bp = BooleanParenth()\n",
    "\n",
    "    symbols = 'TTFT'\n",
    "    operators = '|&^'\n",
    "    \n",
    "    print(bp.countParenth(symbols, operators))\n",
    "    \n",
    "if __name__ == \"__main__\":\n",
    "    main()"
   ]
  }
 ],
 "metadata": {
  "kernelspec": {
   "display_name": "Python 3",
   "language": "python",
   "name": "python3"
  },
  "language_info": {
   "codemirror_mode": {
    "name": "ipython",
    "version": 3
   },
   "file_extension": ".py",
   "mimetype": "text/x-python",
   "name": "python",
   "nbconvert_exporter": "python",
   "pygments_lexer": "ipython3",
   "version": "3.7.3"
  }
 },
 "nbformat": 4,
 "nbformat_minor": 2
}
