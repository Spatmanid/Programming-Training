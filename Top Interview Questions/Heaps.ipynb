{
 "cells": [
  {
   "cell_type": "markdown",
   "metadata": {},
   "source": [
    "# Top 10 Heap algorithms in interview questions\n",
    "\n",
    "For further references see https://www.geeksforgeeks.org/top-10-algorithms-in-interview-questions/"
   ]
  },
  {
   "cell_type": "markdown",
   "metadata": {},
   "source": [
    "# Median in a stream of integers\n",
    "\n",
    "Given that integers are read from a data stream. Find median of elements read so for in efficient way. For simplicity assume there are no duplicates.\n",
    "\n",
    "### Complexity Analysis\n",
    "\n",
    "This algorithm has time complexity of $\\mathcal{O}(\\log n)$."
   ]
  },
  {
   "cell_type": "code",
   "execution_count": 1,
   "metadata": {},
   "outputs": [
    {
     "name": "stdout",
     "output_type": "stream",
     "text": [
      "Median: 5\n",
      "Median: 10.0\n",
      "Median: 5\n",
      "Median: 4.0\n"
     ]
    }
   ],
   "source": [
    "import heapq\n",
    "class Solution:\n",
    "    def __init__(self):\n",
    "        self.l = []\n",
    "        self.h = []\n",
    "        self.result = []\n",
    "    \n",
    "    def findMedian(self, x):\n",
    "        heapq.heappush(self.h, -heapq.heappushpop(self.l, x))\n",
    "        if len(self.h) > len(self.l):\n",
    "            heapq.heappush(self.l, -heapq.heappop(self.h))\n",
    "        self.result.append(0.5 * (self.l[0] - self.h[0]) if len(self.l) == len(self.h) else self.l[0])\n",
    "        return self.result[-1]\n",
    "        \n",
    "    \n",
    "def main():\n",
    "    sol = Solution()\n",
    "    print(\"Median:\", sol.findMedian(5))\n",
    "    print(\"Median:\", sol.findMedian(15))\n",
    "    print(\"Median:\", sol.findMedian(1))\n",
    "    print(\"Median:\", sol.findMedian(3))\n",
    "      \n",
    "if __name__ == \"__main__\":\n",
    "    main()"
   ]
  },
  {
   "cell_type": "markdown",
   "metadata": {},
   "source": [
    "# $k^{th}$ largest element in a stream\n",
    "\n",
    "Given an infinite stream of integers, find the $k^{th}$ largest element at any point of time.\n",
    "\n",
    "### Complexity Analysis\n",
    "\n",
    "This algorithm has time complexity of $\\mathcal{O}(\\log k)$."
   ]
  },
  {
   "cell_type": "code",
   "execution_count": 2,
   "metadata": {},
   "outputs": [
    {
     "name": "stdout",
     "output_type": "stream",
     "text": [
      "10\n",
      "15\n",
      "15\n",
      "23\n",
      "70\n"
     ]
    }
   ],
   "source": [
    "import heapq\n",
    "class Solution:\n",
    "    def __init__(self, k):\n",
    "        self.h = []\n",
    "        self.k = k\n",
    "    \n",
    "    def kLargestStream(self, x):\n",
    "        if len(self.h) == self.k:\n",
    "            heapq.heappushpop(self.h, x)\n",
    "        else:\n",
    "            heapq.heappush(self.h, x)\n",
    "        if len(self.h) == self.k:\n",
    "            print(self.h[0])\n",
    "        return None\n",
    "                \n",
    "def main():\n",
    "    k = 3\n",
    "    sol = Solution(k)\n",
    "    sol.kLargestStream(23)\n",
    "    sol.kLargestStream(10)\n",
    "    sol.kLargestStream(15)\n",
    "    sol.kLargestStream(70)\n",
    "    sol.kLargestStream(5)\n",
    "    sol.kLargestStream(80)\n",
    "    sol.kLargestStream(100)\n",
    "    \n",
    "if __name__ == \"__main__\":\n",
    "    main()"
   ]
  },
  {
   "cell_type": "markdown",
   "metadata": {},
   "source": [
    "# Sort a nearly sorted (or K sorted) array\n",
    "\n",
    "Given an array of $n$ elements, where each element is at most $k$ away from its target position, sort the array.\n",
    "\n",
    "\n",
    "### Complexity Analysis\n",
    "This algorithm has time complexity of $\\mathcal{O}(n \\log k)$."
   ]
  },
  {
   "cell_type": "code",
   "execution_count": 3,
   "metadata": {},
   "outputs": [
    {
     "name": "stdout",
     "output_type": "stream",
     "text": [
      "The origin 3 sorted array is:\n",
      "[6, 5, 3, 2, 8, 10, 9]\n",
      "The final sorted array is:\n",
      "[2, 3, 5, 6, 8, 9, 10]\n"
     ]
    }
   ],
   "source": [
    "import heapq\n",
    "class Solution:\n",
    "    def sortK(self, arr, k):\n",
    "        n = len(arr)\n",
    "        if n <= 1: return arr\n",
    "        h, s = [], []\n",
    "        for x in arr:\n",
    "            heapq.heappush(h, x)\n",
    "            if len(h) == k + 1:\n",
    "                s.append(heapq.heappop(h))\n",
    "        while h:\n",
    "            s.append(heapq.heappop(h))\n",
    "        return s\n",
    "    \n",
    "def main():\n",
    "    arr = [6, 5, 3, 2, 8, 10, 9]\n",
    "    k = 3\n",
    "    sol = Solution()\n",
    "    print(\"The origin {} sorted array is:\".format(k))\n",
    "    print(arr)\n",
    "    arr = sol.sortK(arr, k)\n",
    "    print(\"The final sorted array is:\")\n",
    "    print(arr)\n",
    "      \n",
    "if __name__ == \"__main__\":\n",
    "    main()"
   ]
  },
  {
   "cell_type": "markdown",
   "metadata": {},
   "source": [
    "# $k$ largest (or smallest) elements in an array\n",
    "\n",
    "Write an efficient program for printing k largest elements in an array. Elements in array can be in any order.\n",
    "\n",
    "\n",
    "### Complexity Analysis\n",
    "This algorithm has time complexity of $\\mathcal{O}(n \\log k)$."
   ]
  },
  {
   "cell_type": "code",
   "execution_count": 4,
   "metadata": {},
   "outputs": [
    {
     "name": "stdout",
     "output_type": "stream",
     "text": [
      "[6, 8, 7]\n"
     ]
    }
   ],
   "source": [
    "import heapq\n",
    "class Solution:\n",
    "    def kLargest(self, arr, k):\n",
    "        if not arr or len(arr) <= k: return arr\n",
    "        h = arr[:k]\n",
    "        for x in arr[k:]:\n",
    "            heapq.heappushpop(h, x)\n",
    "        return h\n",
    "    \n",
    "def main():\n",
    "    arr = [4, 3, 7, 8, 6, 2, 1]\n",
    "    k = 3\n",
    "    sol = Solution()\n",
    "    print(sol.kLargest(arr, k))\n",
    "      \n",
    "if __name__ == \"__main__\":\n",
    "    main()"
   ]
  },
  {
   "cell_type": "markdown",
   "metadata": {},
   "source": [
    "# Merge k sorted arrays\n",
    "\n",
    "Given k sorted arrays of size n each, merge them and print the sorted output.\n",
    "\n",
    "### Complexity Analysis\n",
    "This algorithm has time complexity of $\\mathcal{O}(n k \\log k)$."
   ]
  },
  {
   "cell_type": "code",
   "execution_count": 5,
   "metadata": {},
   "outputs": [
    {
     "name": "stdout",
     "output_type": "stream",
     "text": [
      "[1, 2, 3, 4, 5, 6, 7, 8, 9, 10, 11, 12]\n"
     ]
    }
   ],
   "source": [
    "import heapq\n",
    "class Solution:\n",
    "    def mergeArr(self, arr):\n",
    "        k, n = len(arr), len(arr[0])\n",
    "        if k <= 1: return arr\n",
    "        h = [(-arr[0].pop(), 0), (-arr[1].pop(), 1), (-arr[2].pop(), 2)]\n",
    "        heapq.heapify(h)\n",
    "        s = []\n",
    "        while h:\n",
    "            x, i = heapq.heappop(h)\n",
    "            s.append(-x)\n",
    "            if len(arr[i]):\n",
    "                heapq.heappush(h, (-arr[i].pop(), i))\n",
    "        s.reverse()\n",
    "        return s\n",
    "    \n",
    "    def mergeArrPythonic(self, arr):\n",
    "        return list(heapq.merge(*arr))\n",
    "    \n",
    "def main():\n",
    "    arr = [[1, 5, 6, 8], [2, 4, 10, 12], [3, 7, 9, 11], [13, 14, 15, 16]]\n",
    "    sol = Solution()\n",
    "    arr = sol.mergeArr(arr)\n",
    "    print(arr)\n",
    "      \n",
    "if __name__ == \"__main__\":\n",
    "    main()"
   ]
  },
  {
   "cell_type": "markdown",
   "metadata": {},
   "source": [
    "# Minimum sum of two numbers formed from digits of an array\n",
    "\n",
    "Given an array of digits (values are from 0 to 9), find the minimum possible sum of two numbers formed from digits of the array. All digits of given array must be used to form the two numbers. \n",
    "\n",
    "### Complexity Analysis\n",
    "This algorithm has time complexity of $\\mathcal{O}(n)$."
   ]
  },
  {
   "cell_type": "code",
   "execution_count": 6,
   "metadata": {},
   "outputs": [
    {
     "name": "stdout",
     "output_type": "stream",
     "text": [
      "The minimum sum is formed by numbers 246 and 358 is 604\n"
     ]
    }
   ],
   "source": [
    "from collections import Counter, deque\n",
    "class Solution:\n",
    "    def minSum(self, arr):\n",
    "        h = Counter(arr)\n",
    "        a, b = 0, 0\n",
    "        flag = True\n",
    "        for i in range(10):\n",
    "            while h[i]:\n",
    "                if flag:\n",
    "                    a = a * 10 + i\n",
    "                    h[i] -= 1\n",
    "                    flag = False\n",
    "                else:\n",
    "                    b = b * 10 + i\n",
    "                    h[i] -= 1\n",
    "                    flag = True\n",
    "        return a, b\n",
    "    \n",
    "def main():\n",
    "    arr = [6, 8, 4, 5, 2, 3]\n",
    "    sol = Solution()\n",
    "    a, b = sol.minSum(arr)\n",
    "    print(\"The minimum sum is formed by numbers {} and {} is {}\".format(a, b, a+b))\n",
    "      \n",
    "if __name__ == \"__main__\":\n",
    "    main()"
   ]
  },
  {
   "cell_type": "markdown",
   "metadata": {},
   "source": [
    "# Find smallest range containing elements from k lists\n",
    "\n",
    "Given k sorted lists of integers of size n each, find the smallest range that includes at least element from each of the k lists. If more than one smallest ranges are found, print any one of them.\n",
    "\n",
    "### Complexity Analysis\n",
    "This algorithm has time complexity of $\\mathcal{O}(n k \\log k)$."
   ]
  },
  {
   "cell_type": "code",
   "execution_count": 7,
   "metadata": {},
   "outputs": [
    {
     "name": "stdout",
     "output_type": "stream",
     "text": [
      "The smallest range is: [6, 8]\n"
     ]
    }
   ],
   "source": [
    "class Solution:\n",
    "    def findSmallest(self, arr):\n",
    "        minRange = float('inf')\n",
    "        res = [0,0]\n",
    "        k = len(arr)\n",
    "        while len(arr[0]) > 0:\n",
    "            arr.sort()\n",
    "            curRange = arr[k-1][0] - arr[0][0]\n",
    "            if curRange < minRange:\n",
    "                minRange = curRange\n",
    "                res = [arr[0][0] ,arr[k-1][0]]\n",
    "            arr[0].pop(0)\n",
    "        return res\n",
    "    \n",
    "def main():\n",
    "    sol = Solution()\n",
    "    arr = [[4, 7, 9, 12, 15], [0, 8, 10, 14, 20], [6, 12, 16, 30, 50]]\n",
    "    print(\"The smallest range is: {}\".format(sol.findSmallest(arr)))\n",
    "      \n",
    "if __name__ == \"__main__\":\n",
    "    main()"
   ]
  },
  {
   "cell_type": "markdown",
   "metadata": {},
   "source": [
    "# Check if a given Binary Tree is Heap\n",
    "\n",
    "Given a binary tree, we need to check it has heap property or not, Binary tree need to fulfill the following two conditions for being a heap:\n",
    "\n",
    "    It should be a complete tree (i.e. all levels except last should be full).\n",
    "    Every node’s value should be greater than or equal to its child node (considering max-heap).\n",
    "\n",
    "\n",
    "### Complexity Analysis\n",
    "This algorithm has expected time complexity of $\\mathcal{O}(n)$."
   ]
  },
  {
   "cell_type": "code",
   "execution_count": 8,
   "metadata": {},
   "outputs": [
    {
     "name": "stdout",
     "output_type": "stream",
     "text": [
      "Given binary tree is a heap\n"
     ]
    }
   ],
   "source": [
    "class Node:\n",
    "    def __init__(self, value, left=None, right=None):\n",
    "        self.val = value\n",
    "        self.left = left\n",
    "        self.right = right\n",
    "\n",
    "class Solution:\n",
    "    def isHeap(self, node):\n",
    "        if not node:\n",
    "            return True\n",
    "        if (node.left and not node.right) or (node.right and not node.left):\n",
    "            return False\n",
    "        elif not node.left and not node.right:\n",
    "            return True\n",
    "        l, r = False, False\n",
    "        if node.left.val < node.val:\n",
    "            l = self.isHeap(node.left)\n",
    "        if node.right.val < node.val:\n",
    "            r = self.isHeap(node.right)\n",
    "        return l and r\n",
    "    \n",
    "def main():\n",
    "    sol = Solution()\n",
    "    root = Node(97)\n",
    "    root.left = Node(46)\n",
    "    root.right = Node(37)\n",
    "    root.left.left = Node(12)\n",
    "    root.left.right = Node(3)\n",
    "    root.left.left.left = Node(6)\n",
    "    root.left.left.right = Node(9)\n",
    "    root.right.left = Node(7)\n",
    "    root.right.right = Node(31)\n",
    "    \n",
    "    if sol.isHeap(root):\n",
    "        print(\"Given binary tree is a heap\")\n",
    "    else:\n",
    "        print(\"Given binary tree is not a heap\")\n",
    "        \n",
    "if __name__ == \"__main__\":\n",
    "    main()"
   ]
  }
 ],
 "metadata": {
  "kernelspec": {
   "display_name": "Python 3",
   "language": "python",
   "name": "python3"
  },
  "language_info": {
   "codemirror_mode": {
    "name": "ipython",
    "version": 3
   },
   "file_extension": ".py",
   "mimetype": "text/x-python",
   "name": "python",
   "nbconvert_exporter": "python",
   "pygments_lexer": "ipython3",
   "version": "3.7.3"
  }
 },
 "nbformat": 4,
 "nbformat_minor": 2
}
