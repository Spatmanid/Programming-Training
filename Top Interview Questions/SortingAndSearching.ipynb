{
 "cells": [
  {
   "cell_type": "markdown",
   "metadata": {},
   "source": [
    "# Top 10 Sorting and Searching algorithms in interview questions\n",
    "\n",
    "For further references see https://www.geeksforgeeks.org/top-10-algorithms-in-interview-questions/"
   ]
  },
  {
   "cell_type": "markdown",
   "metadata": {},
   "source": [
    "# Binary Search\n",
    "\n",
    "Given a sorted array $arr$ of n elements, write a function to search a given element $x$ in $arr$.\n",
    "\n",
    "### Complexity Analysis\n",
    "This algorithm has time complexity of $\\mathcal{O}(\\log n)$. The space complexity is $\\mathcal{O}(1)$ in case of iterative implementation and $\\mathcal{O}(\\log n)$ in case of recursive implementation (recursion call stack space)."
   ]
  },
  {
   "cell_type": "code",
   "execution_count": 1,
   "metadata": {},
   "outputs": [
    {
     "name": "stdout",
     "output_type": "stream",
     "text": [
      "The element is present at index 4.\n"
     ]
    }
   ],
   "source": [
    "class Search:\n",
    "    def binarySearch(self, arr, l, r, x):\n",
    "        while l <= r:\n",
    "            m = (l + r) // 2\n",
    "            if arr[m] == x:\n",
    "                return m\n",
    "            elif arr[m] > x:\n",
    "                r = m - 1\n",
    "            else:\n",
    "                l = m + 1\n",
    "        return -1\n",
    "    \n",
    "    def binarySearchRec(self, arr, l, r, x):\n",
    "        if l <= r:\n",
    "            m = (l + r) // 2\n",
    "            if arr[m] == x:\n",
    "                return m\n",
    "            elif arr[m] > x:\n",
    "                return self.binarySearchRec(arr, l, m-1, x)\n",
    "            else:\n",
    "                return self.binarySearchRec(arr, l+1, r, x)\n",
    "        return -1\n",
    "    \n",
    "def main():\n",
    "    arr = [2, 3, 5, 7, 12, 20, 30, 40, 50]\n",
    "    bs = Search()\n",
    "    pos = bs.binarySearch(arr, 0, len(arr)-1, 12)\n",
    "    if pos != -1:\n",
    "        print(\"The element is present at index %d.\" % pos)\n",
    "    else:\n",
    "        print(\"Element is not prest in array\")\n",
    "    \n",
    "    \n",
    "if __name__ == \"__main__\":\n",
    "    main()"
   ]
  },
  {
   "cell_type": "markdown",
   "metadata": {},
   "source": [
    "# Search an element in a sorted and rotated array\n",
    "\n",
    "An element in a sorted array can be found in $\\mathcal{O}(\\log n)$ time via binary search. But suppose we rotate an ascending order sorted array at some pivot unknown to you beforehand. So for instance, $[1, 2, 3, 4, 5]$ might become $[3, 4, 5, 1, 2]$. Devise a way to find an element in the rotated array in $\\mathcal{O}(\\log n)$ time.\n",
    "\n",
    "### Complexity Analysis\n",
    "This algorithm has time complexity of $\\mathcal{O}(\\log n)$. The space complexity is $\\mathcal{O}(1)$."
   ]
  },
  {
   "cell_type": "code",
   "execution_count": 2,
   "metadata": {},
   "outputs": [
    {
     "name": "stdout",
     "output_type": "stream",
     "text": [
      "The element is present at index 7.\n"
     ]
    }
   ],
   "source": [
    "class SearchRotated:\n",
    "    def findElement(self, nums, x):\n",
    "        if not nums: return -1\n",
    "        if len(nums) == 1: return 0 if nums[0] == x else -1\n",
    "        pivot = self.findPivot(nums)\n",
    "        r = len(nums) - 1\n",
    "        if nums[pivot] <= x and nums[r] >= x:\n",
    "            return self.binarySearch(nums, pivot, r, x)\n",
    "        elif nums[0] <= x and nums[pivot-1] >= x:\n",
    "            return self.binarySearch(nums, 0, pivot-1, x)\n",
    "        else:\n",
    "            return -1\n",
    "    \n",
    "    def findPivot(self, nums):\n",
    "        l, r = 0, len(nums)-1\n",
    "        if nums[l] < nums[r]:\n",
    "            return 0\n",
    "        while l < r:\n",
    "            m = (l + r) // 2\n",
    "            if nums[m] > nums[r]:\n",
    "                l = m + 1\n",
    "            else:\n",
    "                r = m\n",
    "        return l\n",
    "    \n",
    "    def binarySearch(self, nums, l, r, x):\n",
    "        while l <= r:\n",
    "            m = (l + r) // 2\n",
    "            if nums[m] == x:\n",
    "                return m\n",
    "            elif nums[m] > x:\n",
    "                r = m - 1\n",
    "            else:\n",
    "                l = m + 1\n",
    "        return -1\n",
    "    \n",
    "def main():\n",
    "    nums = [3,4,5,6,7,8,0,1,2]\n",
    "    sr = SearchRotated()\n",
    "    pos = sr.findElement(nums, 1)\n",
    "    if pos != -1:\n",
    "        print(\"The element is present at index %d.\" % pos)\n",
    "    else:\n",
    "        print(\"Element is not prest in array\")   \n",
    "    \n",
    "if __name__ == \"__main__\":\n",
    "    main()"
   ]
  },
  {
   "cell_type": "markdown",
   "metadata": {},
   "source": [
    "# Bubble Sort\n",
    "\n",
    "You are given an array of $n$ integers. Use bubble sort to sort the array.\n",
    "\n",
    "\n",
    "### Complexity Analysis\n",
    "This algorithm has time complexity of $\\mathcal{O}(n^2)$ and space complexity of $\\mathcal{O}(1)$."
   ]
  },
  {
   "cell_type": "code",
   "execution_count": 3,
   "metadata": {},
   "outputs": [
    {
     "name": "stdout",
     "output_type": "stream",
     "text": [
      "Sorted array is:\n",
      "[11, 12, 22, 25, 34, 64, 90]\n"
     ]
    }
   ],
   "source": [
    "class Sorting:\n",
    "    def bubbleSort(self, nums):\n",
    "        n = len(nums)\n",
    "        for i in range(n):\n",
    "            swapped = False\n",
    "            for j in range(n-i-1):\n",
    "                if nums[j] > nums[j+1]:\n",
    "                    nums[j], nums[j+1] = nums[j+1], nums[j]\n",
    "                    swapped = True\n",
    "            if not swapped:\n",
    "                break\n",
    "\n",
    "def main():\n",
    "    nums = [64, 34, 25, 12, 22, 11, 90]\n",
    "    s = Sorting()\n",
    "    s.bubbleSort(nums)\n",
    "    print(\"Sorted array is:\")\n",
    "    print(nums)\n",
    "    \n",
    "if __name__ == \"__main__\":\n",
    "    main()"
   ]
  },
  {
   "cell_type": "markdown",
   "metadata": {},
   "source": [
    "# Insertion Sort\n",
    "\n",
    "You are given an array of $n$ integers. Use insertion sort to sort the array.\n",
    "\n",
    "\n",
    "### Complexity Analysis\n",
    "This algorithm has time complexity of $\\mathcal{O}(n^2)$ and space complexity of $\\mathcal{O}(1)$."
   ]
  },
  {
   "cell_type": "code",
   "execution_count": 4,
   "metadata": {},
   "outputs": [
    {
     "name": "stdout",
     "output_type": "stream",
     "text": [
      "Sorted array is:\n",
      "[11, 12, 22, 25, 34, 64, 90]\n"
     ]
    }
   ],
   "source": [
    "class Sorting:\n",
    "    def insertionSort(self, nums):\n",
    "        n = len(nums)\n",
    "        for i in range(1, n):\n",
    "            j, key = i-1, nums[i]\n",
    "            while j >=0 and nums[j] > key:\n",
    "                nums[j+1] = nums[j]\n",
    "                j -= 1\n",
    "            nums[j+1] = key\n",
    "\n",
    "def main():\n",
    "    nums = [64, 34, 25, 12, 22, 11, 90]\n",
    "    s = Sorting()\n",
    "    s.insertionSort(nums)\n",
    "    print(\"Sorted array is:\")\n",
    "    print(nums)\n",
    "    \n",
    "if __name__ == \"__main__\":\n",
    "    main()"
   ]
  },
  {
   "cell_type": "markdown",
   "metadata": {},
   "source": [
    "# Merge Sort\n",
    "\n",
    "You are given an array of $n$ integers. Use merge sort to sort the array.\n",
    "\n",
    "### Complexity Analysis\n",
    "This algorithm has time complexity of $\\mathcal{O}(n \\log n)$ and space complexity of $\\mathcal{O}(n)$."
   ]
  },
  {
   "cell_type": "code",
   "execution_count": 5,
   "metadata": {},
   "outputs": [
    {
     "name": "stdout",
     "output_type": "stream",
     "text": [
      "Sorted array is:\n",
      "[1, 11, 12, 22, 25, 34, 64, 90]\n"
     ]
    }
   ],
   "source": [
    "class Sorting:\n",
    "    def mergeSort(self, nums, l, r):\n",
    "        if l < r:\n",
    "            m = (l + r) // 2\n",
    "            self.mergeSort(nums, l, m)\n",
    "            self.mergeSort(nums, m + 1, r)\n",
    "            self.merge(nums, l, m, r)\n",
    "            \n",
    "    def merge(self, nums, l, m, r):\n",
    "        n1, n2 = m - l + 1, r - m\n",
    "        L, R = [0] * n1, [0] * n2\n",
    "        for i in range(n1):\n",
    "            L[i] = nums[l + i]\n",
    "        for j in range(n2):\n",
    "            R[j] = nums[m + 1 + j]\n",
    "        i, j, k = 0, 0, l\n",
    "        while i < n1 and j < n2:\n",
    "            if L[i] <= R[j]:\n",
    "                nums[k] = L[i]\n",
    "                i += 1\n",
    "            else:\n",
    "                nums[k] = R[j]\n",
    "                j += 1\n",
    "            k += 1\n",
    "        while i < n1:\n",
    "            nums[k] = L[i]\n",
    "            i += 1\n",
    "            k += 1\n",
    "        while j < n2:\n",
    "            nums[k] = R[j]\n",
    "            j += 1\n",
    "            k += 1 \n",
    "            \n",
    "def main():\n",
    "    nums = [64, 34, 25, 12, 22, 11, 90, 1]\n",
    "    s = Sorting()\n",
    "    s.mergeSort(nums, 0, len(nums) - 1)\n",
    "    print(\"Sorted array is:\")\n",
    "    print(nums)\n",
    "    \n",
    "if __name__ == \"__main__\":\n",
    "    main()"
   ]
  },
  {
   "cell_type": "markdown",
   "metadata": {},
   "source": [
    "# Heap Sort\n",
    "\n",
    "You are given an array of $n$ integers. Use heap sort to sort the array.\n",
    "\n",
    "### Complexity Analysis\n",
    "This algorithm has time complexity of $\\mathcal{O}(n \\log n)$ and space complexity of $\\mathcal{O}(1)$."
   ]
  },
  {
   "cell_type": "code",
   "execution_count": 6,
   "metadata": {},
   "outputs": [
    {
     "name": "stdout",
     "output_type": "stream",
     "text": [
      "Sorted array is:\n",
      "[1, 11, 12, 22, 25, 34, 64, 90]\n"
     ]
    }
   ],
   "source": [
    "class Heap:\n",
    "    def __init__(self):\n",
    "        self.heapSize = 0\n",
    "    \n",
    "    def left(self, i):\n",
    "        return 2 * i  + 1\n",
    "    \n",
    "    def right(self, i):\n",
    "        return 2 * (i + 1)\n",
    "    \n",
    "    def parent(self, i):\n",
    "        return (i - 1) // 2\n",
    "    \n",
    "    def maxHeapify(self, A, i):\n",
    "        left, right = self.left(i), self.right(i)\n",
    "        if left < self.heapSize and A[left] > A[i]:\n",
    "            largest = left\n",
    "        else:\n",
    "            largest = i\n",
    "        if right < self.heapSize and A[right] > A[largest]:\n",
    "            largest = right\n",
    "        if largest != i:\n",
    "            A[i], A[largest] = A[largest], A[i]\n",
    "            self.maxHeapify(A, largest)\n",
    "        \n",
    "    def buildMaxHeap(self, A):\n",
    "        self.heapSize = len(A)\n",
    "        start = (self.heapSize - 1) // 2\n",
    "        for i in range(start + 1)[::-1]:\n",
    "            self.maxHeapify(A, i)\n",
    "    \n",
    "    def heapSort(self, A):\n",
    "        self.buildMaxHeap(A)\n",
    "        for _ in range(self.heapSize):\n",
    "            A[0], A[self.heapSize-1] = A[self.heapSize-1], A[0]\n",
    "            self.heapSize -= 1\n",
    "            self.maxHeapify(A, 0)\n",
    "            \n",
    "            \n",
    "def main():\n",
    "    nums = [64, 34, 25, 12, 22, 11, 90, 1]\n",
    "    s = Heap()\n",
    "    s.heapSort(nums)\n",
    "    print(\"Sorted array is:\")\n",
    "    print(nums)\n",
    "    \n",
    "if __name__ == \"__main__\":\n",
    "    main()"
   ]
  },
  {
   "cell_type": "markdown",
   "metadata": {},
   "source": [
    "# Quick Sort\n",
    "\n",
    "You are given an array of $n$ integers. Use quick sort to sort the array.\n",
    "\n",
    "### Complexity Analysis\n",
    "This algorithm has time complexity of $\\mathcal{O}(n \\log n)$ and space complexity of $\\mathcal{O}(n \\log n)$."
   ]
  },
  {
   "cell_type": "code",
   "execution_count": 7,
   "metadata": {},
   "outputs": [
    {
     "name": "stdout",
     "output_type": "stream",
     "text": [
      "Sorted array is:\n",
      "[11, 12, 22, 25, 34, 64, 90]\n"
     ]
    }
   ],
   "source": [
    "class Sorting:\n",
    "    def quickSort(self, A, l, r):\n",
    "        if l < r:\n",
    "            p = self.partition(A, l, r)\n",
    "            self.quickSort(A, l, p - 1)\n",
    "            self.quickSort(A, p + 1, r)\n",
    "            \n",
    "    def partition(self, A, l, r):\n",
    "        x = A[r]\n",
    "        i = l - 1\n",
    "        for j in range(l, r):\n",
    "            if A[j] < x:\n",
    "                i += 1\n",
    "                A[i], A[j] = A[j], A[i]\n",
    "        A[i+1], A[r] = A[r], A[i+1]\n",
    "        return i + 1\n",
    "            \n",
    "def main():\n",
    "    nums = [64, 34, 25, 12, 22, 11, 90]\n",
    "    s = Sorting()\n",
    "    s.quickSort(nums, 0, len(nums) - 1)\n",
    "    print(\"Sorted array is:\")\n",
    "    print(nums)\n",
    "    \n",
    "if __name__ == \"__main__\":\n",
    "    main()"
   ]
  },
  {
   "cell_type": "markdown",
   "metadata": {},
   "source": [
    "# Interpolation Search\n",
    "\n",
    "Given a sorted array of n uniformly distributed values $arr$, write a function to search for a particular element $x$ in the array. \n",
    "\n",
    "### Complexity Analysis\n",
    "This algorithm has time complexity of $\\mathcal{O}(\\log \\log n)$ and space complexity of $\\mathcal{O}(1)$."
   ]
  },
  {
   "cell_type": "code",
   "execution_count": 8,
   "metadata": {},
   "outputs": [
    {
     "name": "stdout",
     "output_type": "stream",
     "text": [
      "Element is not prest in array\n"
     ]
    }
   ],
   "source": [
    "class Search:\n",
    "    def interpolationSearch(self, arr, l, r, t):\n",
    "        while l <= r and arr[l] <= t and arr[r] >= t:\n",
    "            if l == r:\n",
    "                return l if arr[l] == t else -1\n",
    "            pos = l + int( (t - arr[l]) * ( (r - l) / (arr[r] - arr[l]) ) )\n",
    "            if arr[pos] == t:\n",
    "                return pos\n",
    "            elif arr[pos] > t:\n",
    "                r = pos - 1\n",
    "            else:\n",
    "                l = pos + 1\n",
    "        return -1                  \n",
    "    \n",
    "def main():\n",
    "    arr = [10, 12, 13, 16, 18, 19, 20, 21, 22, 23, 24, 33, 35, 42, 47] \n",
    "    s = Search()\n",
    "    pos = s.interpolationSearch(arr, 0, len(arr)-1, 45)\n",
    "    if pos != -1:\n",
    "        print(\"The element is present at index %d.\" % pos)\n",
    "    else:\n",
    "        print(\"Element is not prest in array\")\n",
    "    \n",
    "    \n",
    "if __name__ == \"__main__\":\n",
    "    main()"
   ]
  },
  {
   "cell_type": "markdown",
   "metadata": {},
   "source": [
    "# K’th Smallest/Largest Element in Unsorted Array\n",
    "\n",
    "Given an array and a number $k$, where $k$ is smaller than the size of the array, we need to find the k’th smallest element in the given array. It is given that all array elements are distinct.\n",
    "\n",
    "### Complexity Analysis\n",
    "This algorithm has expected time complexity of $\\mathcal{O}(n)$. and worst case time complexity $\\mathcal{O}(n^2)$."
   ]
  },
  {
   "cell_type": "code",
   "execution_count": 9,
   "metadata": {},
   "outputs": [
    {
     "name": "stdout",
     "output_type": "stream",
     "text": [
      "2 Smallest Element:\n",
      "4\n",
      "2 Largest Element:\n",
      "19\n"
     ]
    }
   ],
   "source": [
    "from random import randint\n",
    "class Search:\n",
    "    def kthSmallest(self, arr, l, r, k):\n",
    "        pos = self.randomPartition(arr, l, r)\n",
    "        if pos - l == k - 1:\n",
    "            return arr[pos]\n",
    "        elif pos - l > k - 1:\n",
    "            return self.kthSmallest(arr, l, pos - 1, k)\n",
    "        else:\n",
    "            return self.kthSmallest(arr, pos + 1, r, k-pos+l-1)\n",
    "        \n",
    "    def kthLargest(self, arr, l, r, k):\n",
    "        pos = self.randomPartition(arr, l, r)\n",
    "        if r - pos == k - 1:\n",
    "            return arr[pos]\n",
    "        elif r - pos > k - 1:\n",
    "            return self.kthLargest(arr, pos + 1, r, k)\n",
    "        else:\n",
    "            return self.kthLargest(arr, l, pos - 1, k-r+pos-1)\n",
    "           \n",
    "    def swap(self, arr, i, j):\n",
    "        arr[i], arr[j] = arr[j], arr[i]\n",
    "    \n",
    "    def randomPartition(self, arr, l, r):\n",
    "        pivot = randint(l, r)\n",
    "        self.swap(arr, pivot, r)\n",
    "        return self.partition(arr, l, r)\n",
    "    \n",
    "    def partition(self, arr, l, r):\n",
    "        pivot = arr[r]\n",
    "        i =  l - 1\n",
    "        for j in range(l, r):\n",
    "            if arr[j] < pivot:\n",
    "                i += 1\n",
    "                self.swap(arr, i, j)\n",
    "        self.swap(arr, i+1, r)\n",
    "        return i + 1\n",
    "    \n",
    "def main():\n",
    "    arr = [12, 3, 5, 7, 4, 19, 26] \n",
    "    s = Search()\n",
    "    k = 2\n",
    "    if k > len(arr):\n",
    "        print(\"Not enough elements in the array.\")\n",
    "    else:\n",
    "        print(\"%d Smallest Element:\" % k)\n",
    "        print(s.kthSmallest(arr, 0, len(arr)-1, k))\n",
    "        print(\"%d Largest Element:\" % k)\n",
    "        print(s.kthLargest(arr, 0, len(arr)-1, k))\n",
    "    \n",
    "    \n",
    "if __name__ == \"__main__\":\n",
    "    main()"
   ]
  },
  {
   "cell_type": "markdown",
   "metadata": {},
   "source": [
    "# Given a sorted array and a number x, find the pair in array whose sum is closest to x\n",
    "\n",
    "Given a sorted array and a number x, find a pair in array whose sum is closest to x.\n",
    "\n",
    "### Complexity Analysis\n",
    "The time complexity of this algorithm is $\\mathcal{O}(n)$. The space complexity is $\\mathcal{O}(1)$."
   ]
  },
  {
   "cell_type": "code",
   "execution_count": 10,
   "metadata": {},
   "outputs": [
    {
     "name": "stdout",
     "output_type": "stream",
     "text": [
      "The closest pair is 22 and 30\n"
     ]
    }
   ],
   "source": [
    "class Search:\n",
    "    def closestPair(self, arr, t):\n",
    "        n = len(arr)\n",
    "        res = (0, 0)\n",
    "        diff = float('inf')\n",
    "        l, r = 0, n - 1\n",
    "        while l < r:\n",
    "            if abs(arr[r] + arr[l] - t < diff ):\n",
    "                res = (l, r)\n",
    "                diff = abs(arr[r] + arr[l] - t)\n",
    "            if arr[l] + arr[r] < t:\n",
    "                l += 1\n",
    "            else:\n",
    "                r -= 1\n",
    "        print( \"The closest pair is {} and {}\".format(arr[res[0]], arr[res[1]])) \n",
    "    \n",
    "def main():\n",
    "    arr = [10, 22, 28, 29, 30, 40] \n",
    "    s = Search()\n",
    "    s.closestPair(arr, 54)\n",
    "    \n",
    "    \n",
    "if __name__ == \"__main__\":\n",
    "    main()"
   ]
  }
 ],
 "metadata": {
  "kernelspec": {
   "display_name": "Python 3",
   "language": "python",
   "name": "python3"
  },
  "language_info": {
   "codemirror_mode": {
    "name": "ipython",
    "version": 3
   },
   "file_extension": ".py",
   "mimetype": "text/x-python",
   "name": "python",
   "nbconvert_exporter": "python",
   "pygments_lexer": "ipython3",
   "version": "3.7.3"
  }
 },
 "nbformat": 4,
 "nbformat_minor": 2
}
