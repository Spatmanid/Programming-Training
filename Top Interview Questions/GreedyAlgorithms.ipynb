{
 "cells": [
  {
   "cell_type": "markdown",
   "metadata": {},
   "source": [
    "# Top 10 Array and String algorithms in interview questions\n",
    "\n",
    "For further references see https://www.geeksforgeeks.org/top-10-algorithms-in-interview-questions-set-2/"
   ]
  },
  {
   "cell_type": "markdown",
   "metadata": {},
   "source": [
    "# Minimum Number of Platforms Required for a Railway/Bus Station\n",
    "\n",
    "Given arrival and departure times of all trains that reach a railway station, find the minimum number of platforms required for the railway station so that no train waits. We are given two arrays which represent arrival and departure times of trains that stop.\n",
    "\n",
    "### Complexity Analysis\n",
    "\n",
    "This algorithm has time complexity of $\\mathcal{O}(n \\log n)$."
   ]
  },
  {
   "cell_type": "code",
   "execution_count": 1,
   "metadata": {},
   "outputs": [
    {
     "name": "stdout",
     "output_type": "stream",
     "text": [
      "The minimum number of required platforms is: 3\n"
     ]
    }
   ],
   "source": [
    "class Solution:\n",
    "    def findPlatforms(self, arr, dep):\n",
    "        arr.sort()\n",
    "        dep.sort()\n",
    "        i = res = 0\n",
    "        for a in arr:\n",
    "            if a < dep[i]:\n",
    "                res += 1\n",
    "            else:\n",
    "                i += 1\n",
    "        return res\n",
    "    \n",
    "def main():\n",
    "    arr = [900, 940, 950, 1100, 1500, 1800]\n",
    "    dep = [910, 1200, 1120, 1130, 1900, 2000]\n",
    "    sol = Solution()\n",
    "    print(\"The minimum number of required platforms is:\", sol.findPlatforms(arr, dep))\n",
    "      \n",
    "if __name__ == \"__main__\":\n",
    "    main()"
   ]
  },
  {
   "cell_type": "markdown",
   "metadata": {},
   "source": [
    "# Job Scheduling with two jobs allowed at a time\n",
    "\n",
    "We are given N jobs, and their starting and ending times. We can do two jobs simultaneously at a particular moment. If one job ends at the same moment some other show starts then we can’t do them. We need to check if it is possible to complete all the jobs or not.\n",
    "\n",
    "### Complexity Analysis\n",
    "\n",
    "This algorithm has time complexity of $\\mathcal{O}(n \\log n)$."
   ]
  },
  {
   "cell_type": "code",
   "execution_count": 2,
   "metadata": {},
   "outputs": [
    {
     "name": "stdout",
     "output_type": "stream",
     "text": [
      "Possible to complete all jobs: True\n"
     ]
    }
   ],
   "source": [
    "class Solution:\n",
    "    def name(self, start, end):\n",
    "        jobs = sorted(zip(start, end))\n",
    "        cur = []\n",
    "        for s, e in jobs:\n",
    "            if len(cur) == 2:\n",
    "                if cur[1][1] <= s:\n",
    "                    cur.pop()\n",
    "                if cur[0][1] <= s:\n",
    "                    cur.pop(0)\n",
    "                if len(cur) == 2:\n",
    "                    return False\n",
    "            cur.append((s, e))\n",
    "        return True\n",
    "    \n",
    "def main():\n",
    "    start = [1, 2, 4]\n",
    "    end = [2, 3, 5]\n",
    "    sol = Solution()\n",
    "    print(\"Possible to complete all jobs:\", sol.name(start, end))\n",
    "      \n",
    "if __name__ == \"__main__\":\n",
    "    main()"
   ]
  },
  {
   "cell_type": "markdown",
   "metadata": {},
   "source": [
    "# Prim’s Minimum Spanning Tree (MST)\n",
    "\n",
    "Given a set of strings, find the longest common prefix.\n",
    "\n",
    "### Complexity Analysis\n",
    "If the input graph is represented using adjacency matrix, Prim's algorithm complexity is $\\mathcal{O}(V^2)$. If the input graph is represented using adjacency list, then the time complexity of Prim’s algorithm can be reduced to $\\mathcal{O}(E \\log V)$ with the help of binary heap."
   ]
  },
  {
   "cell_type": "code",
   "execution_count": 3,
   "metadata": {},
   "outputs": [
    {
     "name": "stdout",
     "output_type": "stream",
     "text": [
      "Minimum spanning Tree\n",
      "Edge \t // \t Weight\n",
      "0--1 \t // \t 2\n",
      "1--2 \t // \t 3\n",
      "1--4 \t // \t 5\n",
      "0--3 \t // \t 6\n",
      "Minimum spanning Tree\n",
      "Edge \t // \t Weight\n",
      "0--1 \t // \t 2\n",
      "1--2 \t // \t 3\n",
      "1--4 \t // \t 5\n",
      "0--3 \t // \t 6\n",
      "Minimum spanning Tree\n",
      "Edge \t // \t Weight\n",
      "a--d \t // \t 1\n",
      "d--c \t // \t 1\n",
      "c--b \t // \t 1\n",
      "c--f \t // \t 4\n",
      "f--e \t // \t 2\n"
     ]
    }
   ],
   "source": [
    "import collections, heapq\n",
    "\n",
    "class Prim:\n",
    "    def adjMatrix(self, adjMatrix):\n",
    "        self.graph = collections.defaultdict(list)\n",
    "        self.vertices = set()\n",
    "        for i in range(len(adjMatrix)-1):\n",
    "            for j in range(1, len(adjMatrix[0])):\n",
    "                if adjMatrix[i][j] > 0:\n",
    "                    self.addEdge(str(i), str(j), int(adjMatrix[i][j]))\n",
    "\n",
    "    def adjList(self, adjList):\n",
    "        self.graph = collections.defaultdict(list)\n",
    "        self.vertices = set()\n",
    "        for u, v, d in adjList:\n",
    "            self.addEdge(str(u), str(v), int(d))\n",
    "            \n",
    "    def addEdge(self, u, v, d):\n",
    "        self.graph[u].append((v, d))\n",
    "        self.graph[v].append((u, d))\n",
    "        self.vertices.add(u)\n",
    "        self.vertices.add(v)\n",
    "        \n",
    "    def printResult(self, res):\n",
    "        print('Minimum spanning Tree')\n",
    "        print(f\"Edge \\t // \\t Weight\")\n",
    "        for r, w in res:\n",
    "            print(f\"{r} \\t // \\t {w}\")\n",
    "            \n",
    "    def primMST(self, start):\n",
    "        pq = []\n",
    "        entryFinder = {}\n",
    "        REMOVED = '<removed>'\n",
    "        curBest = {}\n",
    "        V_E = {}\n",
    "        included = set()\n",
    "        res = []\n",
    "        \n",
    "        def addEdge(vertex, priority):\n",
    "            if vertex in entryFinder:\n",
    "                removeEdge(vertex)\n",
    "            entry = [priority, vertex]\n",
    "            entryFinder[vertex] = entry\n",
    "            heapq.heappush(pq, entry)\n",
    "            \n",
    "        def removeEdge(vertex):\n",
    "            entry = entryFinder.pop(vertex)\n",
    "            entry[-1] = REMOVED\n",
    "            \n",
    "        def popEdge():\n",
    "            while pq:\n",
    "                priority, vertex = heapq.heappop(pq)\n",
    "                if vertex is not REMOVED:\n",
    "                    del entryFinder[vertex]\n",
    "                    return vertex\n",
    "            if not pq:\n",
    "                return None\n",
    "            \n",
    "        for v in self.vertices:\n",
    "            addEdge(v, float('inf'))\n",
    "            curBest[v] = float('inf')\n",
    "            \n",
    "        addEdge(start, 0)\n",
    "        curBest[start] = 0\n",
    "        included.add(start)\n",
    "        node = popEdge()\n",
    "        \n",
    "        while True:\n",
    "            for v, w in self.graph[node]:\n",
    "                if v not in included and w < curBest[v]:\n",
    "                    addEdge(v, w)\n",
    "                    curBest[v] = w\n",
    "                    V_E[v] = (str(node) + '--' + str(v), curBest[v])\n",
    "            node = popEdge()\n",
    "            included.add(node)\n",
    "            if not node:\n",
    "                break\n",
    "            res.append(V_E[node])\n",
    "        return res       \n",
    "    \n",
    "def main():\n",
    "    pr = Prim()\n",
    "    \n",
    "    adjMatr = [[0, 2, 0, 6, 0],\n",
    "               [2, 0, 3, 8, 5], \n",
    "               [0, 3, 0, 0, 7], \n",
    "               [6, 8, 0, 0, 9], \n",
    "               [0, 5, 7, 9, 0]]\n",
    "    pr.adjMatrix(adjMatr)\n",
    "    res = pr.primMST('0')\n",
    "    pr.printResult(res)\n",
    "\n",
    "    adjLis = [[0,1,2], [0,3,6], [1,2,3], [1,3,8], [1,4,5], [2,4,7], [3,4,9]]\n",
    "    pr.adjList(adjLis)\n",
    "    res = pr.primMST('0')\n",
    "    pr.printResult(res)\n",
    "\n",
    "    adjLis2 = [['a','d','1'],['a','b','3'],['d','b','3'],['d','c','1'],\n",
    "               ['d','e','6'],['b','c','1'],['c','e','5'],['c','f','4'],['e','f','2']]\n",
    "    pr.adjList(adjLis2)\n",
    "    res = pr.primMST('a')\n",
    "    pr.printResult(res)\n",
    "    \n",
    "if __name__ == \"__main__\":\n",
    "    main()"
   ]
  },
  {
   "cell_type": "markdown",
   "metadata": {},
   "source": [
    "# Dikstra's Algorithm\n",
    "\n",
    "Implement the Dikstra's algorithm, an algorithm for finding the shorthes path between two nodes in a graph.\n",
    "\n",
    "### Complexity Analysis\n",
    "\n",
    "The time complexity of the algorithm is $\\mathcal{O}(E \\log V)$ and the space complexity is $\\mathcal{O}(V)$, where $V$ is the number of vertices and $E$ is the number of edges."
   ]
  },
  {
   "cell_type": "code",
   "execution_count": 4,
   "metadata": {},
   "outputs": [
    {
     "name": "stdout",
     "output_type": "stream",
     "text": [
      "a->c->d->e\n"
     ]
    }
   ],
   "source": [
    "import collections, heapq\n",
    "\n",
    "class GraphDikstras:\n",
    "    def __init__(self):\n",
    "        self.graph = collections.defaultdict(list)\n",
    "        self.vertices = set()        \n",
    "        \n",
    "    def createGraph(self, edges):\n",
    "        for u, v, d in edges:\n",
    "            self.graph[u].append((v, int(d)))\n",
    "            self.graph[v].append((u, int(d)))\n",
    "            self.vertices.add(u)\n",
    "            self.vertices.add(v)\n",
    "    \n",
    "    def dikstras(self, start, end):\n",
    "        pq = []                              # list of entries arranged in a heap\n",
    "        entryFinder = {}                     # mapping of tasks to entries\n",
    "        REMOVED = '<removed>'                # placeholder for removed tasks\n",
    "        curBest = {}\n",
    "        stack = {}\n",
    "        \n",
    "        def addDestination(destination, origin, priority):\n",
    "            if destination in entryFinder:\n",
    "                removeDestination(destination)\n",
    "            entry = [priority, destination, origin]\n",
    "            entryFinder[destination] = entry\n",
    "            heapq.heappush(pq, entry)\n",
    "        \n",
    "        def removeDestination(destination):\n",
    "            entry = entryFinder.pop(destination)\n",
    "            entry[-1], entry[-2] = REMOVED, REMOVED\n",
    "        \n",
    "        def popDestination():\n",
    "            while pq:\n",
    "                _, destination, origin = heapq.heappop(pq)\n",
    "                if destination is not REMOVED:\n",
    "                    del entryFinder[destination]\n",
    "                    return destination, origin\n",
    "            raise KeyError('pop for empty priority queue')\n",
    "        \n",
    "        for v in self.vertices:\n",
    "            addDestination(v, None, float('inf'))\n",
    "            curBest[v] = float('inf')\n",
    "            \n",
    "        addDestination(start, None, 0)\n",
    "        curBest[start] = 0\n",
    "        node, origin = popDestination()\n",
    "        \n",
    "        while node != end:\n",
    "            for v, d in self.graph[node]:\n",
    "                newDistance = curBest[node] + d\n",
    "                if newDistance < curBest[v]:\n",
    "                    curBest[v] = newDistance\n",
    "                    addDestination(v, node, newDistance)\n",
    "            stack[node] = (origin, curBest[node])\n",
    "            node, origin = popDestination()\n",
    "        stack[node] = (origin, curBest[node])\n",
    "        s = []\n",
    "        while node:\n",
    "            s.append(node)\n",
    "            node = stack[node][0]\n",
    "        print('->'.join(s[::-1]))         \n",
    "\n",
    "def main():\n",
    "    dik = GraphDikstras()\n",
    "    edges = [['a','b','3'], ['a','c','1'], ['b','d','2'], ['c','d','1'], ['c','e','3'], ['d','e','1']]\n",
    "    dik.createGraph(edges)\n",
    "    dik.dikstras('a', 'e')\n",
    "    \n",
    "if __name__ == \"__main__\":\n",
    "    main()"
   ]
  },
  {
   "cell_type": "markdown",
   "metadata": {},
   "source": [
    "# Fractional Knapsack Problem\n",
    "\n",
    "Given weights and values of n items, we need to put these items in a knapsack of capacity W to get the maximum total value in the knapsack.\n",
    "\n",
    "In the 0-1 Knapsack problem, we are not allowed to break items. We either take the whole item or don’t take it. \n",
    "\n",
    "In Fractional Knapsack, we can break items for maximizing the total value of knapsack. This problem in which we can break an item is also called the fractional knapsack problem.\n",
    "\n",
    "### Complexity Analysis\n",
    "\n",
    "This algorithm has time complexity of $\\mathcal{O}(n \\log n)$."
   ]
  },
  {
   "cell_type": "code",
   "execution_count": 5,
   "metadata": {},
   "outputs": [
    {
     "name": "stdout",
     "output_type": "stream",
     "text": [
      "Maximum value in Knapsack : 240.0\n"
     ]
    }
   ],
   "source": [
    "class Solution:\n",
    "    def fractionalKnapsack(self, values, weights, cap):\n",
    "        arr = sorted(zip(values, weights), key=lambda k: k[0]/k[1])\n",
    "        total = 0\n",
    "        while cap:\n",
    "            v, w = arr.pop()\n",
    "            if cap >= w:\n",
    "                total += v\n",
    "                cap -= w\n",
    "            else:\n",
    "                total += cap * (v / w)\n",
    "                cap = 0        \n",
    "        return total\n",
    "    \n",
    "def main():\n",
    "    weights = [10, 40, 20, 30]\n",
    "    values = [60, 40, 100, 120]\n",
    "    capacity = 50\n",
    "    sol = Solution()\n",
    "    print(\"Maximum value in Knapsack :\", sol.fractionalKnapsack(values, weights, capacity))\n",
    "      \n",
    "if __name__ == \"__main__\":\n",
    "    main()"
   ]
  },
  {
   "cell_type": "markdown",
   "metadata": {},
   "source": [
    "# Minimize Cash Flow among a given set of friends who have borrowed money from each other\n",
    "\n",
    "Given a number of friends who have to give or take some amount of money from one another. Design an algorithm by which the total cash flow among all the friends is minimized. \n",
    "\n",
    "### Complexity Analysis\n",
    "This algorithm has expected time complexity of $\\mathcal{O}(n^2)$."
   ]
  },
  {
   "cell_type": "code",
   "execution_count": 6,
   "metadata": {},
   "outputs": [
    {
     "name": "stdout",
     "output_type": "stream",
     "text": [
      "Person 1 pays 4000 to Person 2\n",
      "Person 0 pays 3000 to Person 2\n"
     ]
    }
   ],
   "source": [
    "class Solution:\n",
    "    def minimizeCashFlow(self, graph):\n",
    "        n = len(graph)\n",
    "        debt = [sum(row) for row in graph]\n",
    "        credit = [0] * n\n",
    "        for i in range(n):\n",
    "            for j in range(n):\n",
    "                credit[i] += graph[j][i]\n",
    "        net = [c - d for c, d in zip(credit, debt)]\n",
    "        net = [ [n, i] for i, n in enumerate(net)]\n",
    "        net.sort()\n",
    "        i, j = 0, n - 1\n",
    "        while i < j:\n",
    "            d, dInd = -net[i][0], net[i][1]\n",
    "            c, cInd = net[j]\n",
    "            if c > d:\n",
    "                print(\"Person {} pays {} to Person {}\".format(dInd, d, cInd))\n",
    "                net[j][0] = c - d\n",
    "                net[i][0] = 0\n",
    "                i += 1\n",
    "            elif c < d:\n",
    "                print(\"Person {} pays {} to Person {}\".format(dInd, c, cInd))\n",
    "                net[j][0] = 0\n",
    "                net[i][0] = -(d - c)\n",
    "                j -= 1\n",
    "            else:\n",
    "                print(\"Person {} pays {} to Person {}\".format(dInd, d, cInd))\n",
    "                net[j][0] = 0\n",
    "                net[i][0] = 0\n",
    "                i += 1\n",
    "                j -= 1\n",
    "        return None\n",
    "        \n",
    "                \n",
    "def main():\n",
    "    graph = [[0, 1000, 2000], [0, 0, 5000], [0, 0, 0] ] \n",
    "    sol = Solution()\n",
    "    sol.minimizeCashFlow(graph)\n",
    "    \n",
    "if __name__ == \"__main__\":\n",
    "    main()"
   ]
  },
  {
   "cell_type": "markdown",
   "metadata": {},
   "source": [
    "# Connect n ropes with minimum cost\n",
    "\n",
    "There are given n ropes of different lengths, we need to connect these ropes into one rope. The cost to connect two ropes is equal to sum of their lengths. We need to connect the ropes with minimum cost.\n",
    "\n",
    "### Complexity Analysis\n",
    "The time complexity of this algorithm is $\\mathcal{O}(n \\log n)$."
   ]
  },
  {
   "cell_type": "code",
   "execution_count": 7,
   "metadata": {},
   "outputs": [
    {
     "name": "stdout",
     "output_type": "stream",
     "text": [
      "The total cost to connect the ropes is: 29\n"
     ]
    }
   ],
   "source": [
    "import heapq\n",
    "class Solution:\n",
    "    def connectCost(self, arr):\n",
    "        if len(arr) < 2: return 0\n",
    "        heapq.heapify(arr)\n",
    "        cost = 0\n",
    "        while len(arr) > 1:\n",
    "            r1 = heapq.heappop(arr)\n",
    "            r2 = heapq.heappop(arr)\n",
    "            cost += r1 + r2\n",
    "            heapq.heappush(arr, r1 + r2)\n",
    "        return cost\n",
    "        \n",
    "                \n",
    "def main():\n",
    "    arr = [4, 3, 2, 6]\n",
    "    sol = Solution()\n",
    "    cost = sol.connectCost(arr)\n",
    "    print(\"The total cost to connect the ropes is: {}\".format(cost))\n",
    "    \n",
    "if __name__ == \"__main__\":\n",
    "    main()"
   ]
  }
 ],
 "metadata": {
  "kernelspec": {
   "display_name": "Python 3",
   "language": "python",
   "name": "python3"
  },
  "language_info": {
   "codemirror_mode": {
    "name": "ipython",
    "version": 3
   },
   "file_extension": ".py",
   "mimetype": "text/x-python",
   "name": "python",
   "nbconvert_exporter": "python",
   "pygments_lexer": "ipython3",
   "version": "3.7.3"
  }
 },
 "nbformat": 4,
 "nbformat_minor": 2
}
