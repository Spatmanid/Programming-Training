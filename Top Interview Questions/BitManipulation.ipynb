{
 "cells": [
  {
   "cell_type": "markdown",
   "metadata": {},
   "source": [
    "# Top 10 Bit Manipulation algorithms in interview questions\n",
    "\n",
    "For further references see https://www.geeksforgeeks.org/top-10-algorithms-in-interview-questions/"
   ]
  },
  {
   "cell_type": "markdown",
   "metadata": {},
   "source": [
    "# Find the maximum subarray XOR in a given array\n",
    "\n",
    "Given an array of integers. find the maximum XOR subarray value in given array.\n",
    "\n",
    "### Complexity Analysis\n",
    "This algorithm has time complexity of $\\mathcal{O}(n^2)$."
   ]
  },
  {
   "cell_type": "code",
   "execution_count": 1,
   "metadata": {},
   "outputs": [
    {
     "name": "stdout",
     "output_type": "stream",
     "text": [
      "Max subarray XOR is 15\n"
     ]
    }
   ],
   "source": [
    "class Solution:\n",
    "    def maxSubarrayXOR(self, arr):\n",
    "        ans = 0\n",
    "        for i in range(len(arr)):\n",
    "            curXOR = 0\n",
    "            for j in range(i, len(arr)):\n",
    "                curXOR ^= arr[j]\n",
    "                ans = max(ans, curXOR)\n",
    "        return ans\n",
    "    \n",
    "def main():\n",
    "    sol = Solution()\n",
    "    arr = [8, 1, 2, 12]\n",
    "    print(\"Max subarray XOR is\", sol.maxSubarrayXOR(arr)) \n",
    "\n",
    "if __name__ == \"__main__\":\n",
    "    main()"
   ]
  },
  {
   "cell_type": "markdown",
   "metadata": {},
   "source": [
    "# Find $n^{th}$ Magic Number\n",
    "\n",
    "A magic number is defined as a number which can be expressed as a power of 5 or sum of unique powers of 5. First few magic numbers are 5, 25, 30(5 + 25), 125, 130(125 + 5), ….\n",
    "\n",
    "Write a function to find the $n^{th}$ Magic number.\n",
    "\n",
    "### Complexity Analysis\n",
    "This algorithm has time complexity of $\\mathcal{O}(n)$."
   ]
  },
  {
   "cell_type": "code",
   "execution_count": 2,
   "metadata": {},
   "outputs": [
    {
     "name": "stdout",
     "output_type": "stream",
     "text": [
      "nth magic number is 630\n"
     ]
    }
   ],
   "source": [
    "class Solution:\n",
    "    def nthMagicNumber(self, n):\n",
    "        ans, power = 0, 5\n",
    "        while n:\n",
    "            if n & 1:\n",
    "                ans += power\n",
    "            n >>= 1\n",
    "            power *= 5\n",
    "        return ans\n",
    "    \n",
    "def main():\n",
    "    n = 9\n",
    "    sol = Solution()\n",
    "    print(\"nth magic number is\", sol.nthMagicNumber(n)) \n",
    "\n",
    "if __name__ == \"__main__\":\n",
    "    main()"
   ]
  },
  {
   "cell_type": "markdown",
   "metadata": {},
   "source": [
    "# Sum of bit differences among all pairs\n",
    "\n",
    "Given an integer array of n integers, find sum of bit differences in all pairs that can be formed from array elements. Bit difference of a pair $(x, y)$ is count of different bits at same positions in binary representations of $x$ and $y$.\n",
    "\n",
    "\n",
    "### Complexity Analysis\n",
    "This algorithm has time complexity of $\\mathcal{O}(n)$."
   ]
  },
  {
   "cell_type": "code",
   "execution_count": 3,
   "metadata": {},
   "outputs": [
    {
     "name": "stdout",
     "output_type": "stream",
     "text": [
      "4\n"
     ]
    }
   ],
   "source": [
    "class Solution:\n",
    "    def sumBitDifferences(self, arr):\n",
    "        ans, n = 0, len(arr)\n",
    "        for i in range(32):\n",
    "            count = 0\n",
    "            for j in range(n):\n",
    "                if arr[j] & 1:\n",
    "                    count += 1\n",
    "                arr[j] >>= 1\n",
    "            ans += 2 * count * (n - count)\n",
    "        return ans\n",
    "    \n",
    "def main():\n",
    "    arr = [1, 2]\n",
    "    sol = Solution()\n",
    "    print(sol.sumBitDifferences(arr)) \n",
    "\n",
    "if __name__ == \"__main__\":\n",
    "    main()"
   ]
  },
  {
   "cell_type": "markdown",
   "metadata": {},
   "source": [
    "# Swap all odd and even bits\n",
    "\n",
    "Given an unsigned integer, swap all odd bits with even bits. For example, if the given number is 23 (00010111), it should be converted to 43 (00101011). Every even position bit is swapped with adjacent bit on right side (even position bits are highlighted in binary representation of 23), and every odd position bit is swapped with adjacent on left side.\n",
    "\n",
    "\n",
    "### Complexity Analysis\n",
    "This algorithm has time complexity of $\\mathcal{O}(n)$."
   ]
  },
  {
   "cell_type": "code",
   "execution_count": 4,
   "metadata": {},
   "outputs": [
    {
     "name": "stdout",
     "output_type": "stream",
     "text": [
      "43\n"
     ]
    }
   ],
   "source": [
    "class Solution:\n",
    "    def swapBits(self, x):\n",
    "        evenMask = x & 0xAAAAAAAA\n",
    "        oddMask = x & 0x55555555\n",
    "        evenMask >>= 1\n",
    "        oddMask <<= 1\n",
    "        return oddMask | evenMask\n",
    "    \n",
    "def main():\n",
    "    x = 23\n",
    "    sol = Solution()\n",
    "    print(sol.swapBits(x))\n",
    "\n",
    "if __name__ == \"__main__\":\n",
    "    main()"
   ]
  },
  {
   "cell_type": "markdown",
   "metadata": {},
   "source": [
    "# Find the element that appears once\n",
    "\n",
    "Given an array where every element occurs three times, except one element which occurs only once. Find the element that occurs once. Expected time complexity is O(n) and O(1) extra space.\n",
    "\n",
    "### Complexity Analysis\n",
    "This algorithm has time complexity of $\\mathcal{O}(n)$."
   ]
  },
  {
   "cell_type": "code",
   "execution_count": 5,
   "metadata": {},
   "outputs": [
    {
     "name": "stdout",
     "output_type": "stream",
     "text": [
      "10\n",
      "10\n"
     ]
    }
   ],
   "source": [
    "class Solution:\n",
    "    def getSingle(self, arr):\n",
    "        n = len(arr)\n",
    "        ones = 0\n",
    "        twos = 0\n",
    "        for i in range(n):\n",
    "            twos = twos | (ones & arr[i])\n",
    "            ones = ones ^ arr[i]\n",
    "            common_bit_mask = ~(ones & twos) \n",
    "            ones &= common_bit_mask \n",
    "            twos &= common_bit_mask \n",
    "        return ones\n",
    "\n",
    "    def getSingle2(self, arr):\n",
    "        res = 0\n",
    "        for i in range(32):\n",
    "            curBit = 1 << i \n",
    "            bitSum = 0\n",
    "            for j in range(len(arr)):\n",
    "                if curBit & arr[j]:\n",
    "                    bitSum += 1\n",
    "            if bitSum % 3:\n",
    "                res |= curBit\n",
    "        return res\n",
    "        \n",
    "    \n",
    "def main():\n",
    "    arr = [3, 3, 2, 3, 2, 10, 2]\n",
    "    sol = Solution()\n",
    "    print(sol.getSingle(arr))\n",
    "    print(sol.getSingle2(arr))\n",
    "\n",
    "if __name__ == \"__main__\":\n",
    "    main()"
   ]
  },
  {
   "cell_type": "markdown",
   "metadata": {},
   "source": [
    "# Binary representation of a given number\n",
    "\n",
    "Write a program to print Binary representation of a given number.\n",
    "\n",
    "### Complexity Analysis\n",
    "This algorithm has time complexity of $\\mathcal{O}(n)$."
   ]
  },
  {
   "cell_type": "code",
   "execution_count": 6,
   "metadata": {},
   "outputs": [
    {
     "name": "stdout",
     "output_type": "stream",
     "text": [
      "00000000000000000000000000010000\n",
      "10000\n",
      "00000000000000000000000000010000\n"
     ]
    }
   ],
   "source": [
    "class Solution:\n",
    "    def binary(self, n):\n",
    "        return bin(n)\n",
    "    \n",
    "    def binary2(self, n):\n",
    "        cur = ''\n",
    "        for i in range(32):\n",
    "            if n & (1 << i):\n",
    "                cur = str(1) + cur\n",
    "            else:\n",
    "                cur = str(0) + cur\n",
    "        return cur\n",
    "    \n",
    "def main():\n",
    "    sol = Solution()\n",
    "    n = 16\n",
    "    print(f'{n:032b}')\n",
    "    print(sol.binary(n)[2:])\n",
    "    print(sol.binary2(n))\n",
    "\n",
    "if __name__ == \"__main__\":\n",
    "    main()"
   ]
  },
  {
   "cell_type": "markdown",
   "metadata": {},
   "source": [
    "# Count total set bits in all numbers from 1 to n\n",
    "\n",
    "Given a positive integer n, count the total number of set bits in binary representation of all numbers from 1 to n.\n",
    "\n",
    "### Complexity Analysis\n",
    "This algorithm has time complexity of $\\mathcal{O}(n)$."
   ]
  },
  {
   "cell_type": "code",
   "execution_count": 7,
   "metadata": {},
   "outputs": [
    {
     "name": "stdout",
     "output_type": "stream",
     "text": [
      "35\n"
     ]
    }
   ],
   "source": [
    "class Solution:\n",
    "    def countSetBits(self, n):\n",
    "        count = i = 0\n",
    "        while (1 << i) <= n:\n",
    "            for j in range(1, n+1):\n",
    "                if j & (1 << i):\n",
    "                    count += 1\n",
    "            i += 1\n",
    "        return count       \n",
    "    \n",
    "def main():\n",
    "    n = 17\n",
    "    sol = Solution()\n",
    "    print(sol.countSetBits(n))\n",
    "\n",
    "if __name__ == \"__main__\":\n",
    "    main()"
   ]
  },
  {
   "cell_type": "markdown",
   "metadata": {},
   "source": [
    "# Rotate bits of a number\n",
    "\n",
    "Bit Rotation: A rotation (or circular shift) is an operation similar to shift except that the bits that fall off at one end are put back to the other end.\n",
    "\n",
    "In left rotation, the bits that fall off at left end are put back at right end.\n",
    "\n",
    "In right rotation, the bits that fall off at right end are put back at left end.\n",
    "\n",
    "### Complexity Analysis\n",
    "This algorithm has time complexity of $\\mathcal{O}(n)$."
   ]
  },
  {
   "cell_type": "code",
   "execution_count": 8,
   "metadata": {},
   "outputs": [
    {
     "name": "stdout",
     "output_type": "stream",
     "text": [
      "0000000000011011\n",
      "0000000001101100\n",
      "1100000000000110\n"
     ]
    }
   ],
   "source": [
    "class Solution:\n",
    "    def __init__(self):\n",
    "        self.INT_SIZE = 16\n",
    "    \n",
    "    def leftRotate(self, n, d):\n",
    "        return (n << d)|(n >> (self.INT_SIZE - d))\n",
    "    \n",
    "    def rightRotate(self, n ,d):\n",
    "        return ((n >> d)|(n << (self.INT_SIZE - d))) & 0xFFFF\n",
    "    \n",
    "def main():\n",
    "    n = 27\n",
    "    d = 2\n",
    "    print(f'{n:016b}')\n",
    "    sol = Solution()\n",
    "    lr = sol.leftRotate(n, d)\n",
    "    print(f'{lr:016b}')\n",
    "    rr = sol.rightRotate(n, d)\n",
    "    print(f'{rr:016b}')\n",
    "\n",
    "if __name__ == \"__main__\":\n",
    "    main()"
   ]
  },
  {
   "cell_type": "markdown",
   "metadata": {},
   "source": [
    "# Count number of bits to be flipped to convert A to B\n",
    "\n",
    "Given two numbers $a$ and $b$. Write a program to count number of bits needed to be flipped to convert $a$ to $b$.\n",
    "\n",
    "### Complexity Analysis\n",
    "This algorithm has expected time complexity of $\\mathcal{O}(n)$."
   ]
  },
  {
   "cell_type": "code",
   "execution_count": 9,
   "metadata": {},
   "outputs": [
    {
     "name": "stdout",
     "output_type": "stream",
     "text": [
      "4\n"
     ]
    }
   ],
   "source": [
    "class Solution:\n",
    "    def flipCount(self, a, b):\n",
    "        count, n = 0, a ^ b\n",
    "        while n:\n",
    "            count += 1\n",
    "            n &= n-1\n",
    "        return count\n",
    "    \n",
    "def main():\n",
    "    a, b = 10, 20\n",
    "    sol = Solution()\n",
    "    print(sol.flipCount(a, b))\n",
    "\n",
    "if __name__ == \"__main__\":\n",
    "    main()"
   ]
  },
  {
   "cell_type": "markdown",
   "metadata": {},
   "source": [
    "# Find Next Sparse Number\n",
    "\n",
    "A number is Sparse if there are no two adjacent 1s in its binary representation. For example 5 (binary representation: 101) is sparse, but 6 (binary representation: 110) is not sparse.\n",
    "Given a number x, find the smallest Sparse number which greater than or equal to x.\n",
    "\n",
    "### Complexity Analysis\n",
    "The time complexity of this algorithm is $\\mathcal{O}(n)$."
   ]
  },
  {
   "cell_type": "code",
   "execution_count": 10,
   "metadata": {},
   "outputs": [
    {
     "name": "stdout",
     "output_type": "stream",
     "text": [
      "64\n"
     ]
    }
   ],
   "source": [
    "class Solution:\n",
    "    def nextSparse(self, n):\n",
    "        binary = bin(n)[2:]\n",
    "        stack = []\n",
    "        for c in binary[::-1]:\n",
    "            stack.append(c)\n",
    "        stack.append('0')\n",
    "        l, r = 0, 1\n",
    "        while r < len(stack) - 1:\n",
    "            if stack[r] == '1' and stack[r-1] == '1' and stack[r+1] == '0':\n",
    "                for i in range(l, r+1):\n",
    "                    stack[i] = '0'\n",
    "                r += 1\n",
    "                l = r\n",
    "                stack[r] = '1'\n",
    "            r += 1\n",
    "        return int(''.join(stack[::-1]),2)\n",
    "    \n",
    "def main():\n",
    "    n = 44\n",
    "    sol = Solution()\n",
    "    print(sol.nextSparse(n))\n",
    "\n",
    "if __name__ == \"__main__\":\n",
    "    main()"
   ]
  }
 ],
 "metadata": {
  "kernelspec": {
   "display_name": "Python 3",
   "language": "python",
   "name": "python3"
  },
  "language_info": {
   "codemirror_mode": {
    "name": "ipython",
    "version": 3
   },
   "file_extension": ".py",
   "mimetype": "text/x-python",
   "name": "python",
   "nbconvert_exporter": "python",
   "pygments_lexer": "ipython3",
   "version": "3.7.3"
  }
 },
 "nbformat": 4,
 "nbformat_minor": 2
}
