{
 "cells": [
  {
   "cell_type": "markdown",
   "metadata": {},
   "source": [
    "# Count Bits\n",
    "\n",
    "Write a program to count the number of bits that are set to one in a positive integer.\n",
    "\n",
    "### Complexity:\n",
    "\n",
    "Time Complexity: $\\mathcal{O}(n)$, where n is the number of bits needed to represent the interger.\n",
    "\n",
    "Space Complexity: $\\mathcal{O}(1)$.\n",
    "\n",
    "This problem can also be solve in $\\mathcal{O}(k)$ time, where k is the number of bits that are set to one."
   ]
  },
  {
   "cell_type": "code",
   "execution_count": 1,
   "metadata": {},
   "outputs": [
    {
     "name": "stdout",
     "output_type": "stream",
     "text": [
      "3\n",
      "3\n"
     ]
    }
   ],
   "source": [
    "class Solution:\n",
    "    def count_bits(self, x):\n",
    "        cnt = 0\n",
    "        while x:\n",
    "            cnt += x & 1\n",
    "            x >>= 1\n",
    "        return cnt\n",
    "    \n",
    "    def count_bits_log(self, x):\n",
    "        cnt = 0\n",
    "        while x:\n",
    "            cnt += 1\n",
    "            x &= x - 1\n",
    "        return cnt\n",
    "    \n",
    "def main():\n",
    "    sol = Solution()\n",
    "    x = 13\n",
    "    print(sol.count_bits(x))\n",
    "    print(sol.count_bits_log(x))\n",
    "    \n",
    "if __name__ == \"__main__\":\n",
    "    main()   "
   ]
  },
  {
   "cell_type": "markdown",
   "metadata": {},
   "source": [
    "# Swap Bits\n",
    "\n",
    "Write a program that takes as input a 32-bit integer and swaps the bits at indices i and j.\n",
    "\n",
    "### Complexity\n",
    "\n",
    "Time Complexity: $\\mathcal{O}(1)$.\n",
    "\n",
    "Space Complexity: $\\mathcal{O}(1)$."
   ]
  },
  {
   "cell_type": "code",
   "execution_count": 2,
   "metadata": {},
   "outputs": [
    {
     "name": "stdout",
     "output_type": "stream",
     "text": [
      "225\n"
     ]
    }
   ],
   "source": [
    "class Solution:\n",
    "    def swap_bits(self, x, i, j):\n",
    "        if (x >> i) & 1 != (x >> j) & 1:\n",
    "            bit_mask = (1 << i) | (1 << j)\n",
    "            x ^= bit_mask       \n",
    "        return x\n",
    "    \n",
    "def main():\n",
    "    sol = Solution()\n",
    "    x = 163\n",
    "    print(sol.swap_bits(x, 1, 6))\n",
    "    \n",
    "if __name__ == \"__main__\":\n",
    "    main()   "
   ]
  },
  {
   "cell_type": "markdown",
   "metadata": {},
   "source": [
    "# Compute Parity\n",
    "\n",
    "Write a program that computes the parity of a 64-bit word.\n",
    "\n",
    "### Complexity:\n",
    "\n",
    "Time Complexity: $\\mathcal{O}(k)$ time, where k is the number of bits that are set to one.\n",
    "\n",
    "Space Complexity: $\\mathcal{O}(1)$."
   ]
  },
  {
   "cell_type": "code",
   "execution_count": 3,
   "metadata": {},
   "outputs": [
    {
     "name": "stdout",
     "output_type": "stream",
     "text": [
      "1\n"
     ]
    }
   ],
   "source": [
    "class Solution:\n",
    "    def compute_parity(self, x):\n",
    "        parity = 0\n",
    "        while x:\n",
    "            parity ^= 1\n",
    "            x &= x - 1\n",
    "        return parity\n",
    "    \n",
    "def main():\n",
    "    sol = Solution()\n",
    "    x = 14\n",
    "    print(sol.compute_parity(x))\n",
    "    \n",
    "if __name__ == \"__main__\":\n",
    "    main()  "
   ]
  },
  {
   "cell_type": "markdown",
   "metadata": {},
   "source": [
    "# Reverse Bits\n",
    "\n",
    "Write a program that takes as input a 32-bit unsigned integer and return the 32-bit unsigned interger consisting of the bits of the input in reverse order.\n",
    "\n",
    "### Complexity\n",
    "\n",
    "Time Complexity: $\\mathcal{O}(n / L)$, for n bit integers and L-bit cache.\n",
    "\n",
    "Space Complexity: $\\mathcal{O}(L)$."
   ]
  },
  {
   "cell_type": "code",
   "execution_count": 4,
   "metadata": {},
   "outputs": [
    {
     "name": "stdout",
     "output_type": "stream",
     "text": [
      "00000000000000000000000000001110\n",
      "01110000000000000000000000000000\n"
     ]
    }
   ],
   "source": [
    "class Solution:\n",
    "    def reverse_bits(self, x):\n",
    "        cache = {0:0, 1:8, 2:4, 3:12, 4:2, 5:10, 6:6, 7:14,\n",
    "                 8:1, 9:9, 10:5, 11:13, 12:3, 13:11, 14:7, 15:15}\n",
    "        ans = 0\n",
    "        for _ in range(8):\n",
    "            ans += cache[x & 0xF]\n",
    "            ans <<= 4\n",
    "            x >>= 4\n",
    "        return ans >> 4\n",
    "    \n",
    "def main():\n",
    "    sol = Solution()\n",
    "    x = 14\n",
    "    print(f'{x:032b}')\n",
    "    x = sol.reverse_bits(x)\n",
    "    print(f'{x:032b}')\n",
    "    \n",
    "if __name__ == \"__main__\":\n",
    "    main() "
   ]
  },
  {
   "cell_type": "markdown",
   "metadata": {},
   "source": [
    "# Closest integer with same weight\n",
    "\n",
    "Define the weight of a unsigned 16-bit integer $x$ to be the number of bits that are set to 1 in its binary representation.\n",
    "\n",
    "Write a program which takes as input a nonnegative integer $x$ and retums a number $y$ which is not equal to $x$, but has the same weight as $x$ and their difference,$|y - x|$, is as small as possible.\n",
    "\n",
    "### Complexity Analysis\n",
    "\n",
    "Time Complexity: $\\mathcal{O}(n)$, where n is the integer's width.\n",
    "\n",
    "Space Complexity: $\\mathcal{O}(1)$."
   ]
  },
  {
   "cell_type": "code",
   "execution_count": 5,
   "metadata": {},
   "outputs": [
    {
     "name": "stdout",
     "output_type": "stream",
     "text": [
      "1011100\n",
      "1011010\n"
     ]
    }
   ],
   "source": [
    "class Solution:\n",
    "    def closest_integer(self, x):\n",
    "        for i in range(15):\n",
    "            if (x >> i) & 1 != (x >> i + 1) & 1:\n",
    "                x ^= (1 << i) | (1 << (i+1))\n",
    "                return x\n",
    "        raise ValueError(\"All bits are set to 0 or 1\")\n",
    "    \n",
    "def main():\n",
    "    sol = Solution()\n",
    "    x = 92\n",
    "    print(bin(x)[2:])\n",
    "    x = sol.closest_integer(x)\n",
    "    print(bin(x)[2:])\n",
    "    \n",
    "if __name__ == \"__main__\":\n",
    "    main() "
   ]
  },
  {
   "cell_type": "markdown",
   "metadata": {},
   "source": [
    "# Compute $x^y$\n",
    "\n",
    "Write a program that takes a double $x$ and an integer $y$ and return $x^y$.\n",
    "\n",
    "### Complexity Analysis\n",
    "\n",
    "Time Complexity: $\\mathcal{O}(n)$, where n is the number of bits needed to represent $y$.\n",
    "\n",
    "Space Complexity: $\\mathcal{O}(1)$"
   ]
  },
  {
   "cell_type": "code",
   "execution_count": 6,
   "metadata": {},
   "outputs": [
    {
     "name": "stdout",
     "output_type": "stream",
     "text": [
      "243.0\n"
     ]
    }
   ],
   "source": [
    "class Solution:\n",
    "    def power(self, x, y):\n",
    "        prod, power = 1.0, y\n",
    "        if y < 0:\n",
    "            power, x = - y, 1.0 / x\n",
    "        while power:\n",
    "            if power & 1:\n",
    "                prod *= x\n",
    "            x *= x\n",
    "            power >>= 1\n",
    "        return prod\n",
    "    \n",
    "def main():\n",
    "    sol = Solution()\n",
    "    x, y = 3, 5\n",
    "    x = sol.power(x, y)\n",
    "    print(x)\n",
    "    \n",
    "if __name__ == \"__main__\":\n",
    "    main() "
   ]
  },
  {
   "cell_type": "markdown",
   "metadata": {},
   "source": [
    "# Reverse Digits\n",
    "\n",
    "Write a program which takes an integer and returns the integer corresponding to the digits of the input written in reverse order.\n",
    "\n",
    "## Complexity Analysis\n",
    "\n",
    "Time Complexity: $\\mathcal{O}(n)$, where n is the integer width.\n",
    "\n",
    "Space Complexity: $\\mathcal{O}(1)$."
   ]
  },
  {
   "cell_type": "code",
   "execution_count": 7,
   "metadata": {},
   "outputs": [
    {
     "name": "stdout",
     "output_type": "stream",
     "text": [
      "-513\n"
     ]
    }
   ],
   "source": [
    "class Solution:\n",
    "    def reverse_digits(self, x):\n",
    "        result, cur_x = 0, abs(x)\n",
    "        while cur_x:\n",
    "            result = result * 10 + cur_x % 10\n",
    "            cur_x //= 10\n",
    "        return -result if x < 0 else result\n",
    "    \n",
    "def main():\n",
    "    sol = Solution()\n",
    "    x = -315\n",
    "    x = sol.reverse_digits(x)\n",
    "    print(x)\n",
    "    \n",
    "if __name__ == \"__main__\":\n",
    "    main() "
   ]
  },
  {
   "cell_type": "markdown",
   "metadata": {},
   "source": [
    "# Check if a decimal is a Palindrome\n",
    "\n",
    "Write a program that takes an integer and determines if that integer's representation as a decimal string is a palindrome.\n",
    "\n",
    "\n",
    "### Complexity Analysis\n",
    "\n",
    "Time Complexity: $\\mathcal{O}(n)$, where n is the integer width.\n",
    "\n",
    "Space Complexity: $\\mathcal{O}(1)$."
   ]
  },
  {
   "cell_type": "code",
   "execution_count": 8,
   "metadata": {},
   "outputs": [
    {
     "name": "stdout",
     "output_type": "stream",
     "text": [
      "True\n"
     ]
    }
   ],
   "source": [
    "import math\n",
    "class Solution:\n",
    "    def is_palindrome(self, x):\n",
    "        if x <= 0:\n",
    "            return x == 0\n",
    "        \n",
    "        num_digits = math.floor(math.log10(x)) + 1\n",
    "        msd_mask = pow(10, num_digits - 1)\n",
    "        for _ in range(num_digits // 2):\n",
    "            if x // msd_mask != x % 10:\n",
    "                return False\n",
    "            x %= msd_mask\n",
    "            x //= 10\n",
    "            msd_mask //= 100\n",
    "        return True\n",
    "    \n",
    "def main():\n",
    "    sol = Solution()\n",
    "    x = 17671\n",
    "    x = sol.is_palindrome(x)\n",
    "    print(x)\n",
    "    \n",
    "if __name__ == \"__main__\":\n",
    "    main() "
   ]
  },
  {
   "cell_type": "markdown",
   "metadata": {},
   "source": [
    "# Generate Uniform Random Numbers\n",
    "\n",
    "Write a program to generate a random integer $i$ between $a$ and $b$, inclusive.\n",
    "\n",
    "### Complexity Analysis\n",
    "\n",
    "Time Complexity: $\\mathcal{O}(1)$.\n",
    "\n",
    "Space Complexity: $\\mathcal{O}(1)$."
   ]
  },
  {
   "cell_type": "code",
   "execution_count": 9,
   "metadata": {},
   "outputs": [
    {
     "name": "stdout",
     "output_type": "stream",
     "text": [
      "The probability of getting 1 is 0.16905\n",
      "The probability of getting 2 is 0.16671\n",
      "The probability of getting 3 is 0.16613\n",
      "The probability of getting 4 is 0.1657\n",
      "The probability of getting 5 is 0.16648\n",
      "The probability of getting 6 is 0.16593\n"
     ]
    }
   ],
   "source": [
    "from random import randint\n",
    "from collections import Counter\n",
    "class Solution:\n",
    "    def uniform_random(self, lower_bound, upper_bound):\n",
    "        number_of_outcomes = upper_bound - lower_bound + 1\n",
    "        while True:\n",
    "            result, i = 0, 0\n",
    "            while (1 << i) < number_of_outcomes:\n",
    "                result = (result << 1) | randint(0,1)\n",
    "                i += 1\n",
    "            if result < number_of_outcomes:\n",
    "                break\n",
    "        return result + lower_bound\n",
    "    \n",
    "def main():\n",
    "    sol = Solution()\n",
    "    hashMap = Counter()\n",
    "    n = 100000\n",
    "    for _ in range(n):\n",
    "        x = sol.uniform_random(1, 6)\n",
    "        hashMap[x] += 1\n",
    "    for i in range(6):\n",
    "        print(\"The probability of getting {} is {}\".format(i+1, hashMap[i+1]/n))\n",
    "    \n",
    "if __name__ == \"__main__\":\n",
    "    main() "
   ]
  },
  {
   "cell_type": "markdown",
   "metadata": {},
   "source": [
    "# Rectangle Intersection\n",
    "\n",
    "Write a program which tests if two rectangles have a nonempty intersection. If the intersection is non-empty, return the rectangle formed by their intersection.\n",
    "\n",
    "## Complexity Analysis\n",
    "\n",
    "Time Complexity: $\\mathcal{O}(1)$.\n",
    "\n",
    "Space Complexity: $\\mathcal{O}(1)$."
   ]
  },
  {
   "cell_type": "code",
   "execution_count": 10,
   "metadata": {},
   "outputs": [
    {
     "name": "stdout",
     "output_type": "stream",
     "text": [
      "[0, 0, -1, -1]\n"
     ]
    }
   ],
   "source": [
    "class Solution:\n",
    "    def intersect_rectange(self, rec1, rec2):\n",
    "        def isIntersect(rec1, rec2):\n",
    "            return (rec1[0] < rec2[2] and rec2[0] < rec1[2] and\n",
    "                    rec1[1] < rec2[3] and rec2[1] < rec1[3])\n",
    "\n",
    "        if not isIntersect(rec1, rec2):\n",
    "            return [0, 0, -1, -1]\n",
    "\n",
    "        return [max(rec1[0], rec2[0]), max(rec1[1], rec2[1]), min(rec1[2], rec2[2]), min(rec1[3], rec2[3])]\n",
    "    \n",
    "def main():\n",
    "    sol = Solution()\n",
    "    rec1 = [1,2,3,4]\n",
    "    rec2 = [5,3,2,4]\n",
    "    x = sol.intersect_rectange(rec1, rec2)\n",
    "    print(x)\n",
    "    \n",
    "if __name__ == \"__main__\":\n",
    "    main() \n",
    "\n"
   ]
  }
 ],
 "metadata": {
  "kernelspec": {
   "display_name": "Python 3",
   "language": "python",
   "name": "python3"
  },
  "language_info": {
   "codemirror_mode": {
    "name": "ipython",
    "version": 3
   },
   "file_extension": ".py",
   "mimetype": "text/x-python",
   "name": "python",
   "nbconvert_exporter": "python",
   "pygments_lexer": "ipython3",
   "version": "3.7.3"
  }
 },
 "nbformat": 4,
 "nbformat_minor": 2
}
