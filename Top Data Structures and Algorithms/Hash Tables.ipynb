{
 "cells": [
  {
   "cell_type": "markdown",
   "metadata": {},
   "source": [
    "# Test for palindromic permutations\n",
    "\n",
    "Write a program to test whether the letters forming a string can be permuted to form a palindrome.\n",
    "\n",
    "### Complexity\n",
    "\n",
    "Time Complexity: $\\mathcal{O}(n)$.\n",
    "\n",
    "Space Complexity: $\\mathcal{O}(n)$."
   ]
  },
  {
   "cell_type": "code",
   "execution_count": 1,
   "metadata": {},
   "outputs": [
    {
     "name": "stdout",
     "output_type": "stream",
     "text": [
      "True\n"
     ]
    }
   ],
   "source": [
    "import collections\n",
    "class Solution:\n",
    "    def can_form_palindromes(self, s):\n",
    "        return sum(v % 2 for v in collections.Counter(s).values()) <= 1\n",
    "    \n",
    "def main():\n",
    "    s = \"aparabocobrapaac\"\n",
    "    sol = Solution()\n",
    "    pal = sol.can_form_palindromes(s)\n",
    "    print(pal)\n",
    "    \n",
    "if __name__ == \"__main__\":\n",
    "    main()"
   ]
  },
  {
   "cell_type": "markdown",
   "metadata": {},
   "source": [
    "# Is an anonymous letter constructible\n",
    "\n",
    "Write a program which takes text for an anonymous letter and text for a magazine and determines if it is possible to write the anonymous letter using the magazine.\n",
    "\n",
    "### Complexity\n",
    "\n",
    "Time Complexity: $\\mathcal{O}(m + n)$.\n",
    "\n",
    "Space Complexity: $\\mathcal{O}(m + n)$."
   ]
  },
  {
   "cell_type": "code",
   "execution_count": 2,
   "metadata": {},
   "outputs": [
    {
     "name": "stdout",
     "output_type": "stream",
     "text": [
      "True\n"
     ]
    }
   ],
   "source": [
    "import collections\n",
    "class Solution:\n",
    "    def is_letter_constructible(self, letter, magazine):\n",
    "        return not collections.Counter(letter) - collections.Counter(magazine)\n",
    "    \n",
    "def main():\n",
    "    letter = \"I cared for five seconds, then i got distracted!\"\n",
    "    magazine = \"\"\"In the sixth year of the Peloponnesian War, \n",
    "                  the Athenian citizen Dikaiopolis concludes \n",
    "                  a separate peace treaty with the Spartans. \n",
    "                  For himself and his family exclusively. \n",
    "                  Groups of Karvouniarians from Menidi begin \n",
    "                  to lynch him as a traitor. But Dikaiopolis \n",
    "                  is preparing to celebrate Dionysia. And he \n",
    "                  means it. He cooks!\"\"\"\n",
    "    sol = Solution()\n",
    "    let = sol.is_letter_constructible(letter, magazine)\n",
    "    print(let)\n",
    "    \n",
    "if __name__ == \"__main__\":\n",
    "    main()"
   ]
  },
  {
   "cell_type": "markdown",
   "metadata": {},
   "source": [
    "# Implement an ISBN cache\n",
    "\n",
    "Create a cache for looking up prices of books identified by their ISBN. You implement lookup, insert, and remove methods. Use the Least Recently Used (LRU) policy for cache eviction.\n",
    "\n",
    "### Complexity\n",
    "\n",
    "Time Complexity: $\\mathcal{O}(1)$.\n",
    "\n",
    "Space Complexity: $\\mathcal{O}(m)$."
   ]
  },
  {
   "cell_type": "code",
   "execution_count": 3,
   "metadata": {},
   "outputs": [],
   "source": [
    "class LRUCache:\n",
    "    def __init__(self, capacity):\n",
    "        self.isbn_price_table = collections.OrderedDict()\n",
    "        self.capacity = capacity\n",
    "        \n",
    "    def lookup(self, isbn):\n",
    "        if isbn not in self.isbn_price_table:\n",
    "            return -1\n",
    "        self.isbn_price_table.move_to_end(isbn)\n",
    "        return self.isbn_price_table[isbn]\n",
    "    \n",
    "    def insert(self, isbn, price):\n",
    "        if isbn in self.isbn_price_table:\n",
    "            self.isbn_price_table.move_to_end(isbn)\n",
    "        self.isbn_price_table[isbn] = price\n",
    "        if len(self.isbn_price_table) > self.capacity:\n",
    "            self.isbn_price_table.popitem(last=False)\n",
    "            \n",
    "    def erase(self, isbn):\n",
    "        return self.isbn_price_table.pop(isbn, None) is not None"
   ]
  },
  {
   "cell_type": "markdown",
   "metadata": {},
   "source": [
    "# Compute the LCA, optimizing for close ancestors\n",
    "\n",
    "Design an algorithm for computing the LCA of two nodes in a binary tree. The algorithm's time complexity should depend only on the distance from the nodes to the LCA.\n",
    "\n",
    "### Complexity\n",
    "\n",
    "Time Complexity: $\\mathcal{O}(d_1 + d_2)$.\n",
    "\n",
    "Space Complexity: $\\mathcal{O}(d_1 + d_2)$."
   ]
  },
  {
   "cell_type": "code",
   "execution_count": 4,
   "metadata": {},
   "outputs": [],
   "source": [
    "class Node:\n",
    "    def __init__(self, val=0, parent=None, left=None, right=None):\n",
    "        self.val = val\n",
    "        self.parent = parent\n",
    "        self.left = left\n",
    "        self.right = right\n",
    "\n",
    "class Solution:\n",
    "    def LCA(self, node1, node2):\n",
    "        seen_nodes = set()\n",
    "        while node1 or node2:\n",
    "            if node1:\n",
    "                if node1 in seen_nodes:\n",
    "                    return node1\n",
    "                seen_nodes.add(node1)\n",
    "                node1 = node1.parent\n",
    "            if node2:\n",
    "                if node2 in seen_nodes:\n",
    "                    return node2\n",
    "                seen_nodes.add(node2)\n",
    "                node2 = node2.parent\n",
    "        raise ValueError(\"Node_1 and Node_2 are not in the same tree.\")"
   ]
  },
  {
   "cell_type": "markdown",
   "metadata": {},
   "source": [
    "# Find the nearest repeated entries in an array\n",
    "\n",
    "Write a program which takes as input an array and finds the distance between a closest pair of equal entries\n",
    "\n",
    "### Complexity\n",
    "\n",
    "Time Complexity: $\\mathcal{O}(n)$.\n",
    "\n",
    "Space Complexity: $\\mathcal{O}(d)$, where d is the number of distinct words."
   ]
  },
  {
   "cell_type": "code",
   "execution_count": 5,
   "metadata": {},
   "outputs": [
    {
     "name": "stdout",
     "output_type": "stream",
     "text": [
      "2\n"
     ]
    }
   ],
   "source": [
    "class Solution:\n",
    "    def find_nearest_repetition(self, words):\n",
    "        word_latest_idx, nearest_repetition = dict(), float('inf')\n",
    "        for i, word in enumerate(words):\n",
    "            if word in word_latest_idx:\n",
    "                nearest_repetition = min(nearest_repetition, i - word_latest_idx[word])\n",
    "            word_latest_idx[word] = i\n",
    "        return nearest_repetition if nearest_repetition != float('inf') else -1\n",
    "    \n",
    "def main():\n",
    "    words = [\"All\", \"work\", \"and\", \"no\", \"play\", \"makes\", \"for\", \"no\", \"work\",\n",
    "             \"no\", \"fun\",\"and\", \"no\", \"results\"]\n",
    "    sol = Solution()\n",
    "    nearest = sol.find_nearest_repetition(words)\n",
    "    print(nearest)\n",
    "    \n",
    "if __name__ == \"__main__\":\n",
    "    main()"
   ]
  },
  {
   "cell_type": "markdown",
   "metadata": {},
   "source": [
    "# Find the smallest subarray covering all values\n",
    "\n",
    "Write a program which takes an array of strings and a set of strings, and return the indices of the starting and ending index of a shortest subarray of the given array that \"covers\" the set, i.e., contains all strings in the set.\n",
    "\n",
    "### Complexity\n",
    "\n",
    "Time Complexity: $\\mathcal{O}(n)$.\n",
    "\n",
    "Space Complexity: $\\mathcal{O}(n)$."
   ]
  },
  {
   "cell_type": "code",
   "execution_count": 6,
   "metadata": {},
   "outputs": [
    {
     "ename": "NameError",
     "evalue": "name 'Counter' is not defined",
     "output_type": "error",
     "traceback": [
      "\u001b[1;31m---------------------------------------------------------------------------\u001b[0m",
      "\u001b[1;31mNameError\u001b[0m                                 Traceback (most recent call last)",
      "\u001b[1;32m<ipython-input-6-3536621c50bd>\u001b[0m in \u001b[0;36m<module>\u001b[1;34m\u001b[0m\n\u001b[0;32m     29\u001b[0m \u001b[1;33m\u001b[0m\u001b[0m\n\u001b[0;32m     30\u001b[0m \u001b[1;32mif\u001b[0m \u001b[0m__name__\u001b[0m \u001b[1;33m==\u001b[0m \u001b[1;34m\"__main__\"\u001b[0m\u001b[1;33m:\u001b[0m\u001b[1;33m\u001b[0m\u001b[1;33m\u001b[0m\u001b[0m\n\u001b[1;32m---> 31\u001b[1;33m     \u001b[0mmain\u001b[0m\u001b[1;33m(\u001b[0m\u001b[1;33m)\u001b[0m\u001b[1;33m\u001b[0m\u001b[1;33m\u001b[0m\u001b[0m\n\u001b[0m",
      "\u001b[1;32m<ipython-input-6-3536621c50bd>\u001b[0m in \u001b[0;36mmain\u001b[1;34m()\u001b[0m\n\u001b[0;32m     25\u001b[0m     \u001b[0mkeywords\u001b[0m \u001b[1;33m=\u001b[0m \u001b[0mset\u001b[0m\u001b[1;33m(\u001b[0m\u001b[1;33m[\u001b[0m\u001b[1;34m'apple'\u001b[0m\u001b[1;33m,\u001b[0m \u001b[1;34m'banana'\u001b[0m\u001b[1;33m]\u001b[0m\u001b[1;33m)\u001b[0m\u001b[1;33m\u001b[0m\u001b[1;33m\u001b[0m\u001b[0m\n\u001b[0;32m     26\u001b[0m     \u001b[0msol\u001b[0m \u001b[1;33m=\u001b[0m \u001b[0mSolution\u001b[0m\u001b[1;33m(\u001b[0m\u001b[1;33m)\u001b[0m\u001b[1;33m\u001b[0m\u001b[1;33m\u001b[0m\u001b[0m\n\u001b[1;32m---> 27\u001b[1;33m     \u001b[0msubarray\u001b[0m \u001b[1;33m=\u001b[0m \u001b[0msol\u001b[0m\u001b[1;33m.\u001b[0m\u001b[0mfind_smallest_subarray\u001b[0m\u001b[1;33m(\u001b[0m\u001b[0mparagraph\u001b[0m\u001b[1;33m,\u001b[0m \u001b[0mkeywords\u001b[0m\u001b[1;33m)\u001b[0m\u001b[1;33m\u001b[0m\u001b[1;33m\u001b[0m\u001b[0m\n\u001b[0m\u001b[0;32m     28\u001b[0m     \u001b[0mprint\u001b[0m\u001b[1;33m(\u001b[0m\u001b[0msubarray\u001b[0m\u001b[1;33m)\u001b[0m\u001b[1;33m\u001b[0m\u001b[1;33m\u001b[0m\u001b[0m\n\u001b[0;32m     29\u001b[0m \u001b[1;33m\u001b[0m\u001b[0m\n",
      "\u001b[1;32m<ipython-input-6-3536621c50bd>\u001b[0m in \u001b[0;36mfind_smallest_subarray\u001b[1;34m(self, paragraph, keywords)\u001b[0m\n\u001b[0;32m      1\u001b[0m \u001b[1;32mclass\u001b[0m \u001b[0mSolution\u001b[0m\u001b[1;33m:\u001b[0m\u001b[1;33m\u001b[0m\u001b[1;33m\u001b[0m\u001b[0m\n\u001b[0;32m      2\u001b[0m     \u001b[1;32mdef\u001b[0m \u001b[0mfind_smallest_subarray\u001b[0m\u001b[1;33m(\u001b[0m\u001b[0mself\u001b[0m\u001b[1;33m,\u001b[0m \u001b[0mparagraph\u001b[0m\u001b[1;33m,\u001b[0m \u001b[0mkeywords\u001b[0m\u001b[1;33m)\u001b[0m\u001b[1;33m:\u001b[0m\u001b[1;33m\u001b[0m\u001b[1;33m\u001b[0m\u001b[0m\n\u001b[1;32m----> 3\u001b[1;33m         \u001b[0mkeywords_to_cover\u001b[0m \u001b[1;33m=\u001b[0m \u001b[0mCounter\u001b[0m\u001b[1;33m(\u001b[0m\u001b[0mkeywords\u001b[0m\u001b[1;33m)\u001b[0m\u001b[1;33m\u001b[0m\u001b[1;33m\u001b[0m\u001b[0m\n\u001b[0m\u001b[0;32m      4\u001b[0m         \u001b[0mresult\u001b[0m \u001b[1;33m=\u001b[0m \u001b[1;33m(\u001b[0m\u001b[1;33m-\u001b[0m\u001b[1;36m1\u001b[0m\u001b[1;33m,\u001b[0m \u001b[1;33m-\u001b[0m\u001b[1;36m1\u001b[0m\u001b[1;33m)\u001b[0m\u001b[1;33m\u001b[0m\u001b[1;33m\u001b[0m\u001b[0m\n\u001b[0;32m      5\u001b[0m         \u001b[0mremaining_to_cover\u001b[0m \u001b[1;33m=\u001b[0m \u001b[0mlen\u001b[0m\u001b[1;33m(\u001b[0m\u001b[0mkeywords\u001b[0m\u001b[1;33m)\u001b[0m\u001b[1;33m\u001b[0m\u001b[1;33m\u001b[0m\u001b[0m\n",
      "\u001b[1;31mNameError\u001b[0m: name 'Counter' is not defined"
     ]
    }
   ],
   "source": [
    "class Solution:\n",
    "    def find_smallest_subarray(self, paragraph, keywords):\n",
    "        keywords_to_cover = Counter(keywords)\n",
    "        result = (-1, -1)\n",
    "        remaining_to_cover = len(keywords)\n",
    "        left = 0\n",
    "        for right, p in enumerate(paragraph):\n",
    "            if p in keywords:\n",
    "                keywords_to_cover[p] -= 1\n",
    "                if keywords_to_cover[p] >= 0:\n",
    "                    remaining_to_cover -= 1\n",
    "            while remaining_to_cover == 0:\n",
    "                if result == (-1, -1) or right - left < result[1] - result[0]:\n",
    "                    result = (left, right)\n",
    "                p1 = paragraph[left]\n",
    "                if p1 in keywords:\n",
    "                    keywords_to_cover[p1] += 1\n",
    "                    if keywords_to_cover[p1] > 0:\n",
    "                        remaining_to_cover += 1\n",
    "                left += 1\n",
    "        return result\n",
    "    \n",
    "def main():\n",
    "    paragraph = ['apple', 'banana', 'apple', 'apple', 'dog', 'cat', 'apple', 'dog', 'banana', 'apple', 'cat', 'dog']\n",
    "    keywords = set(['apple', 'banana'])\n",
    "    sol = Solution()\n",
    "    subarray = sol.find_smallest_subarray(paragraph, keywords)\n",
    "    print(subarray)\n",
    "    \n",
    "if __name__ == \"__main__\":\n",
    "    main()"
   ]
  },
  {
   "cell_type": "markdown",
   "metadata": {},
   "source": [
    "# Find the smallest subarray sequentially covering all values\n",
    "\n",
    "Write a program that takes two arrays of strings, and return the indices of the starting and ending index of a shortest subarray of the first array (the \"paragraph\" array) that \"sequentially covers\", i.e., contains all the strings in the second array (the \"keywords\" array), in the order in which they appear in the keywords array. You can assume all keywords are distinct.\n",
    "\n",
    "### Complexity\n",
    "\n",
    "Time Complexity: $\\mathcal{O}(n)$.\n",
    "\n",
    "Space Complexity: $\\mathcal{O}(m)$."
   ]
  },
  {
   "cell_type": "code",
   "execution_count": 7,
   "metadata": {},
   "outputs": [
    {
     "name": "stdout",
     "output_type": "stream",
     "text": [
      "(10, 11)\n"
     ]
    }
   ],
   "source": [
    "class Solution:\n",
    "    def find_smallest_subarray_sequentially_covering(self, paragraph, keywords):\n",
    "        keywords_to_idx = {k:i for i, k in enumerate(keywords)}\n",
    "        latest_occurence = [-1] * len(keywords)\n",
    "        shortest_subarray_length = [float('inf')] * len(keywords)\n",
    "        \n",
    "        shortest_distance = float('inf')\n",
    "        result = (-1, -1)\n",
    "        for i, p in enumerate(paragraph):\n",
    "            if p in keywords_to_idx:\n",
    "                keyword_idx = keywords_to_idx[p]\n",
    "                if keyword_idx == 0:\n",
    "                    shortest_subarray_length[keyword_idx] = 1\n",
    "                elif shortest_subarray_length[keyword_idx - 1] != float('inf'):\n",
    "                    distance_to_previous_keyword = i - latest_occurence[keyword_idx - 1]\n",
    "                    shortest_subarray_length[keyword_idx] = (distance_to_previous_keyword + \n",
    "                                                             shortest_subarray_length[keyword_idx - 1])\n",
    "                latest_occurence[keyword_idx] = i\n",
    "                \n",
    "                if (keyword_idx == len(keywords) - 1 and\n",
    "                    shortest_subarray_length[-1] < shortest_distance):\n",
    "                    shortest_distance = shortest_subarray_length[-1]\n",
    "                    result = (i - shortest_distance + 1, i)\n",
    "                \n",
    "        return result\n",
    "\n",
    "        \n",
    "    \n",
    "def main():\n",
    "    paragraph = ['apple', 'banana', 'apple', 'apple', 'dog', 'cat', 'apple', 'dog', 'banana', 'apple', 'cat', 'dog']\n",
    "    keywords = set(['cat', 'dog'])\n",
    "    sol = Solution()\n",
    "    subarray = sol.find_smallest_subarray_sequentially_covering(paragraph, keywords)\n",
    "    print(subarray)\n",
    "    \n",
    "if __name__ == \"__main__\":\n",
    "    main()"
   ]
  },
  {
   "cell_type": "markdown",
   "metadata": {},
   "source": [
    "# Find the longest subarray with distinct entries\n",
    "\n",
    "Write a program that takes an array and returns the length of a longest subarray with the property that all its elements are distinct.\n",
    "\n",
    "### Complexity\n",
    "\n",
    "Time Complexity: $\\mathcal{O}(n)$.\n",
    "\n",
    "Space Complexity: $\\mathcal{O}(k)$, where k is the number of distinct elements."
   ]
  },
  {
   "cell_type": "code",
   "execution_count": 8,
   "metadata": {},
   "outputs": [
    {
     "name": "stdout",
     "output_type": "stream",
     "text": [
      "7\n"
     ]
    }
   ],
   "source": [
    "class Solution:\n",
    "    def find_longest_subarray_with_distinct_entries(self, A):\n",
    "        h = {}\n",
    "        longest = left = 0\n",
    "        txt = ''\n",
    "        for right, c in enumerate(A):\n",
    "            if c in h:\n",
    "                longest = max(longest, right - left)\n",
    "                left = h[c] + 1\n",
    "            h[c] = right\n",
    "        return max(longest, len(A) - left)\n",
    "        \n",
    "    \n",
    "def main():\n",
    "    A = ['f', 's', 'f', 'e', 't', 'w', 'e', 'n', 'w', 'e', 'a', 'b', 'c', 'd']\n",
    "    sol = Solution()\n",
    "    longest = sol.find_longest_subarray_with_distinct_entries(A)\n",
    "    print(longest)\n",
    "    \n",
    "if __name__ == \"__main__\":\n",
    "    main()"
   ]
  },
  {
   "cell_type": "markdown",
   "metadata": {},
   "source": [
    "# Find the length of a longest contained interval\n",
    "\n",
    "Write a program which takes as input a set of integers represented by an array, and returns the size of a largest subset of integers in the array having the property that if two integers are in the subset, then so are all integers between them.\n",
    "\n",
    "### Complexity\n",
    "\n",
    "Time Complexity: $\\mathcal{O}(n)$.\n",
    "\n",
    "Space Complexity: $\\mathcal{O}(n)$."
   ]
  },
  {
   "cell_type": "code",
   "execution_count": 9,
   "metadata": {},
   "outputs": [
    {
     "name": "stdout",
     "output_type": "stream",
     "text": [
      "6\n"
     ]
    }
   ],
   "source": [
    "class Solution:\n",
    "    def find_longest_contained_interval(self, A):\n",
    "        entries_set = set(A)\n",
    "        longest = 0\n",
    "        while entries_set:\n",
    "            cur_entry = entries_set.pop()\n",
    "            lower_bound = cur_entry - 1\n",
    "            while lower_bound in entries_set:\n",
    "                entries_set.remove(lower_bound)\n",
    "                lower_bound -= 1\n",
    "            upper_bound = cur_entry + 1\n",
    "            while upper_bound in entries_set:\n",
    "                entries_set.remove(upper_bound)\n",
    "                upper_bound += 1\n",
    "            longest = max(longest, upper_bound - lower_bound - 1)\n",
    "        return longest\n",
    "    \n",
    "def main():\n",
    "    A = [3, -2, 7, 9, 8, 1, 2, 0, -1, 5, 8]\n",
    "    sol = Solution()\n",
    "    longest = sol.find_longest_contained_interval(A)\n",
    "    print(longest)\n",
    "    \n",
    "if __name__ == \"__main__\":\n",
    "    main()"
   ]
  },
  {
   "cell_type": "markdown",
   "metadata": {},
   "source": [
    "# Test Collatz conjecture\n",
    "\n",
    "Test the Collatz conjecture for the first n positive integers.\n",
    "\n",
    "### Complexity\n",
    "\n",
    "Time Complexity: $\\mathcal{O}(n)$.\n",
    "\n",
    "Space Complexity: $\\mathcal{O}(n)$."
   ]
  },
  {
   "cell_type": "code",
   "execution_count": 10,
   "metadata": {},
   "outputs": [
    {
     "name": "stdout",
     "output_type": "stream",
     "text": [
      "True\n"
     ]
    }
   ],
   "source": [
    "class Solution:\n",
    "    def test_collatz_conjecture(self, n):\n",
    "        verified_numbers = set()\n",
    "        for i in range(3, n+1):\n",
    "            sequence = set()\n",
    "            test_i = i\n",
    "            while test_i >= i:\n",
    "                if test_i in sequence:\n",
    "                    return False\n",
    "                sequence.add(test_i)\n",
    "                if test_i % 2:\n",
    "                    if test_i in verified_numbers:\n",
    "                        break\n",
    "                    verified_numbers.add(test_i)\n",
    "                    test_i = 3 * test_i + 1\n",
    "                else:\n",
    "                    test_i //= 2\n",
    "        return True\n",
    "    \n",
    "def main():\n",
    "    n = 11\n",
    "    sol = Solution()\n",
    "    collatz = sol.test_collatz_conjecture(n)\n",
    "    print(collatz)\n",
    "    \n",
    "if __name__ == \"__main__\":\n",
    "    main()"
   ]
  }
 ],
 "metadata": {
  "kernelspec": {
   "display_name": "Python 3",
   "language": "python",
   "name": "python3"
  },
  "language_info": {
   "codemirror_mode": {
    "name": "ipython",
    "version": 3
   },
   "file_extension": ".py",
   "mimetype": "text/x-python",
   "name": "python",
   "nbconvert_exporter": "python",
   "pygments_lexer": "ipython3",
   "version": "3.7.3"
  }
 },
 "nbformat": 4,
 "nbformat_minor": 2
}
