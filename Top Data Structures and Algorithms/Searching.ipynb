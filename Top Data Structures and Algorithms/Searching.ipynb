{
 "cells": [
  {
   "cell_type": "markdown",
   "metadata": {},
   "source": [
    "# Search a sorted array for first occurence of k\n",
    "\n",
    "Write a method that takes a sorted array and a key and returns the index of the first occurrence of that key in the array. Returns $-1$ if the key does not appear in the array.\n",
    "\n",
    "### Complexity\n",
    "\n",
    "Time Complexity: $\\mathcal{O}(\\log n)$.\n",
    "\n",
    "Space Complexity: $\\mathcal{O}(1)$."
   ]
  },
  {
   "cell_type": "code",
   "execution_count": 1,
   "metadata": {},
   "outputs": [
    {
     "name": "stdout",
     "output_type": "stream",
     "text": [
      "8\n"
     ]
    }
   ],
   "source": [
    "class Solution:\n",
    "    def find_first_occurence(self, nums, k):\n",
    "        l, r, ans = 0, len(nums) - 1, -1\n",
    "        while l <= r:\n",
    "            m = l + (r - l) // 2\n",
    "            if nums[m] == k:\n",
    "                ans = m\n",
    "                r = m - 1\n",
    "            elif nums[m] > k:\n",
    "                r = m - 1\n",
    "            else:\n",
    "                l = m + 1\n",
    "        return ans\n",
    "\n",
    "def main():\n",
    "    nums = [-25, -4, 26, 105, 105, 245, 320, 321, 420, 420, 420, 999]\n",
    "    sol = Solution()  \n",
    "    pos = sol.find_first_occurence(nums, 420)\n",
    "    print(pos)\n",
    "    \n",
    "if __name__ == \"__main__\":\n",
    "    main()"
   ]
  },
  {
   "cell_type": "markdown",
   "metadata": {},
   "source": [
    "# Search a sorted array for entry equal to its index\n",
    "\n",
    "Design an efficient algorithm that takes a sorted array of distinct integers, and retums an index $i$ such that the element at index $i$ equals $i$.\n",
    "\n",
    "### Complexity\n",
    "\n",
    "Time Complexity: $\\mathcal{O}(\\log n)$.\n",
    "\n",
    "Space Complexity: $\\mathcal{O}(1)$."
   ]
  },
  {
   "cell_type": "code",
   "execution_count": 2,
   "metadata": {},
   "outputs": [
    {
     "name": "stdout",
     "output_type": "stream",
     "text": [
      "3\n"
     ]
    }
   ],
   "source": [
    "class Solution:\n",
    "    def search_entry_equal_to_index(self, nums):\n",
    "        l, r, ans = 0, len(nums) - 1, -1\n",
    "        while l <= r:\n",
    "            m = l + (r - l) // 2\n",
    "            if nums[m] == m:\n",
    "                return m\n",
    "            elif nums[m] > m:\n",
    "                r = m - 1\n",
    "            else:\n",
    "                l = m + 1\n",
    "        return ans\n",
    "\n",
    "def main():\n",
    "    nums = [-5, -1, 0, 3, 4, 6, 8, 10]\n",
    "    sol = Solution()  \n",
    "    pos = sol.search_entry_equal_to_index(nums)\n",
    "    print(pos)\n",
    "    \n",
    "if __name__ == \"__main__\":\n",
    "    main()"
   ]
  },
  {
   "cell_type": "markdown",
   "metadata": {},
   "source": [
    "# Search a cyclically sorted array\n",
    "\n",
    "Design art O(logn) algorithm for finding the position of the smallest element in a cyclically sorted array. Assume all elements are distinct.\n",
    "\n",
    "### Complexity\n",
    "\n",
    "Time Complexity: $\\mathcal{O}(\\log n)$.\n",
    "\n",
    "Space Complexity: $\\mathcal{O}(1)$."
   ]
  },
  {
   "cell_type": "code",
   "execution_count": 3,
   "metadata": {},
   "outputs": [
    {
     "name": "stdout",
     "output_type": "stream",
     "text": [
      "5\n"
     ]
    }
   ],
   "source": [
    "class Solution:\n",
    "    def search_cyclicaly_sorted_array(self, nums):\n",
    "        n = len(nums)\n",
    "        l, r, ans = 0, n - 1, -1\n",
    "        while l <= r:\n",
    "            m = l + (r - l) // 2\n",
    "            if nums[m] > nums[n-1]:\n",
    "                l = m + 1\n",
    "            else:\n",
    "                ans = m\n",
    "                r = m - 1\n",
    "        return ans\n",
    "\n",
    "def main():\n",
    "    nums = [377, 420, 520, 696, 777, 10, 70, 100, 177, 252, 321]\n",
    "    sol = Solution()  \n",
    "    pos = sol.search_cyclicaly_sorted_array(nums)\n",
    "    print(pos)\n",
    "    \n",
    "if __name__ == \"__main__\":\n",
    "    main()"
   ]
  },
  {
   "cell_type": "markdown",
   "metadata": {},
   "source": [
    "# Compute the integer square root\n",
    "\n",
    "Write a program which takes a non-negative integer and returns the largest integer whose square is less than or equal to the given integer.\n",
    "\n",
    "### Complexity\n",
    "\n",
    "Time Complexity: $\\mathcal{O}(\\log n)$.\n",
    "\n",
    "Space Complexity: $\\mathcal{O}(1)$."
   ]
  },
  {
   "cell_type": "code",
   "execution_count": 4,
   "metadata": {},
   "outputs": [
    {
     "name": "stdout",
     "output_type": "stream",
     "text": [
      "4\n"
     ]
    }
   ],
   "source": [
    "class Solution:\n",
    "    def square_root(self, n):\n",
    "        l, r, ans = 1, n, -1\n",
    "        while l <= r:\n",
    "            m = l + (r - l) // 2\n",
    "            if m ** 2 <= n :\n",
    "                ans = m\n",
    "                l = m + 1\n",
    "            else:\n",
    "                r = m - 1\n",
    "        return ans\n",
    "\n",
    "def main():\n",
    "    n = 21\n",
    "    sol = Solution()  \n",
    "    root = sol.square_root(n)\n",
    "    print(root)\n",
    "    \n",
    "if __name__ == \"__main__\":\n",
    "    main()"
   ]
  },
  {
   "cell_type": "markdown",
   "metadata": {},
   "source": [
    "# Compute the real square root\n",
    "\n",
    "Implement a function which takes as input a floating point value and returns its square root.\n",
    "\n",
    "### Complexity\n",
    "\n",
    "Time Complexity: $\\mathcal{O}(\\log \\frac{x}{s})$, where s is the tolerance.\n",
    "\n",
    "Space Complexity: $\\mathcal{O}(1)$."
   ]
  },
  {
   "cell_type": "code",
   "execution_count": 5,
   "metadata": {},
   "outputs": [
    {
     "name": "stdout",
     "output_type": "stream",
     "text": [
      "5.196152422577143\n"
     ]
    }
   ],
   "source": [
    "import math\n",
    "class Solution:\n",
    "    def square_root(self, x):\n",
    "        l, r = (1.0, x) if x >= 1.0 else (x, 1.0)\n",
    "        while not math.isclose(l, r):\n",
    "            m = l + (r - l) / 2\n",
    "            if m ** 2 <= x :\n",
    "                ans = m\n",
    "                l = m\n",
    "            else:\n",
    "                r = m\n",
    "        return ans\n",
    "\n",
    "def main():\n",
    "    x = 27.0\n",
    "    sol = Solution()  \n",
    "    root = sol.square_root(x)\n",
    "    print(root)\n",
    "    \n",
    "if __name__ == \"__main__\":\n",
    "    main()"
   ]
  },
  {
   "cell_type": "markdown",
   "metadata": {},
   "source": [
    "# Search in a $2D$ sorted array\n",
    "\n",
    "Design an algorithm that takes a 2D sorted array and a number and checks whether that number appears in the array.\n",
    "\n",
    "### Complexity\n",
    "\n",
    "Time Complexity: $\\mathcal{O}(m + n)$.\n",
    "\n",
    "Space Complexity: $\\mathcal{O}(1)$."
   ]
  },
  {
   "cell_type": "code",
   "execution_count": 6,
   "metadata": {},
   "outputs": [
    {
     "name": "stdout",
     "output_type": "stream",
     "text": [
      "True\n"
     ]
    }
   ],
   "source": [
    "class Solution:\n",
    "    def matrix_search(self, matrix, key):\n",
    "        row, col = 0, len(matrix[0]) - 1\n",
    "        while row < len(matrix) and col >= 0:\n",
    "            if matrix[row][col] == key:\n",
    "                return True\n",
    "            elif matrix[row][col] > key:\n",
    "                col -= 1\n",
    "            else:\n",
    "                row += 1\n",
    "        return False\n",
    "\n",
    "def main():\n",
    "    matrix, key = [[1,5,5,9,21], [3,6,6,9,22], [3,6,8,10,24], [6,8,9,12,25], [8,10,12,13,40]], 8\n",
    "    sol = Solution()  \n",
    "    exists = sol.matrix_search(matrix, key)\n",
    "    print(exists)\n",
    "    \n",
    "if __name__ == \"__main__\":\n",
    "    main()"
   ]
  },
  {
   "cell_type": "markdown",
   "metadata": {},
   "source": [
    "# Find min and max simultaneously\n",
    "\n",
    "Write a method that takes a sorted array and a key and returns the index of the first occurrence of that key in the array. Returns $-1$ if the key does not appear in the array.\n",
    "\n",
    "### Complexity\n",
    "\n",
    "Time Complexity: $\\mathcal{O}(n)$, $\\frac{3n}{2} - 2$ comparisons.\n",
    "\n",
    "Space Complexity: $\\mathcal{O}(1)$."
   ]
  },
  {
   "cell_type": "code",
   "execution_count": 7,
   "metadata": {},
   "outputs": [
    {
     "name": "stdout",
     "output_type": "stream",
     "text": [
      "1 5\n"
     ]
    }
   ],
   "source": [
    "class Solution:\n",
    "    def find_min_max(self, nums):\n",
    "        minimum, maximum = float('inf'), float('-inf')\n",
    "        for i in range(0, len(nums), 2):\n",
    "            if nums[i] > nums[i+1]:\n",
    "                cur_min, cur_max = nums[i+1], nums[i]\n",
    "            else:\n",
    "                cur_min, cur_max = nums[i], nums[i+1]\n",
    "            minimum, maximum = min(minimum, cur_min), max(maximum, cur_max)\n",
    "        return minimum, maximum\n",
    "\n",
    "def main():\n",
    "    nums = [2,3,5,1,2,4]\n",
    "    sol = Solution()  \n",
    "    minimum, maximum = sol.find_min_max(nums)\n",
    "    print(minimum, maximum)\n",
    "    \n",
    "if __name__ == \"__main__\":\n",
    "    main()"
   ]
  },
  {
   "cell_type": "markdown",
   "metadata": {},
   "source": [
    "# Find the $k^{th}$ largest element\n",
    "\n",
    "Design an algorithm for computing the kth largest element in an array.\n",
    "\n",
    "### Complexity\n",
    "\n",
    "Time Complexity: $\\mathcal{O}(n)$.\n",
    "\n",
    "Space Complexity: $\\mathcal{O}(\\log n)$, and worst case time complexity $\\mathcal{O}(n^2)$."
   ]
  },
  {
   "cell_type": "code",
   "execution_count": 8,
   "metadata": {},
   "outputs": [
    {
     "name": "stdout",
     "output_type": "stream",
     "text": [
      "3\n"
     ]
    }
   ],
   "source": [
    "import random\n",
    "class Solution:\n",
    "    def find_kth_largest(self, nums, l, r, k):\n",
    "        pos = self.randomPartition(nums, l, r)\n",
    "        if r - pos == k - 1:\n",
    "            return nums[pos]\n",
    "        elif r - pos > k - 1:\n",
    "            return self.find_kth_largest(nums, pos+1, r, k)\n",
    "        else:\n",
    "            return self.find_kth_largest(nums, l, pos-1, k-r+pos-1)\n",
    "        \n",
    "    def randomPartition(self, nums, l, r):\n",
    "        rand = random.randint(l, r)\n",
    "        nums[rand], nums[r] = nums[r], nums[rand]\n",
    "        i = l - 1\n",
    "        for j in range(l, r):\n",
    "            if nums[j] < nums[r]:\n",
    "                i += 1\n",
    "                nums[i], nums[j] = nums[j], nums[i]\n",
    "        nums[i+1], nums[r] = nums[r], nums[i+1]\n",
    "        return i + 1\n",
    "\n",
    "def main():\n",
    "    nums, k = [2,3,5,1,2,4], 3\n",
    "    sol = Solution()      \n",
    "    element = sol.find_kth_largest(nums, 0, len(nums)-1, k)\n",
    "    print(element)\n",
    "    \n",
    "if __name__ == \"__main__\":\n",
    "    main()"
   ]
  }
 ],
 "metadata": {
  "kernelspec": {
   "display_name": "Python 3",
   "language": "python",
   "name": "python3"
  },
  "language_info": {
   "codemirror_mode": {
    "name": "ipython",
    "version": 3
   },
   "file_extension": ".py",
   "mimetype": "text/x-python",
   "name": "python",
   "nbconvert_exporter": "python",
   "pygments_lexer": "ipython3",
   "version": "3.7.3"
  }
 },
 "nbformat": 4,
 "nbformat_minor": 2
}
