{
 "cells": [
  {
   "cell_type": "markdown",
   "metadata": {},
   "source": [
    "# Merge sorted files\n",
    "\n",
    "Write a program that takes as input a set of sorted sequences and computes the union of these sequences as a sorted sequence.\n",
    "\n",
    "### Complexity\n",
    "\n",
    "Time Complexity: $\\mathcal{O}(n \\log k)$.\n",
    "\n",
    "Space Complexity: $\\mathcal{O}(k)$."
   ]
  },
  {
   "cell_type": "code",
   "execution_count": 13,
   "metadata": {},
   "outputs": [
    {
     "name": "stdout",
     "output_type": "stream",
     "text": [
      "[0, 0, 3, 3, 5, 6, 6, 7, 9, 15, 27]\n"
     ]
    }
   ],
   "source": [
    "import heapq\n",
    "import collections\n",
    "\n",
    "class Solution:\n",
    "    def merge_sorted_files(self, sorted_arr):\n",
    "        sorted_arr = [collections.deque(arr) for arr in sorted_arr]\n",
    "        res, h = [], []\n",
    "        for i in range(len(sorted_arr)):\n",
    "            heapq.heappush(h, (sorted_arr[i].popleft(), i))\n",
    "        \n",
    "        while h:\n",
    "            new_entry, new_entry_arr = heapq.heappop(h)\n",
    "            res.append(new_entry)\n",
    "            if len(sorted_arr[new_entry_arr]) > 0:\n",
    "                heapq.heappush(h, (sorted_arr[new_entry_arr].popleft(), new_entry_arr))\n",
    "                \n",
    "        return res\n",
    "\n",
    "def main():\n",
    "    sorted_arr = [[0,3,6], [0,6,15,27], [3,5,7,9]]\n",
    "    sol = Solution()  \n",
    "    arr = sol.merge_sorted_files(sorted_arr)\n",
    "    print(arr)\n",
    "    \n",
    "if __name__ == \"__main__\":\n",
    "    main()"
   ]
  },
  {
   "cell_type": "markdown",
   "metadata": {},
   "source": [
    "# Sort an increasing-decreasing array\n",
    "\n",
    "Design an efficient algorithm for sorting a $k$-increasing-decreasing array.\n",
    "\n",
    "### Complexity\n",
    "\n",
    "Time Complexity: $\\mathcal{O}(n \\log k)$.\n",
    "\n",
    "Space Complexity: $\\mathcal{O}(k)$."
   ]
  },
  {
   "cell_type": "code",
   "execution_count": 20,
   "metadata": {},
   "outputs": [
    {
     "name": "stdout",
     "output_type": "stream",
     "text": [
      "[57, 131, 190, 221, 294, 339, 418, 442, 452, 493]\n"
     ]
    }
   ],
   "source": [
    "import heapq\n",
    "import collections\n",
    "\n",
    "class Solution:\n",
    "    def sort_k_increasing_decreasing(self, arr):\n",
    "        inc = True\n",
    "        l, r = 0, 1\n",
    "        inc_sorted = []\n",
    "        while r < len(arr):\n",
    "            if inc:\n",
    "                while r < len(arr) and arr[r] >= arr[r-1]:\n",
    "                    r += 1\n",
    "                tmp = []\n",
    "                for i in range(l, r):\n",
    "                    tmp.append(arr[i])\n",
    "                inc_sorted.append(tmp)\n",
    "                l = r\n",
    "                r += 1\n",
    "                inc = False\n",
    "            else:\n",
    "                while r < len(arr) and arr[r] <= arr[r-1]:\n",
    "                    r += 1\n",
    "                tmp = []\n",
    "                for i in range(l, r):\n",
    "                    tmp.append(arr[i])\n",
    "                tmp.reverse()\n",
    "                inc_sorted.append(tmp)\n",
    "                l = r\n",
    "                r += 1\n",
    "                inc = True\n",
    "                \n",
    "        arr = list(heapq.merge(*inc_sorted))\n",
    "        return arr\n",
    "                \n",
    "\n",
    "def main():\n",
    "    arr = [57, 131, 493, 294, 221, 339, 418, 452, 442, 190]\n",
    "    sol = Solution()  \n",
    "    arr = sol.sort_k_increasing_decreasing(arr)\n",
    "    print(arr)\n",
    "    \n",
    "if __name__ == \"__main__\":\n",
    "    main()"
   ]
  },
  {
   "cell_type": "markdown",
   "metadata": {},
   "source": [
    "# Sort an almost-sorted array\n",
    "\n",
    "Write a Program which takes as input a very long sequence of numbers and prints the numbers in sorted order. Each number is at most k away from its correctly sorted position.\n",
    "\n",
    "### Complexity\n",
    "\n",
    "Time Complexity: $\\mathcal{O}(n \\log k)$.\n",
    "\n",
    "Space Complexity: $\\mathcal{O}(k)$."
   ]
  },
  {
   "cell_type": "code",
   "execution_count": 22,
   "metadata": {},
   "outputs": [
    {
     "name": "stdout",
     "output_type": "stream",
     "text": [
      "[-1, 2, 3, 4, 5, 6, 8]\n"
     ]
    }
   ],
   "source": [
    "import heapq\n",
    "\n",
    "class Solution:\n",
    "    def sort_almost_sorted_arr(self, arr, k):\n",
    "        h, res = [], []\n",
    "        for i in range(k):\n",
    "            heapq.heappush(h, arr[i])\n",
    "            \n",
    "        for i in range(k, len(arr)):\n",
    "            res.append(heapq.heappushpop(h, arr[i]))\n",
    "            \n",
    "        while h:\n",
    "            res.append(heapq.heappop(h))\n",
    "            \n",
    "        return res\n",
    "                \n",
    "def main():\n",
    "    arr = [3, -1, 2, 6, 4, 5, 8]\n",
    "    k = 3\n",
    "    sol = Solution()  \n",
    "    arr = sol.sort_almost_sorted_arr(arr, k)\n",
    "    print(arr)\n",
    "    \n",
    "if __name__ == \"__main__\":\n",
    "    main()"
   ]
  },
  {
   "cell_type": "markdown",
   "metadata": {},
   "source": [
    "# Compute k closest points\n",
    "\n",
    "Write a program to compute the k closest points from the origin (0,0).\n",
    "\n",
    "### Complexity\n",
    "\n",
    "Time Complexity: $\\mathcal{O}(n \\log k)$.\n",
    "\n",
    "Space Complexity: $\\mathcal{O}(k)$."
   ]
  },
  {
   "cell_type": "code",
   "execution_count": 28,
   "metadata": {},
   "outputs": [
    {
     "name": "stdout",
     "output_type": "stream",
     "text": [
      "[[1, 1], [-1, -1], [1, 2]]\n"
     ]
    }
   ],
   "source": [
    "import heapq\n",
    "\n",
    "class Solution:\n",
    "    def k_closest_points(self, points, k):\n",
    "        h, res = [], []\n",
    "        for x, y in points:\n",
    "            heapq.heappush(h, (- (x**2 + y**2), [x, y]))\n",
    "            if len(h) > k:\n",
    "                heapq.heappop(h)\n",
    "        \n",
    "        while h:\n",
    "            res.append(heapq.heappop(h)[1])\n",
    "            \n",
    "        res.reverse()\n",
    "        return res\n",
    "                \n",
    "def main():\n",
    "    points = [[1,1], [1,2], [3,4], [-1,-1], [0,9], [10,10]]\n",
    "    k = 3\n",
    "    sol = Solution()  \n",
    "    k_closest = sol.k_closest_points(points, k)\n",
    "    print(k_closest)\n",
    "    \n",
    "if __name__ == \"__main__\":\n",
    "    main()"
   ]
  },
  {
   "cell_type": "markdown",
   "metadata": {},
   "source": [
    "# Compute the median of online data\n",
    "\n",
    "Design an algorithm for computing the running median of a sequence.\n",
    "\n",
    "### Complexity\n",
    "\n",
    "Time Complexity: $\\mathcal{O}(\\log n)$.\n",
    "\n",
    "Space Complexity: $\\mathcal{O}(n)$."
   ]
  },
  {
   "cell_type": "code",
   "execution_count": 1,
   "metadata": {},
   "outputs": [],
   "source": [
    "import heapq\n",
    "\n",
    "class Solution:\n",
    "    def online_median(self, sequence):\n",
    "        # min_heap for the largest half seen so far and max_heap for the smallest half seen so far.\n",
    "        min_heap, max_heap, result = [], [], []\n",
    "        \n",
    "        for s in sequence:\n",
    "            heapq.heappush(max_heap, -heapq.heappushpop(min_heap, s))\n",
    "            if len(max_heap) > len(min_heap):\n",
    "                heapq.heappush(min_heap, -heapq.heappop(max_heap))\n",
    "            result.append(0.5 * (min_heap[0] + (-max_heap[0]))\n",
    "                          if len(min_heap) == len(max_heap) else min_heap[0])\n",
    "        \n",
    "        return res        "
   ]
  },
  {
   "cell_type": "markdown",
   "metadata": {},
   "source": [
    "# Compute the k largest elements in a max-heap\n",
    "\n",
    "Given a max-heap, represented as an array $A$, design an algorithm that computes the $k$ largest elements stored in the max-heap. You cannot modify the heap.\n",
    "\n",
    "### Complexity\n",
    "\n",
    "Time Complexity: $\\mathcal{O}(n)$, $\\mathcal{O}(1)$, and $\\mathcal{O}(1)$.\n",
    "\n",
    "Space Complexity: $\\mathcal{O}(1)$."
   ]
  },
  {
   "cell_type": "code",
   "execution_count": 2,
   "metadata": {},
   "outputs": [],
   "source": [
    "import heapq\n",
    "\n",
    "class Solution:\n",
    "    def k_largest(self, A, k):\n",
    "        if k <= 0:\n",
    "            return []\n",
    "        \n",
    "        candidate_max_heap = []\n",
    "        candidate_max_heap.append((-A[0], 0))\n",
    "        result = []\n",
    "        for _ in range(k):\n",
    "            candidate_idx = candidate_max_heap[0][1]\n",
    "            result.append(-heapq.heappop(candidate_max_heap)[0])\n",
    "            left_child_idx = 2 * candidate_idx + 1\n",
    "            if left_child_idx < len(A):\n",
    "                heapq.heappush(candidate_max_heap, (-A[left_child_idx], left_child_idx))\n",
    "            right_child_idx = 2 * candidate_idx + 2\n",
    "            if right_child_idx < len(A):\n",
    "                heapq.heappush(candidate_max_heap, (-A[right_child_idx], right_child_idx))\n",
    "        return result"
   ]
  }
 ],
 "metadata": {
  "kernelspec": {
   "display_name": "Python 3",
   "language": "python",
   "name": "python3"
  },
  "language_info": {
   "codemirror_mode": {
    "name": "ipython",
    "version": 3
   },
   "file_extension": ".py",
   "mimetype": "text/x-python",
   "name": "python",
   "nbconvert_exporter": "python",
   "pygments_lexer": "ipython3",
   "version": "3.7.3"
  }
 },
 "nbformat": 4,
 "nbformat_minor": 2
}
