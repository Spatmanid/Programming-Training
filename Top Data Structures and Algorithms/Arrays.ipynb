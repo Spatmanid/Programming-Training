{
 "cells": [
  {
   "cell_type": "markdown",
   "metadata": {},
   "source": [
    "# Even odd array\n",
    "\n",
    "Write a program that reorders the elements of an array, so that even entries appear first.\n",
    "\n",
    "### Complexity\n",
    "\n",
    "Time Complexity: $\\mathcal{O}(n)$, where $n$ is the number of elements in the array.\n",
    "\n",
    "Space Complexity: $\\mathcal{O}(1)$."
   ]
  },
  {
   "cell_type": "code",
   "execution_count": 1,
   "metadata": {},
   "outputs": [
    {
     "name": "stdout",
     "output_type": "stream",
     "text": [
      "Initial array: [1, 2, 3, 4, 5, 6, 7, 8, 9, 10]\n",
      "Even - odd array: [10, 2, 8, 4, 6, 7, 5, 9, 3, 1]\n"
     ]
    }
   ],
   "source": [
    "class Solution:\n",
    "    def even_odd(self, nums):\n",
    "        n = len(nums)\n",
    "        l, r = 0, n - 1\n",
    "        while l < r:\n",
    "            if nums[l] % 2:\n",
    "                nums[l], nums[r] = nums[r], nums[l]\n",
    "                r -= 1\n",
    "            else:\n",
    "                l += 1\n",
    "        \n",
    "def main():\n",
    "    sol = Solution()\n",
    "    nums = [1,2,3,4,5,6,7,8,9,10]\n",
    "    print(\"Initial array:\", nums)\n",
    "    sol.even_odd(nums)\n",
    "    print(\"Even - odd array:\", nums)\n",
    "    \n",
    "if __name__ == \"__main__\":\n",
    "    main()"
   ]
  },
  {
   "cell_type": "markdown",
   "metadata": {},
   "source": [
    "# The Dutch national flag problem\n",
    "\n",
    "Write a program that takes as input an array $nums$ and an index $i$ into $nums$, and rearranges the elements such that all elements less than $nums[r]$ (the \"pivot\") appear first, followed by elements equal to the pivot, followed by elements greater than the pivot.\n",
    "\n",
    "### Complexity\n",
    "\n",
    "Time Complexity: $\\mathcal{O}(n)$, where $n$ is the number of elements in the array.\n",
    "\n",
    "Space Complexity: $\\mathcal{O}(1)$."
   ]
  },
  {
   "cell_type": "code",
   "execution_count": 2,
   "metadata": {},
   "outputs": [
    {
     "name": "stdout",
     "output_type": "stream",
     "text": [
      "Initial array: [1, 0, 1, 0, 0, 0, 2, 1, 2, 1, 0, 2, 1, 1]\n",
      "Dutch Flag array: [0, 0, 0, 0, 0, 1, 1, 1, 1, 1, 1, 2, 2, 2]\n"
     ]
    }
   ],
   "source": [
    "class Solution:\n",
    "    def dutch_flag(self, pivot_index, nums):\n",
    "        pivot = nums[pivot_index]\n",
    "        l, m, r = 0, 0, len(nums)\n",
    "        while m < r:\n",
    "            if nums[m] < pivot:\n",
    "                nums[l], nums[m] = nums[m], nums[l]\n",
    "                l, m = l + 1, m + 1\n",
    "            elif nums[m] == pivot:\n",
    "                m += 1\n",
    "            else:\n",
    "                r -= 1\n",
    "                nums[m], nums[r] = nums[r], nums[m]\n",
    "        \n",
    "def main():\n",
    "    sol = Solution()\n",
    "    nums = [1,0,1,0,0,0,2,1,2,1,0,2,1,1]\n",
    "    pivot_index = 0\n",
    "    print(\"Initial array:\", nums)\n",
    "    sol.dutch_flag(pivot_index, nums)\n",
    "    print(\"Dutch Flag array:\", nums)\n",
    "    \n",
    "if __name__ == \"__main__\":\n",
    "    main()"
   ]
  },
  {
   "cell_type": "markdown",
   "metadata": {},
   "source": [
    "# Increment and arbitrary-precision integer\n",
    "\n",
    "Write a program which takes as input an array of digits encoding a nonnegative decimal integer D and updates the array to represent the integer D + 1.\n",
    "\n",
    "### Complexity\n",
    "\n",
    "Time Complexity: $\\mathcal{O}(n)$, where $n$ is the number of elements in the array.\n",
    "\n",
    "Space Complexity: $\\mathcal{O}(1)$."
   ]
  },
  {
   "cell_type": "code",
   "execution_count": 3,
   "metadata": {},
   "outputs": [
    {
     "name": "stdout",
     "output_type": "stream",
     "text": [
      "Initial number: [9, 9, 9]\n",
      "Plus One: [1, 0, 0, 0]\n"
     ]
    }
   ],
   "source": [
    "class Solution:\n",
    "    def plus_one(self, nums):\n",
    "        carry, i = 1, len(nums) - 1\n",
    "        while carry and i >= 0:\n",
    "            nums[i] += 1\n",
    "            carry = nums[i] // 10\n",
    "            nums[i] %= 10\n",
    "            i -= 1\n",
    "        if carry:\n",
    "            nums.insert(0, 1)\n",
    "                \n",
    "def main():\n",
    "    sol = Solution()\n",
    "    nums = [9,9,9]\n",
    "    print(\"Initial number:\", nums)\n",
    "    sol.plus_one(nums)\n",
    "    print(\"Plus One:\", nums)\n",
    "    \n",
    "if __name__ == \"__main__\":\n",
    "    main()"
   ]
  },
  {
   "cell_type": "markdown",
   "metadata": {},
   "source": [
    "# Multiply two arbitrary-precision integers\n",
    "\n",
    "Write a program that takes two arrays representing integers, and retums an integer representing their product.\n",
    "\n",
    "### Complexity\n",
    "\n",
    "Time Complexity: $\\mathcal{O}(m \\cdot n)$, where n is the length of the first number and m is the length the second number.\n",
    "\n",
    "Space Complexity: $\\mathcal{O}(m + n)$."
   ]
  },
  {
   "cell_type": "code",
   "execution_count": 4,
   "metadata": {},
   "outputs": [
    {
     "name": "stdout",
     "output_type": "stream",
     "text": [
      "[-2, 4, 6, 4, 2]\n"
     ]
    }
   ],
   "source": [
    "class Solution:\n",
    "    def multiply(self, num1, num2):\n",
    "        m, n = len(num1), len(num2)\n",
    "        if (m == 1 and num1[0] == 0 or \n",
    "            n == 1 and num2[0] == 0):\n",
    "            return 0\n",
    "        sign = -1 if (num1[0] < 0) ^ (num2[0] < 0) else 1\n",
    "        num1[0], num2[0] = abs(num1[0]), abs(num2[0])\n",
    "        prod = [0] * (m + n)\n",
    "        pos = m + n - 1\n",
    "        for n1 in num1[::-1]:\n",
    "            tmpPos = pos\n",
    "            for n2 in num2[::-1]:\n",
    "                prod[tmpPos] += n1 * n2\n",
    "                prod[tmpPos-1] += prod[tmpPos] // 10\n",
    "                prod[tmpPos] %= 10\n",
    "                tmpPos -= 1\n",
    "            pos -= 1\n",
    "        i = 0\n",
    "        while not prod[i]:\n",
    "            i += 1\n",
    "        return [sign * prod[i]] + prod[i+1:]\n",
    "            \n",
    "        \n",
    "        \n",
    "        \n",
    "                 \n",
    "def main():\n",
    "    sol = Solution()\n",
    "    num1 = [-1,1,1]\n",
    "    num2 = [2,2,2]\n",
    "    print(sol.multiply(num1, num2))\n",
    "    \n",
    "if __name__ == \"__main__\":\n",
    "    main()"
   ]
  },
  {
   "cell_type": "markdown",
   "metadata": {},
   "source": [
    "# Advancing through an array\n",
    "\n",
    "Write a program which takes an array of $n$ integers, where $nums[i]$ denotes the maximum you can advance from index $i$, and retums whether it is possible to advance to the last index starting from the beginning of the array.\n",
    "\n",
    "### Complexity\n",
    "\n",
    "Time Complexity: $\\mathcal{O}(n)$.\n",
    "\n",
    "Space Complexity: $\\mathcal{O}(1)$."
   ]
  },
  {
   "cell_type": "code",
   "execution_count": 5,
   "metadata": {},
   "outputs": [
    {
     "name": "stdout",
     "output_type": "stream",
     "text": [
      "True\n"
     ]
    }
   ],
   "source": [
    "class Solution:\n",
    "    def can_jump(self, nums):\n",
    "        max_jump, i, n = nums[0], 1, len(nums)\n",
    "        while i <= max_jump and i < n:\n",
    "            max_jump = max(max_jump, i + nums[i])\n",
    "            i += 1\n",
    "        return True if i == n else False\n",
    "                 \n",
    "def main():\n",
    "    sol = Solution()\n",
    "    nums = [1,4,1,1,0,2,0]\n",
    "    print(sol.can_jump(nums))\n",
    "    \n",
    "if __name__ == \"__main__\":\n",
    "    main()"
   ]
  },
  {
   "cell_type": "markdown",
   "metadata": {},
   "source": [
    "# Delete duplicates\n",
    "\n",
    "Write a program that takes as an input an sorted array and updates it so that all duplicates have been removed and the remaining elements have been shifted to left to fill the emptied indices. Return the number of valid elements.\n",
    "\n",
    "### Complexity\n",
    "\n",
    "Time Complexity: $\\mathcal{O}(n)$, where $n$ is the number of elements in the array.\n",
    "\n",
    "Space Complexity: $\\mathcal{O}(1)$."
   ]
  },
  {
   "cell_type": "code",
   "execution_count": 6,
   "metadata": {},
   "outputs": [
    {
     "name": "stdout",
     "output_type": "stream",
     "text": [
      "8\n"
     ]
    }
   ],
   "source": [
    "class Solution:\n",
    "    def remove_duplicates(self, nums):\n",
    "        if not nums: return 0\n",
    "        i = 0\n",
    "        for j in range(1, len(nums)):\n",
    "            if nums[j] != nums[j-1]:\n",
    "                i += 1\n",
    "                nums[i] = nums[j]\n",
    "        return i + 1\n",
    "      \n",
    "def main():\n",
    "    sol = Solution()\n",
    "    nums = [1,4,5,5,8,9,9,10,10,10,10,12,16,16]\n",
    "    valid = sol.remove_duplicates(nums)\n",
    "    print(valid)\n",
    "    \n",
    "if __name__ == \"__main__\":\n",
    "    main()"
   ]
  },
  {
   "cell_type": "markdown",
   "metadata": {},
   "source": [
    "# Buy and sell a stock once\n",
    "\n",
    "Write a program that takes as input an array denoting the daily stock price, and return the maximum profit that can be made by buing and then selling one share of that stock. There is no need to buy if no profit is possible.\n",
    "\n",
    "### Complexity\n",
    "\n",
    "Time Complexity: $\\mathcal{O}(n)$, where $n$ is the number of elements in the array.\n",
    "\n",
    "Space Complexity: $\\mathcal{O}(1)$."
   ]
  },
  {
   "cell_type": "code",
   "execution_count": 7,
   "metadata": {},
   "outputs": [
    {
     "name": "stdout",
     "output_type": "stream",
     "text": [
      "5\n",
      "0\n"
     ]
    }
   ],
   "source": [
    "class Solution:\n",
    "    def max_profit(self, prices):\n",
    "        if not prices: return 0\n",
    "        curBest, profit = prices[0], 0\n",
    "        for p in prices[1:]:\n",
    "            profit = max(profit, p - curBest)\n",
    "            curBest = min(curBest, p)\n",
    "        return profit   \n",
    "        \n",
    "def main():\n",
    "    sol = Solution()\n",
    "    prices = [7,1,5,3,6,4]\n",
    "    profit = sol.max_profit(prices)\n",
    "    print(profit)    \n",
    "    prices = [7,6,4,3,1]\n",
    "    profit = sol.max_profit(prices)\n",
    "    print(profit)\n",
    "    \n",
    "if __name__ == \"__main__\":\n",
    "    main()"
   ]
  },
  {
   "cell_type": "markdown",
   "metadata": {},
   "source": [
    "# Buy and sell a stock twice\n",
    "\n",
    "Write a program that takes as input an array denoting the daily stock price, and return the maximum profit that can be made by buing and then selling a stock at most twice. The second buy must be made on another date after the first date.\n",
    "\n",
    "### Complexity\n",
    "\n",
    "Time Complexity: $\\mathcal{O}(k \\cdot n) = \\mathcal{O}(n)$, where $n$ is the number of elements in the array and $k$ is the number of transactions (in this case $k = 2$).\n",
    "\n",
    "Space Complexity: $\\mathcal{O}(k \\cdot n) = \\mathcal{O}(n)$."
   ]
  },
  {
   "cell_type": "code",
   "execution_count": 8,
   "metadata": {},
   "outputs": [
    {
     "name": "stdout",
     "output_type": "stream",
     "text": [
      "10\n",
      "0\n"
     ]
    }
   ],
   "source": [
    "class Solution:\n",
    "    def max_profit(self, prices, k):\n",
    "        if not prices or not k: return 0\n",
    "        N = len(prices)\n",
    "        dp = [[0] * N for i in range(k+1)]\n",
    "        for i in range(1, k+1):\n",
    "            maxDiff = -prices[0]\n",
    "            for j in range(1, N):\n",
    "                dp[i][j] = max(dp[i][j-1], prices[j] + maxDiff)\n",
    "                maxDiff = max(maxDiff, dp[i-1][j] - prices[j]) \n",
    "        return dp[k][N-1]\n",
    "    \n",
    "def main():\n",
    "    sol = Solution()\n",
    "    k = 2\n",
    "    prices = [12,10,15,8,11,9,12,13,11]\n",
    "    profit = sol.max_profit(prices, k)\n",
    "    print(profit)    \n",
    "    prices = [7,6,4,3,1]\n",
    "    profit = sol.max_profit(prices, k)\n",
    "    print(profit)\n",
    "    \n",
    "if __name__ == \"__main__\":\n",
    "    main()"
   ]
  },
  {
   "cell_type": "markdown",
   "metadata": {},
   "source": [
    "# Computing an alternation\n",
    "\n",
    "Write a program that takes an array $A$ of $n$ numbers, and rearranges $A$'s elements to get a new array having the property that $A[0] \\leq A[1] \\geq A[2] \\leq A[3] \\geq \\cdots$.\n",
    "\n",
    "### Complexity\n",
    "\n",
    "Time Complexity: $\\mathcal{O}(n)$.\n",
    "\n",
    "Space Complexity: $\\mathcal{O}(1)$."
   ]
  },
  {
   "cell_type": "code",
   "execution_count": 9,
   "metadata": {},
   "outputs": [
    {
     "name": "stdout",
     "output_type": "stream",
     "text": [
      "Initial array: [12, 10, 15, 8, 11, 9, 12, 13, 11]\n",
      "Rearranged array: [10, 15, 8, 12, 9, 12, 11, 13, 11]\n"
     ]
    }
   ],
   "source": [
    "class Solution:\n",
    "    def rearrange(self, A):\n",
    "        for i in range(len(A)-1):\n",
    "            A[i:i+2] = sorted(A[i:i+2], reverse=i%2)\n",
    "\n",
    "def main():\n",
    "    sol = Solution()\n",
    "    A = [12,10,15,8,11,9,12,13,11]\n",
    "    print(\"Initial array:\", A)\n",
    "    sol.rearrange(A)\n",
    "    print(\"Rearranged array:\",A)\n",
    "    \n",
    "if __name__ == \"__main__\":\n",
    "    main()"
   ]
  },
  {
   "cell_type": "markdown",
   "metadata": {},
   "source": [
    "# Enumerate primes to n\n",
    "\n",
    "Write a program that given a number $n$, print all primes smaller than or equal to $n$. It is also given that $n$ is a small number.\n",
    "\n",
    "### Complexity\n",
    "\n",
    "Time Complexity: $\\mathcal{O}(n \\log \\log n)$, where $n$ is the number of elements in the array.\n",
    "\n",
    "Space Complexity: $\\mathcal{O}(n)$."
   ]
  },
  {
   "cell_type": "code",
   "execution_count": 10,
   "metadata": {},
   "outputs": [
    {
     "name": "stdout",
     "output_type": "stream",
     "text": [
      "Following are the prime numbers smaller than or equal to 50\n",
      "[2, 3, 5, 7, 11, 13, 17, 19, 23, 29, 31, 37, 41, 43, 47]\n"
     ]
    }
   ],
   "source": [
    "class Solution:\n",
    "    def sieve_of_eratosthenes(self, n):\n",
    "        primes = []\n",
    "        is_prime = [False, False] + [True] * (n - 1)\n",
    "        p = 2\n",
    "        for p in range(2,n+1):\n",
    "            if is_prime[p]:\n",
    "                primes.append(p)\n",
    "                for i in range(p*p, n+1, p):\n",
    "                    is_prime[i] = False\n",
    "        return primes\n",
    "    \n",
    "def main():\n",
    "    n = 50\n",
    "    sol = Solution()\n",
    "    print(\"Following are the prime numbers smaller than or equal to\", n) \n",
    "    primes = sol.sieve_of_eratosthenes(n)\n",
    "    print(primes)\n",
    "    \n",
    "if __name__ == \"__main__\":\n",
    "    main()"
   ]
  },
  {
   "cell_type": "markdown",
   "metadata": {},
   "source": [
    "# Permute the elements of an array\n",
    "\n",
    "Write a program that given an array $A$ of $n$ elements and a permutation $P$, apply $P$ to $A$.\n",
    "\n",
    "### Complexity\n",
    "\n",
    "Time Complexity: $\\mathcal{O}(n)$.\n",
    "\n",
    "Space Complexity: $\\mathcal{O}(1)$."
   ]
  },
  {
   "cell_type": "code",
   "execution_count": 11,
   "metadata": {},
   "outputs": [
    {
     "name": "stdout",
     "output_type": "stream",
     "text": [
      "Initial array: ['a', 'b', 'c', 'd']\n",
      "Permuted array: ['d', 'c', 'b', 'a']\n"
     ]
    }
   ],
   "source": [
    "class Solution:\n",
    "    def permutation(self, A, P):\n",
    "        for i in range(len(A)):\n",
    "            nex = i\n",
    "            while P[nex] >= 0:\n",
    "                A[i], A[P[nex]] = A[P[nex]], A[i]\n",
    "                tmp = P[nex]\n",
    "                P[nex] -= len(P)\n",
    "                nex = tmp\n",
    "        P[:] = [a + len(P) for a in P]\n",
    "    \n",
    "def main():\n",
    "    sol = Solution()\n",
    "    A = ['a', 'b', 'c', 'd']\n",
    "    P = [3,2,1,0]\n",
    "    print(\"Initial array:\", A)\n",
    "    sol.permutation(A, P)\n",
    "    print(\"Permuted array:\", A)\n",
    "    \n",
    "if __name__ == \"__main__\":\n",
    "    main()"
   ]
  },
  {
   "cell_type": "markdown",
   "metadata": {},
   "source": [
    "# Compute the next permutation\n",
    "\n",
    "Write a program that takes as input a permutation and returns the next permutation under dictionary ordering.\n",
    "\n",
    "### Complexity\n",
    "\n",
    "Time Complexity: $\\mathcal{O}(n)$, where $n$ is the number of elements in the array.\n",
    "\n",
    "Space Complexity: $\\mathcal{O}(1)$."
   ]
  },
  {
   "cell_type": "code",
   "execution_count": 12,
   "metadata": {},
   "outputs": [
    {
     "name": "stdout",
     "output_type": "stream",
     "text": [
      "[6, 2, 4, 0, 1, 3, 5]\n"
     ]
    }
   ],
   "source": [
    "class Solution:\n",
    "    def next_permutation(self, nums):\n",
    "        inversion_point = len(nums) - 2\n",
    "        while (inversion_point >= 0 and \n",
    "               nums[inversion_point] >= nums[inversion_point + 1]):\n",
    "            inversion_point -= 1\n",
    "        if inversion_point == -1:\n",
    "            print(\"Permutation is the last permutation\")\n",
    "            return\n",
    "        for i in range(inversion_point+1, len(nums))[::-1]:\n",
    "            if nums[i] > nums[inversion_point]:\n",
    "                nums[i], nums[inversion_point] = nums[inversion_point], nums[i]\n",
    "                break\n",
    "        nums[inversion_point + 1:] = reversed(nums[inversion_point + 1:])\n",
    "    \n",
    "def main():\n",
    "    sol = Solution()\n",
    "    nums = [6,2,3,5,4,1,0]\n",
    "    perm = sol.next_permutation(nums)\n",
    "    print(nums)\n",
    "    \n",
    "if __name__ == \"__main__\":\n",
    "    main()"
   ]
  },
  {
   "cell_type": "markdown",
   "metadata": {},
   "source": [
    "# Sample Offline Data\n",
    "\n",
    "Write a program to implement an algorithm that takes as input an array of distinct elements and a size, and returns a subset of the given size of the array elements. All subsets should be equally likely.\n",
    "\n",
    "### Complexity\n",
    "\n",
    "Time Complexity: $\\mathcal{O}(k)$, where k is the size of the required subset.\n",
    "\n",
    "Space Complexity: $\\mathcal{O}(1)$."
   ]
  },
  {
   "cell_type": "code",
   "execution_count": 13,
   "metadata": {},
   "outputs": [
    {
     "name": "stdout",
     "output_type": "stream",
     "text": [
      "[95, 42, 8, 85, 97, 56, 51, 15, 66, 63]\n"
     ]
    }
   ],
   "source": [
    "from random import randint\n",
    "class Solution:\n",
    "    def sample_offline(self, nums, k):\n",
    "        for i in range(k):\n",
    "            r = randint(i, len(nums)-1)\n",
    "            nums[i], nums[r] = nums[r], nums[i]\n",
    "    \n",
    "def main():\n",
    "    sol = Solution()\n",
    "    nums = list(range(100))\n",
    "    k = 10\n",
    "    sol.sample_offline(nums, k)\n",
    "    print(nums[:k])\n",
    "    \n",
    "if __name__ == \"__main__\":\n",
    "    main()"
   ]
  },
  {
   "cell_type": "markdown",
   "metadata": {},
   "source": [
    "# Compute a random  permutation\n",
    "\n",
    "Write a program that creates uniformly random random permutations of $[0,1,\\dots,n-1]$. You are given a random number generator that returns integers in the set $[0,1,\\dots,n-1]$ with equal probability; use as few calls as possible.\n",
    "\n",
    "### Complexity\n",
    "\n",
    "Time Complexity: $\\mathcal{O}(n)$.\n",
    "\n",
    "Space Complexity: $\\mathcal{O}(1)$."
   ]
  },
  {
   "cell_type": "code",
   "execution_count": 14,
   "metadata": {},
   "outputs": [
    {
     "name": "stdout",
     "output_type": "stream",
     "text": [
      "[7, 9, 2, 6, 1, 8, 4, 5, 3, 0]\n"
     ]
    }
   ],
   "source": [
    "from random import randint\n",
    "class Solution:\n",
    "    def compute_random_permutation(self, n):\n",
    "        permutation = list(range(n))\n",
    "        self.random_sampling(permutation, n)\n",
    "        return permutation\n",
    "    \n",
    "    def random_sampling(self, nums, k):\n",
    "        for i in range(k):\n",
    "            r = randint(i, len(nums)-1)\n",
    "            nums[i], nums[r] = nums[r], nums[i]\n",
    "    \n",
    "def main():\n",
    "    sol = Solution()\n",
    "    permutation = sol.compute_random_permutation(10)\n",
    "    print(permutation)\n",
    "    \n",
    "if __name__ == \"__main__\":\n",
    "    main()"
   ]
  },
  {
   "cell_type": "markdown",
   "metadata": {},
   "source": [
    "# The Sudoku checker problem\n",
    "\n",
    "Write a program that checks whether a $9\\times9$ $2\\text{D}$ array representing a partially (or fully) completed sudoku is valid.\n",
    "\n",
    "### Complexity\n",
    "\n",
    "Time Complexity: $\\mathcal{O}(1)$.\n",
    "\n",
    "Space Complexity: $\\mathcal{O}(1)$."
   ]
  },
  {
   "cell_type": "code",
   "execution_count": 15,
   "metadata": {},
   "outputs": [
    {
     "name": "stdout",
     "output_type": "stream",
     "text": [
      "True\n"
     ]
    }
   ],
   "source": [
    "\n",
    "class Solution:\n",
    "    def is_valid_sudoku(self, board):\n",
    "        # Check row column constraints\n",
    "        for i in range(9):\n",
    "            row, col = [], []\n",
    "            for j in range(9):\n",
    "                if board[i][j] != 0:\n",
    "                    row.append(board[i][j])\n",
    "                if board[j][i] != 0:\n",
    "                    col.append(board[j][i])\n",
    "            if len(row) != len(set(row)) or len(col) != len(set(col)):\n",
    "                return False\n",
    "            \n",
    "        # check region constraints\n",
    "        for i in range(0,9,3):\n",
    "            for j in range(0,9,3):\n",
    "                region = []\n",
    "                for k in range(3):\n",
    "                    for l in range(3):\n",
    "                        if board[i+k][j+l] != 0:\n",
    "                            region.append(board[i+k][j+l])\n",
    "                if len(region) != len(set(region)):\n",
    "                    return False           \n",
    "        return True\n",
    "    \n",
    "def main():\n",
    "    sol = Solution()\n",
    "    board = [[5,3,0,0,7,0,0,0,0],\n",
    "             [6,0,0,1,9,5,0,0,0],\n",
    "             [0,9,8,0,0,0,0,6,0],\n",
    "             [8,0,0,0,6,0,0,0,3], \n",
    "             [4,0,0,8,0,3,0,0,1], \n",
    "             [7,0,0,0,2,0,0,0,6], \n",
    "             [0,6,0,0,0,0,2,8,0],\n",
    "             [0,0,0,4,1,9,0,0,5], \n",
    "             [0,0,0,0,8,0,0,7,9]]\n",
    "    print(sol.is_valid_sudoku(board))\n",
    "    \n",
    "if __name__ == \"__main__\":\n",
    "    main()"
   ]
  },
  {
   "cell_type": "markdown",
   "metadata": {},
   "source": [
    "# Rotate a 2D array\n",
    "\n",
    "Write a program that takes as input an $n\\times n$ $2\\text{D}$ array, and rotates the array by $90$ degrees clockwise.\n",
    "\n",
    "### Complexity\n",
    "\n",
    "Time Complexity: $\\mathcal{O}(n^2)$, where $n$ is the number of elements in the array.\n",
    "\n",
    "Space Complexity: $\\mathcal{O}(1)$."
   ]
  },
  {
   "cell_type": "code",
   "execution_count": 16,
   "metadata": {},
   "outputs": [
    {
     "name": "stdout",
     "output_type": "stream",
     "text": [
      "[[7, 4, 1], [8, 5, 2], [9, 6, 3]]\n",
      "[[15, 13, 2, 5], [14, 3, 4, 1], [12, 6, 8, 9], [16, 7, 10, 11]]\n"
     ]
    }
   ],
   "source": [
    "class Solution:\n",
    "    def rotate_array(self, matrix) -> None:\n",
    "        n = len(matrix[0])\n",
    "        for i in range(n):\n",
    "            for j in range(i+1, n):\n",
    "                matrix[i][j], matrix[j][i] = matrix[j][i], matrix[i][j]\n",
    "            matrix[i].reverse()\n",
    "        print(matrix)                \n",
    "            \n",
    "def main():\n",
    "    sol = Solution()\n",
    "    matrix = [[ 1, 2, 3], [ 4, 5, 6], [7, 8, 9]]\n",
    "    sol.rotate_array(matrix)\n",
    "    matrix = [[ 5, 1, 9,11], [ 2, 4, 8,10], [13, 3, 6, 7], [15,14,12,16]]\n",
    "    sol.rotate_array(matrix)\n",
    "    \n",
    "if __name__ == \"__main__\":\n",
    "    main()"
   ]
  },
  {
   "cell_type": "markdown",
   "metadata": {},
   "source": [
    "# Compute rows in Pascal's Triangle\n",
    "\n",
    "Write a program that takes as an input a nonnegative integer n and return the first n rows of Pascals' triangle.\n",
    "\n",
    "### Complexity\n",
    "\n",
    "Time Complexity: $\\mathcal{O}(n^2)$.\n",
    "\n",
    "Space Complexity: $\\mathcal{O}(n^2)$."
   ]
  },
  {
   "cell_type": "code",
   "execution_count": 17,
   "metadata": {},
   "outputs": [
    {
     "name": "stdout",
     "output_type": "stream",
     "text": [
      "Pascals' Triangle\n",
      "[1]\n",
      "[1, 1]\n",
      "[1, 2, 1]\n",
      "[1, 3, 3, 1]\n",
      "[1, 4, 6, 4, 1]\n",
      "[1, 5, 10, 10, 5, 1]\n",
      "[1, 6, 15, 20, 15, 6, 1]\n"
     ]
    }
   ],
   "source": [
    "class Solution:\n",
    "    def pascals_triangle(self, n):\n",
    "        result = [[1] * (i+1) for i in range(n)]\n",
    "        for i in range(2, n):\n",
    "            for j in range(1, i):\n",
    "                result[i][j] = result[i-1][j-1] + result[i-1][j]\n",
    "        return result\n",
    "        \n",
    "def main():\n",
    "    sol = Solution()\n",
    "    n = 7\n",
    "    nums = sol.pascals_triangle(n)\n",
    "    print(\"Pascals' Triangle\")\n",
    "    for row in nums:\n",
    "        print(row)\n",
    "    \n",
    "if __name__ == \"__main__\":\n",
    "    main()"
   ]
  }
 ],
 "metadata": {
  "kernelspec": {
   "display_name": "Python 3",
   "language": "python",
   "name": "python3"
  },
  "language_info": {
   "codemirror_mode": {
    "name": "ipython",
    "version": 3
   },
   "file_extension": ".py",
   "mimetype": "text/x-python",
   "name": "python",
   "nbconvert_exporter": "python",
   "pygments_lexer": "ipython3",
   "version": "3.7.3"
  }
 },
 "nbformat": 4,
 "nbformat_minor": 2
}
