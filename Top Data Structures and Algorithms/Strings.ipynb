{
 "cells": [
  {
   "cell_type": "markdown",
   "metadata": {},
   "source": [
    "# Palindromic String\n",
    "\n",
    "Write a program that checks whether a string is palindromic.\n",
    "\n",
    "### Complexity:\n",
    "\n",
    "Time Complexity: $\\mathcal{O}(n)$, where $n$ is the length of the string.\n",
    "\n",
    "Space Complexity: $\\mathcal{O}(1)$."
   ]
  },
  {
   "cell_type": "code",
   "execution_count": 1,
   "metadata": {},
   "outputs": [
    {
     "name": "stdout",
     "output_type": "stream",
     "text": [
      "False\n"
     ]
    }
   ],
   "source": [
    "class Solution:\n",
    "    def is_palidromic(self, s):\n",
    "        l, r = 0, len(s)-1\n",
    "        while l < r:\n",
    "            if s[l] != s[r]:\n",
    "                return False\n",
    "            l += 1\n",
    "            r -= 1\n",
    "        return True\n",
    "    \n",
    "def main():\n",
    "    s = 'aadbdaac'\n",
    "    sol = Solution()\n",
    "    is_palindromic = sol.is_palidromic(s)\n",
    "    print(is_palindromic)\n",
    "    \n",
    "if __name__ == \"__main__\":\n",
    "    main()"
   ]
  },
  {
   "cell_type": "markdown",
   "metadata": {},
   "source": [
    "# Compute the spreadsheet column encoding\n",
    "\n",
    "Write a program that implements a function that converts a spreadsheet column id to the corresponding integer, with '$A$' corresponding to $1$.\n",
    "\n",
    "### Complexity:\n",
    "\n",
    "Time Complexity: $\\mathcal{O}(n)$, where $n$ is the length of the string.\n",
    "\n",
    "Space Complexity: $\\mathcal{O}(1)$."
   ]
  },
  {
   "cell_type": "code",
   "execution_count": 2,
   "metadata": {},
   "outputs": [
    {
     "name": "stdout",
     "output_type": "stream",
     "text": [
      "703\n"
     ]
    }
   ],
   "source": [
    "import functools\n",
    "class Solution:\n",
    "    def decode_col_to_id(self, col):\n",
    "        return functools.reduce(lambda result, c: result * 26 + ord(c) - ord('A') + 1, col, 0)\n",
    "    \n",
    "def main():\n",
    "    col = 'AAA'\n",
    "    sol = Solution()\n",
    "    col_id = sol.decode_col_to_id(col)\n",
    "    print(col_id)\n",
    "    \n",
    "if __name__ == \"__main__\":\n",
    "    main()"
   ]
  },
  {
   "cell_type": "markdown",
   "metadata": {},
   "source": [
    "# Compute the spreadsheet column encoding\n",
    "\n",
    "Write a program which takes as input an array of characters, and removes each '$b$' and places each '$a$' with two '$d$'s.\n",
    "\n",
    "### Complexity:\n",
    "\n",
    "Time Complexity: $\\mathcal{O}(n)$, where $n$ is the length of the string.\n",
    "\n",
    "Space Complexity: $\\mathcal{O}(1)$."
   ]
  },
  {
   "cell_type": "code",
   "execution_count": 3,
   "metadata": {},
   "outputs": [
    {
     "name": "stdout",
     "output_type": "stream",
     "text": [
      "['d', 'd', 'c', 'd', 'c', 'd', 'd']\n"
     ]
    }
   ],
   "source": [
    "class Solution:\n",
    "    def replace_and_remove(self, s):\n",
    "        write_idx, a_cnt, size = 0, 0, len(s)\n",
    "        for i in range(size):\n",
    "            if s[i] != 'b':\n",
    "                s[write_idx] = s[i]\n",
    "                write_idx += 1\n",
    "            if s[i] == 'a':\n",
    "                a_cnt += 1\n",
    "                \n",
    "        cur_idx = write_idx - 1\n",
    "        write_idx += a_cnt - 1\n",
    "        final_size = write_idx + 1\n",
    "        while cur_idx >= 0:\n",
    "            if s[cur_idx] == 'a':\n",
    "                s[write_idx] = s[write_idx - 1] = 'd'\n",
    "                write_idx -= 2\n",
    "            else:\n",
    "                s[write_idx] = s[cur_idx]\n",
    "                write_idx -= 1\n",
    "            cur_idx -= 1\n",
    "        return final_size\n",
    "        \n",
    "        \n",
    "        \n",
    "def main():\n",
    "    s = ['a','c','d','b','b','c','a']\n",
    "    sol = Solution()\n",
    "    size = sol.replace_and_remove(s)\n",
    "    print(s[:size])\n",
    "    \n",
    "if __name__ == \"__main__\":\n",
    "    main()"
   ]
  },
  {
   "cell_type": "markdown",
   "metadata": {},
   "source": [
    "# Test palindromicity\n",
    "\n",
    "Write a program that checks whether a string is palindromic.\n",
    "\n",
    "### Complexity:\n",
    "\n",
    "Time Complexity: $\\mathcal{O}(n)$, where $n$ is the length of the string.\n",
    "\n",
    "Space Complexity: $\\mathcal{O}(1)$."
   ]
  },
  {
   "cell_type": "code",
   "execution_count": 4,
   "metadata": {},
   "outputs": [
    {
     "name": "stdout",
     "output_type": "stream",
     "text": [
      "True\n"
     ]
    }
   ],
   "source": [
    "class Solution:\n",
    "    def is_palidromic(self, s):\n",
    "        l, r = 0, len(s)-1\n",
    "        while l < r:\n",
    "            while not s[l].isalnum() and l < r:\n",
    "                l += 1\n",
    "            while not s[r].isalnum() and l < r:\n",
    "                r -= 1\n",
    "            if s[l].lower() != s[r].lower():\n",
    "                return False\n",
    "            l += 1\n",
    "            r -= 1\n",
    "        return True\n",
    "    \n",
    "def main():\n",
    "    s = 'Able was I, ere I saw Elba!'\n",
    "    sol = Solution()\n",
    "    is_palindromic = sol.is_palidromic(s)\n",
    "    print(is_palindromic)\n",
    "    \n",
    "if __name__ == \"__main__\":\n",
    "    main()"
   ]
  },
  {
   "cell_type": "markdown",
   "metadata": {},
   "source": [
    "# Reverse all the words in a sentence\n",
    "\n",
    "Given a string containing a set of words separated by whitespace, write a program to transform the string into a new string in which the words appear in the reverse order.\n",
    "\n",
    "### Complexity:\n",
    "\n",
    "Time Complexity: $\\mathcal{O}(n)$, where $n$ is the length of the string.\n",
    "\n",
    "Space Complexity: $\\mathcal{O}(1)$."
   ]
  },
  {
   "cell_type": "code",
   "execution_count": 5,
   "metadata": {},
   "outputs": [
    {
     "name": "stdout",
     "output_type": "stream",
     "text": [
      "bytearray(b'The force is strong in you')\n",
      "bytearray(b'you in strong is force The')\n"
     ]
    }
   ],
   "source": [
    "class Solution:\n",
    "    def reverse_words(self, s):\n",
    "        s.reverse()\n",
    "        \n",
    "        def reverse_range(start, end):\n",
    "            while start < end:\n",
    "                s[start], s[end] = s[end], s[start]\n",
    "                start += 1\n",
    "                end -= 1\n",
    "                \n",
    "        start = 0\n",
    "        while True: \n",
    "            end = s.find(b' ', start)\n",
    "            if end < 0:\n",
    "                break\n",
    "            reverse_range(start, end - 1)\n",
    "            start = end + 1\n",
    "            \n",
    "        reverse_range(start, len(s) - 1)\n",
    "        \n",
    "    \n",
    "def main():\n",
    "    s = 'The force is strong in you'\n",
    "    arr = bytearray(s, 'utf-8')\n",
    "    print(arr)\n",
    "    sol = Solution()\n",
    "    sol.reverse_words(arr)\n",
    "    print(arr)\n",
    "    \n",
    "if __name__ == \"__main__\":\n",
    "    main()"
   ]
  },
  {
   "cell_type": "markdown",
   "metadata": {},
   "source": [
    "# Compute all mnemonics for a phone number\n",
    "\n",
    "Write a program that takes as input a phone number, specified as a string of digits, and returns all possible character swquences that correspond to the phone number.\n",
    "\n",
    "### Complexity:\n",
    "\n",
    "Time Complexity: $\\mathcal{O}(4^n n)$, where $n$ is the length of the string."
   ]
  },
  {
   "cell_type": "code",
   "execution_count": 6,
   "metadata": {},
   "outputs": [
    {
     "name": "stdout",
     "output_type": "stream",
     "text": [
      "26244\n"
     ]
    }
   ],
   "source": [
    "class Solution:  \n",
    "    def phone_mnemonic(self, phone_number):\n",
    "        keypad = ('0', '1', 'ABC', 'DEF', 'GHI', 'JKL', 'MNO', 'PQRS', 'TUV', 'WXYZ')\n",
    "        res = []\n",
    "        \n",
    "        def mnemonic_helper(digit, cur):\n",
    "            if digit == len(phone_number):\n",
    "                res.append(cur)\n",
    "            else:\n",
    "                for c in keypad[int(phone_number[digit])]:\n",
    "                    mnemonic_helper(digit + 1, cur + c)\n",
    "        \n",
    "        mnemonic_helper(0, '')\n",
    "        return res\n",
    "    \n",
    "def main():\n",
    "    number = '227324345'\n",
    "    sol = Solution()\n",
    "    res = sol.phone_mnemonic(number)\n",
    "    print(len(res))\n",
    "    \n",
    "if __name__ == \"__main__\":\n",
    "    main()"
   ]
  },
  {
   "cell_type": "markdown",
   "metadata": {},
   "source": [
    "# The look and say problem\n",
    "\n",
    "Write a program that takes as input an integer n and returns the $n^{th}$ integer in the look-and-say sequence. Return the result as a string.\n",
    "\n",
    "### Complexity:\n",
    "\n",
    "Time Complexity: $\\mathcal{O}(n 2^n)$."
   ]
  },
  {
   "cell_type": "code",
   "execution_count": 7,
   "metadata": {},
   "outputs": [
    {
     "name": "stdout",
     "output_type": "stream",
     "text": [
      "11\n",
      "21\n",
      "1211\n",
      "111221\n",
      "312211\n",
      "13112221\n",
      "1113213211\n",
      "31131211131221\n",
      "13211311123113112211\n",
      "13211311123113112211\n"
     ]
    }
   ],
   "source": [
    "import itertools\n",
    "class Solution:  \n",
    "    def look_and_say(self, n):\n",
    "        s = '1'\n",
    "        for _ in range(n-1):\n",
    "            s = ''.join(str(len(list(grp))) + key for key, grp in itertools.groupby(s))\n",
    "            print(s)\n",
    "        return s\n",
    "    \n",
    "def main():\n",
    "    n = 10\n",
    "    sol = Solution()\n",
    "    res = sol.look_and_say(n)\n",
    "    print(res)\n",
    "    \n",
    "if __name__ == \"__main__\":\n",
    "    main()"
   ]
  },
  {
   "cell_type": "markdown",
   "metadata": {},
   "source": [
    "# Convert from roman to decimal\n",
    "\n",
    "Write a program which takes as input a valid Roman number string s and returns the integer it corresponds to.\n",
    "\n",
    "### Complexity:\n",
    "\n",
    "Time Complexity: $\\mathcal{O}(n)$, where $n$ is the length of the string.\n",
    "\n",
    "Space Complexity: $\\mathcal{O}(1)$."
   ]
  },
  {
   "cell_type": "code",
   "execution_count": 8,
   "metadata": {},
   "outputs": [
    {
     "name": "stdout",
     "output_type": "stream",
     "text": [
      "59\n"
     ]
    }
   ],
   "source": [
    "import functools\n",
    "class Solution:  \n",
    "    def roman_to_integer(self, s):\n",
    "        T = {'I':1, 'V':5, 'X':10, 'L':50, 'C':100, 'D':500, 'M':1000}\n",
    "        \n",
    "        return functools.reduce(\n",
    "                lambda val, i: val + (-T[s[i]] if T[s[i]] < T[s[i+1]] else T[s[i]]),\n",
    "                reversed(range(len(s)-1)), T[s[-1]])\n",
    "    \n",
    "def main():\n",
    "    s = 'LIX'\n",
    "    sol = Solution()\n",
    "    ans = sol.roman_to_integer(s)\n",
    "    print(ans)\n",
    "    \n",
    "if __name__ == \"__main__\":\n",
    "    main()"
   ]
  },
  {
   "cell_type": "markdown",
   "metadata": {},
   "source": [
    "# Compute all valid IP addresses\n",
    "\n",
    "Write a program that determines where to add periods to a decimal string so that the resulting string is a vilid IP address.\n",
    "Print all possibilities if there are more than one valid IP addresses.\n",
    "\n",
    "### Complexity:\n",
    "\n",
    "Time Complexity: $\\mathcal{O}(1)$.\n",
    "\n",
    "Space Complexity: $\\mathcal{O}(1)$."
   ]
  },
  {
   "cell_type": "code",
   "execution_count": 9,
   "metadata": {},
   "outputs": [
    {
     "name": "stdout",
     "output_type": "stream",
     "text": [
      "['1.92.168.11', '19.2.168.11', '19.21.68.11', '19.216.8.11', '19.216.81.1', '192.1.68.11', '192.16.8.11', '192.16.81.1', '192.168.1.1']\n"
     ]
    }
   ],
   "source": [
    "class Solution:  \n",
    "    def valid_ip_address(self, s):\n",
    "        def is_valid_part(s):\n",
    "            return len(s) == 1 or (s[0] != 0 and int(s) <= 255)\n",
    "        \n",
    "        result, parts = [], [None] * 4\n",
    "        for i in range(1, min(4,len(s))):\n",
    "            parts[0] = s[:i]\n",
    "            if is_valid_part(parts[0]):\n",
    "                for j in range(1, min(len(s) - i, 4)):\n",
    "                    parts[1] = s[i:i+j]\n",
    "                    if is_valid_part(parts[1]):\n",
    "                        for k in range(1, min(len(s) - i - j, 4)):\n",
    "                            parts[2], parts[3] = s[i+j:i+j+k], s[i+j+k:]\n",
    "                            if is_valid_part(parts[2]) and is_valid_part(parts[3]):\n",
    "                                result.append('.'.join(parts))\n",
    "        return result\n",
    "    \n",
    "def main():\n",
    "    s = '19216811'\n",
    "    sol = Solution()\n",
    "    res = sol.valid_ip_address(s)\n",
    "    print(res)\n",
    "    \n",
    "if __name__ == \"__main__\":\n",
    "    main()"
   ]
  },
  {
   "cell_type": "markdown",
   "metadata": {},
   "source": [
    "# Write a string sinusoidally\n",
    "\n",
    "Write a program which takes as input a string s and return the snakestring of s.\n",
    "\n",
    "### Complexity:\n",
    "\n",
    "Time Complexity: $\\mathcal{O}(n)$, where $n$ is the length of the string.\n",
    "\n",
    "Space Complexity: $\\mathcal{O}(1)$."
   ]
  },
  {
   "cell_type": "code",
   "execution_count": 10,
   "metadata": {},
   "outputs": [
    {
     "name": "stdout",
     "output_type": "stream",
     "text": [
      "e lHloWrdlo\n"
     ]
    }
   ],
   "source": [
    "class Solution:  \n",
    "    def snake_string(self, s):\n",
    "        return s[1::4] + s[::2] + s[3::4]\n",
    "    \n",
    "def main():\n",
    "    s = 'Hello World'\n",
    "    sol = Solution()\n",
    "    res = sol.snake_string(s)\n",
    "    print(res)\n",
    "    \n",
    "if __name__ == \"__main__\":\n",
    "    main()"
   ]
  },
  {
   "cell_type": "markdown",
   "metadata": {},
   "source": [
    "# Implement Run-Length encoding\n",
    "\n",
    "Write a program to implement run length encoding and decoding functions.\n",
    "\n",
    "### Complexity:\n",
    "\n",
    "Time Complexity: $\\mathcal{O}(n)$, where $n$ is the length of the string."
   ]
  },
  {
   "cell_type": "code",
   "execution_count": 11,
   "metadata": {},
   "outputs": [
    {
     "name": "stdout",
     "output_type": "stream",
     "text": [
      "4a11b3c2a\n",
      "aaaabbbbbbbbbbbbcccaa\n"
     ]
    }
   ],
   "source": [
    "from itertools import groupby\n",
    "class Solution:  \n",
    "    def encoding(self, s):\n",
    "        return ''.join(str(len(list(grp))) + k for k, grp in groupby(s))\n",
    "    \n",
    "    def decoding(self, s):\n",
    "        cur = ''\n",
    "        cnt = 0\n",
    "        for c in s:\n",
    "            if c.isdigit():\n",
    "                cnt += cnt * 10 + int(c)\n",
    "            else:\n",
    "                cur += cnt * c\n",
    "                cnt = 0\n",
    "        return cur\n",
    "    \n",
    "def main():\n",
    "    s = 'aaaabbbbbbbbbbbcccaa'\n",
    "    sol = Solution()\n",
    "    enc = sol.encoding(s)\n",
    "    print(enc)\n",
    "    dec = sol.decoding(enc)\n",
    "    print(dec)\n",
    "    \n",
    "if __name__ == \"__main__\":\n",
    "    main()\n"
   ]
  },
  {
   "cell_type": "markdown",
   "metadata": {},
   "source": [
    "# Find the first occurence of a substring\n",
    "\n",
    "Given two string s (pattern) and the t (text), write a program to find the first occurence of s in t.\n",
    "\n",
    "### Complexity:\n",
    "\n",
    "Time Complexity: For a good hash function the time complexity is $\\mathcal{O}(m + n)$, independent of the inputs s and t, where $m$ is the length of s and $n$ is the length of t.\n",
    "\n",
    "Space Complexity: $\\mathcal{O}(1)$."
   ]
  },
  {
   "cell_type": "code",
   "execution_count": 12,
   "metadata": {},
   "outputs": [
    {
     "name": "stdout",
     "output_type": "stream",
     "text": [
      "16\n"
     ]
    }
   ],
   "source": [
    "class Solution:\n",
    "    def rabin_karp(self, pattern, text):\n",
    "        m, n = len(pattern), len(text)\n",
    "        if m > n: return -1\n",
    "        \n",
    "        prime = 37\n",
    "        p_hash = 0\n",
    "        t_hash = 0\n",
    "        for i in range(m):\n",
    "            p_hash += (ord(pattern[i]) - ord('a') + 1) * (prime ** i)\n",
    "            t_hash += (ord(text[i]) - ord('a') + 1) * (prime ** i)\n",
    "        \n",
    "        if p_hash == t_hash and text[:m] == pattern:\n",
    "            return 0\n",
    "\n",
    "        for i in range(m, n):\n",
    "            t_hash -= (ord(text[i-m]) - ord('a') + 1)\n",
    "            t_hash //= prime\n",
    "            t_hash += (ord(text[i]) - ord('a') + 1) * (prime ** (m-1))\n",
    "            if t_hash == p_hash and text[i-m+1:i+1] == pattern:\n",
    "                return i-m+1\n",
    "\n",
    "        return -1\n",
    "    \n",
    "def main():\n",
    "    text, pattern = \"aasdasdfdfgderdsdfsdfawertfsdgfdgt\", \"dfs\"\n",
    "    sol = Solution()\n",
    "    i = sol.rabin_karp(pattern, text)\n",
    "    print(i)\n",
    "    \n",
    "if __name__ == \"__main__\":\n",
    "    main()"
   ]
  }
 ],
 "metadata": {
  "kernelspec": {
   "display_name": "Python 3",
   "language": "python",
   "name": "python3"
  },
  "language_info": {
   "codemirror_mode": {
    "name": "ipython",
    "version": 3
   },
   "file_extension": ".py",
   "mimetype": "text/x-python",
   "name": "python",
   "nbconvert_exporter": "python",
   "pygments_lexer": "ipython3",
   "version": "3.7.3"
  }
 },
 "nbformat": 4,
 "nbformat_minor": 2
}
