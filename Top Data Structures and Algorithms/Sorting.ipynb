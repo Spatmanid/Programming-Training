{
 "cells": [
  {
   "cell_type": "markdown",
   "metadata": {},
   "source": [
    "# Compute the intersection of two sorted arrays\n",
    "\n",
    "Write a program which takes as input two sorted arrays, and returns a new array containing elements that are present in both of the input arrays.\n",
    "\n",
    "### Complexity\n",
    "\n",
    "Time Complexity: $\\mathcal{O}(m + n)$.\n",
    "\n",
    "Space Complexity: $\\mathcal{O}(m + n)$."
   ]
  },
  {
   "cell_type": "code",
   "execution_count": 2,
   "metadata": {},
   "outputs": [
    {
     "name": "stdout",
     "output_type": "stream",
     "text": [
      "[2, 4, 6, 8]\n"
     ]
    }
   ],
   "source": [
    "class Solution:\n",
    "    def intersect_sorted_arrays(self, A, B):\n",
    "        i = j = 0\n",
    "        res = []\n",
    "        while i < len(A) and j < len(B):\n",
    "            if A[i] == B[j]:\n",
    "                if i == 0 or A[i] != A[i-1]:\n",
    "                    res.append(A[i])\n",
    "                i, j = i + 1, j + 1\n",
    "            elif A[i] > B[j]:\n",
    "                j += 1\n",
    "            else:\n",
    "                i += 1\n",
    "        return res\n",
    "\n",
    "def main():\n",
    "    A = [1,2,3,4,5,6,7,8,9]\n",
    "    B = [2,4,6,8,10]\n",
    "    sol = Solution()  \n",
    "    inter = sol.intersect_sorted_arrays(A, B)\n",
    "    print(inter)\n",
    "    \n",
    "if __name__ == \"__main__\":\n",
    "    main()"
   ]
  },
  {
   "cell_type": "markdown",
   "metadata": {},
   "source": [
    "# Merge two sorted arrays\n",
    "\n",
    "Write a program which takes as input two sorted arrays of integers, and updates the first to the combined entries of the two arrays in sorted order. Assume the first array has enough empty entries at its end to hold the result.\n",
    "\n",
    "### Complexity\n",
    "\n",
    "Time Complexity: $\\mathcal{O}(m)$.\n",
    "\n",
    "Space Complexity: $\\mathcal{O}(1)$."
   ]
  },
  {
   "cell_type": "code",
   "execution_count": 7,
   "metadata": {},
   "outputs": [
    {
     "name": "stdout",
     "output_type": "stream",
     "text": [
      "[1, 5, 6, 10, 12, 14, 14, 21, 27, None]\n"
     ]
    }
   ],
   "source": [
    "class Solution:\n",
    "    def merge_sorted_arrays(self, A, m, B, n):\n",
    "        i, j, k = m-1, n-1, m+n-1\n",
    "        while i >= 0 and j >=0:\n",
    "            if A[i] >= B[j]:\n",
    "                A[k] = A[i]\n",
    "                i -= 1\n",
    "            else:\n",
    "                A[k] = B[j]\n",
    "                j -= 1  \n",
    "            k -= 1\n",
    "        while i >= 0:\n",
    "            A[k] = A[i]\n",
    "            i -= 1  \n",
    "            k -= 1\n",
    "        while j >= 0:\n",
    "            A[k] = B[j]\n",
    "            j -= 1\n",
    "            k -= 1\n",
    "        return\n",
    "\n",
    "def main():\n",
    "    A = [1, 5, 10, 14, 27, None, None, None, None, None]\n",
    "    B = [6, 12, 14, 21]\n",
    "    sol = Solution()  \n",
    "    sol.merge_sorted_arrays(A, 5, B, 4)\n",
    "    print(A)\n",
    "    \n",
    "if __name__ == \"__main__\":\n",
    "    main()"
   ]
  },
  {
   "cell_type": "markdown",
   "metadata": {},
   "source": [
    "# Remove first-name duplicates\n",
    "\n",
    "Design an efficient algorithm for removing all first-name duplicates from an array.\n",
    "\n",
    "### Complexity\n",
    "\n",
    "Time Complexity: $\\mathcal{O}(n \\log n)$.\n",
    "\n",
    "Space Complexity: $\\mathcal{O}(n)$."
   ]
  },
  {
   "cell_type": "code",
   "execution_count": 10,
   "metadata": {},
   "outputs": [
    {
     "name": "stdout",
     "output_type": "stream",
     "text": [
      "[('David', 'Comp'), ('Jack', 'Black'), ('John', 'Snow'), ('Rick', 'Sanchez')]\n"
     ]
    }
   ],
   "source": [
    "class Solution:\n",
    "    def remove_duplicate_names(self, names):\n",
    "        names.sort()\n",
    "        i = 1\n",
    "        for candidate in names[1:]:\n",
    "            if candidate[0] != names[i-1][0]:\n",
    "                names[i] = candidate\n",
    "                i += 1\n",
    "        del names[i:]\n",
    "\n",
    "def main():\n",
    "    names = [('John', 'Snow'), ('John', 'Wick'), ('Jack', 'Black'),\n",
    "             ('Jack', 'TheRipper'), ('Jack', 'Smith'),\n",
    "             ('Rick', 'Sanchez'), ('David', 'Comp')]\n",
    "    sol = Solution()  \n",
    "    sol.remove_duplicate_names(names)\n",
    "    print(names)\n",
    "    \n",
    "if __name__ == \"__main__\":\n",
    "    main()"
   ]
  },
  {
   "cell_type": "markdown",
   "metadata": {},
   "source": [
    "# Smallest nonconstructible value\n",
    "\n",
    "Write a program which takes an array of positive integers and returns the smallest number which is not to the sum of a subset of elements of the array.\n",
    "\n",
    "### Complexity\n",
    "\n",
    "Time Complexity: $\\mathcal{O}(n)$.\n",
    "\n",
    "Space Complexity: $\\mathcal{O}(1)$."
   ]
  },
  {
   "cell_type": "code",
   "execution_count": 14,
   "metadata": {},
   "outputs": [
    {
     "name": "stdout",
     "output_type": "stream",
     "text": [
      "17\n"
     ]
    }
   ],
   "source": [
    "class Solution:\n",
    "    def smallest_nonconstructible_value(self, nums):\n",
    "        cur_sum = 0;\n",
    "        for num in nums:\n",
    "            if num > cur_sum + 1:\n",
    "                break\n",
    "            cur_sum += num\n",
    "        return cur_sum + 1\n",
    "\n",
    "def main():\n",
    "    nums = [1,1,2,4,8,18,25]\n",
    "    sol = Solution()  \n",
    "    smallest = sol.smallest_nonconstructible_value(nums)\n",
    "    print(smallest)\n",
    "    \n",
    "if __name__ == \"__main__\":\n",
    "    main()"
   ]
  },
  {
   "cell_type": "markdown",
   "metadata": {},
   "source": [
    "# Render a calendar\n",
    "\n",
    "Write a program that takes a set of events, and determines the maximum number of events that take place concurrently.\n",
    "\n",
    "### Complexity\n",
    "\n",
    "Time Complexity: $\\mathcal{O}(n \\log n)$.\n",
    "\n",
    "Space Complexity: $\\mathcal{O}(n)$."
   ]
  },
  {
   "cell_type": "code",
   "execution_count": 26,
   "metadata": {},
   "outputs": [
    {
     "name": "stdout",
     "output_type": "stream",
     "text": [
      "4\n",
      "4\n"
     ]
    }
   ],
   "source": [
    "import heapq\n",
    "class Solution:\n",
    "    def maximum_events(self, events):\n",
    "        if not events: return 0\n",
    "        start, end = [], []\n",
    "        for s, e in events:\n",
    "            start.append(s)\n",
    "            end.append(e)\n",
    "        start.sort()\n",
    "        end.sort()\n",
    "        e = ans = 0\n",
    "        for s in start:\n",
    "            if s < end[e]:\n",
    "                ans += 1\n",
    "            else:\n",
    "                e += 1\n",
    "        return ans\n",
    "    \n",
    "    def max_events(self, events):\n",
    "        if not events: return 0\n",
    "        h = []\n",
    "        events.sort()\n",
    "        heapq.heappush(h, events[0][1])\n",
    "        maximum = 1\n",
    "        for e in events[1:]:\n",
    "            while h and e[0] > h[0]:\n",
    "                heapq.heappop(h)\n",
    "            heapq.heappush(h, e[1])\n",
    "            maximum = max(maximum, len(h))\n",
    "        return maximum\n",
    "        \n",
    "\n",
    "def main():\n",
    "    events = [[1, 5], [6, 10], [11, 13], [14, 15],\n",
    "              [2, 7], [8, 9], [12, 15], [4, 5],\n",
    "              [9, 17], [3, 5]]\n",
    "    sol = Solution()  \n",
    "    maximum = sol.maximum_events(events)\n",
    "    print(maximum)\n",
    "    \n",
    "    maximum = sol.max_events(events)\n",
    "    print(maximum)\n",
    "    \n",
    "if __name__ == \"__main__\":\n",
    "    main()"
   ]
  },
  {
   "cell_type": "markdown",
   "metadata": {},
   "source": [
    "# Merging intervals\n",
    "\n",
    "Write a program which takes as input an array of disjoint closed intervals with integer endpoints, sorted by increasing order of left endpoint, and an interval to be added, and returns the union of the intervals in the array and the added interval. Your result should be expressed as a union of disjoint intervals sorted by left endpoint.\n",
    "\n",
    "### Complexity\n",
    "\n",
    "Time Complexity: $\\mathcal{O}(n)$.\n",
    "\n",
    "Space Complexity: $\\mathcal{O}(n)$."
   ]
  },
  {
   "cell_type": "code",
   "execution_count": 30,
   "metadata": {},
   "outputs": [
    {
     "name": "stdout",
     "output_type": "stream",
     "text": [
      "[[-4, -1], [0, 9], [11, 12], [14, 17]]\n"
     ]
    }
   ],
   "source": [
    "class Solution:\n",
    "    def merge_intervals(self, intervals, new_interval):\n",
    "        i, result = 0, []\n",
    "        \n",
    "        while i < len(intervals) and intervals[i][1] < new_interval[0]:\n",
    "            result.append(intervals[i])\n",
    "            i += 1\n",
    "            \n",
    "        while i < len(intervals) and intervals[i][0] <= new_interval[1]:\n",
    "            new_interval[0] = min(intervals[i][0], new_interval[0])\n",
    "            new_interval[1] = max(intervals[i][1], new_interval[1])\n",
    "            i += 1      \n",
    "        \n",
    "        return result + [new_interval] + intervals[i:]\n",
    "\n",
    "def main():\n",
    "    intervals, new_interval = [[-4, -1], [0, 2], [3, 6], [7, 9], [11, 12], [14, 17]], [1, 8]\n",
    "    sol = Solution()  \n",
    "    intervals = sol.merge_intervals(intervals, new_interval)\n",
    "    print(intervals)\n",
    "    \n",
    "if __name__ == \"__main__\":\n",
    "    main()"
   ]
  },
  {
   "cell_type": "markdown",
   "metadata": {},
   "source": [
    "# Compute the union of intervals\n",
    "\n",
    "Write a method that takes a sorted array and a key and returns the index of the first occurrence of that key in the array. Returns $-1$ if the key does not appear in the array.\n",
    "\n",
    "### Complexity\n",
    "\n",
    "Time Complexity: $\\mathcal{O}(n)$, $\\frac{3n}{2} - 2$ comparisons.\n",
    "\n",
    "Space Complexity: $\\mathcal{O}(1)$."
   ]
  },
  {
   "cell_type": "code",
   "execution_count": 7,
   "metadata": {},
   "outputs": [
    {
     "name": "stdout",
     "output_type": "stream",
     "text": [
      "1 5\n"
     ]
    }
   ],
   "source": [
    "class Solution:\n",
    "    def find_min_max(self, nums):\n",
    "        minimum, maximum = float('inf'), float('-inf')\n",
    "        for i in range(0, len(nums), 2):\n",
    "            if nums[i] > nums[i+1]:\n",
    "                cur_min, cur_max = nums[i+1], nums[i]\n",
    "            else:\n",
    "                cur_min, cur_max = nums[i], nums[i+1]\n",
    "            minimum, maximum = min(minimum, cur_min), max(maximum, cur_max)\n",
    "        return minimum, maximum\n",
    "\n",
    "def main():\n",
    "    nums = [2,3,5,1,2,4]\n",
    "    sol = Solution()  \n",
    "    minimum, maximum = sol.find_min_max(nums)\n",
    "    print(minimum, maximum)\n",
    "    \n",
    "if __name__ == \"__main__\":\n",
    "    main()"
   ]
  },
  {
   "cell_type": "markdown",
   "metadata": {},
   "source": [
    "# Partitioning and sorting an array with many repeated entries\n",
    "\n",
    "You are given an array of student objects. Each student has an integer-valued age field that is to be treated as a key. Rearrange the elements of the array so that students of equal age appear together. The order in which diffurent ages appear is not important.\n",
    "\n",
    "### Complexity\n",
    "\n",
    "Time Complexity: $\\mathcal{O}(n)$.\n",
    "\n",
    "Space Complexity: $\\mathcal{O}(m)$."
   ]
  },
  {
   "cell_type": "code",
   "execution_count": 32,
   "metadata": {},
   "outputs": [],
   "source": [
    "import collections\n",
    "class Solution:\n",
    "    def group_by_age(self, people):\n",
    "        age_to_count = collections.Counter([person[1] for person in people])\n",
    "        age_to_offset, offset = {}, 0\n",
    "        for age, count in age_to_count.items():\n",
    "            age_to_offset[age] = offset\n",
    "            offset += count\n",
    "            \n",
    "        while age_to_offset:\n",
    "            from_age = next(iter(age_to_offset))\n",
    "            from_idx = age_to_offset[from_age]\n",
    "            to_age = people[from_idx][1]\n",
    "            to_idx = age_to_offset[people[from_idx][1]]\n",
    "            people[from_idx] , people[to_idx] = people[to_idx], peoplr[from_idx]\n",
    "            age_to_count[to_age] -= 1\n",
    "            if age_to_count[to_age]:\n",
    "                age_to_offset[to_age] = to_idx + 1\n",
    "            else:\n",
    "                del age_to_offset[to_age]"
   ]
  },
  {
   "cell_type": "markdown",
   "metadata": {},
   "source": [
    "# Team photo day - 1\n",
    "\n",
    "Design an algorithm that takes as input two teams and the heights of the players in the teams and checks if it is possible to place players to take the photo subject to the placement constraint.\n",
    "\n",
    "### Complexity\n",
    "\n",
    "Time Complexity: $\\mathcal{O}(n \\log n)$.\n",
    "\n",
    "Space Complexity: $\\mathcal{O}(1)$."
   ]
  },
  {
   "cell_type": "code",
   "execution_count": 42,
   "metadata": {},
   "outputs": [
    {
     "name": "stdout",
     "output_type": "stream",
     "text": [
      "True\n"
     ]
    }
   ],
   "source": [
    "class Solution:\n",
    "    def valid_placement(self, A, B):\n",
    "        A.sort()\n",
    "        B.sort()\n",
    "        return (all(a < b for a, b in zip(A, B)) or \n",
    "                all(b < a for a, b in zip(A, B)) )\n",
    "    \n",
    "def main():\n",
    "    A = [150, 160, 165, 170, 175, 180]\n",
    "    B = [145, 150, 160, 168, 174, 179]\n",
    "    sol = Solution()  \n",
    "    valid = sol.valid_placement(A,B)\n",
    "    print(valid)\n",
    "    \n",
    "if __name__ == \"__main__\":\n",
    "    main()"
   ]
  },
  {
   "cell_type": "markdown",
   "metadata": {},
   "source": [
    "# Implement fast sorting for lists\n",
    "\n",
    "Design an algorithm for computing the kth largest element in an array.\n",
    "\n",
    "### Complexity\n",
    "\n",
    "Time Complexity: $\\mathcal{O}(n)$.\n",
    "\n",
    "Space Complexity: $\\mathcal{O}(\\log n)$, and worst case time complexity $\\mathcal{O}(n^2)$."
   ]
  },
  {
   "cell_type": "code",
   "execution_count": 2,
   "metadata": {},
   "outputs": [
    {
     "name": "stdout",
     "output_type": "stream",
     "text": [
      "1 2 3 4 "
     ]
    }
   ],
   "source": [
    "class ListNode:\n",
    "    def __init__(self, val=0, next=None):\n",
    "        self.val = val\n",
    "        self.next = next\n",
    "        \n",
    "class Solution:\n",
    "    def sort_list(self, head):\n",
    "        if not head or not head.next: return head\n",
    "        pre_slow, slow, fast = None, head, head\n",
    "        while fast and fast.next:\n",
    "            pre_slow = slow\n",
    "            slow = slow.next\n",
    "            fast = fast.next.next\n",
    "        pre_slow.next = None\n",
    "        return self.merge_lists(self.sort_list(head), self.sort_list(slow))\n",
    "        \n",
    "    def merge_lists(self, l1, l2):\n",
    "        dhead = p = ListNode(0)\n",
    "        while l1 and l2:\n",
    "            if l1.val <= l2.val:\n",
    "                p.next = l1\n",
    "                l1 = l1.next\n",
    "            else:\n",
    "                p.next = l2\n",
    "                l2 = l2.next\n",
    "            p = p.next   \n",
    "        if l1:\n",
    "            p.next = l1\n",
    "        if l2:\n",
    "            p.next = l2\n",
    "        return dhead.next\n",
    "    \n",
    "def main():\n",
    "    l = ListNode(3, ListNode(2, ListNode(1, ListNode(4))))\n",
    "    sol = Solution()  \n",
    "    l = sol.sort_list(l)\n",
    "    while l:\n",
    "        print(l.val, end=' ')\n",
    "        l = l.next\n",
    "    \n",
    "if __name__ == \"__main__\":\n",
    "    main()"
   ]
  },
  {
   "cell_type": "markdown",
   "metadata": {},
   "source": [
    "# Compute a salary threshold\n",
    "\n",
    "Design an algorithm for computing the salary cap, given existing salaries and the target payroll.\n",
    "\n",
    "### Complexity\n",
    "\n",
    "Time Complexity: $\\mathcal{O}(n \\log n)$.\n",
    "\n",
    "Space Complexity: $\\mathcal{O}(1)$."
   ]
  },
  {
   "cell_type": "code",
   "execution_count": 4,
   "metadata": {},
   "outputs": [
    {
     "name": "stdout",
     "output_type": "stream",
     "text": [
      "60\n"
     ]
    }
   ],
   "source": [
    "class Solution:\n",
    "    def salary_cap(self, salaries, target):\n",
    "        def valid_cap(m):\n",
    "            cur_sum = 0\n",
    "            for sal in salaries:\n",
    "                if sal <= m:\n",
    "                    cur_sum += sal\n",
    "                else:\n",
    "                    cur_sum += m\n",
    "            return cur_sum <= target\n",
    "        l, r = 0, max(salaries)\n",
    "        ans = -1\n",
    "        while l <= r:\n",
    "            m = l + (r - l) // 2\n",
    "            if valid_cap(m):\n",
    "                ans = m\n",
    "                l = m + 1\n",
    "            else:\n",
    "                r = m - 1\n",
    "        return ans       \n",
    "    \n",
    "def main():\n",
    "    salaries, target = [20, 30, 40, 90, 100], 210\n",
    "    sol = Solution()  \n",
    "    cap = sol.salary_cap(salaries, target)\n",
    "    print(cap)\n",
    "    \n",
    "if __name__ == \"__main__\":\n",
    "    main()"
   ]
  }
 ],
 "metadata": {
  "kernelspec": {
   "display_name": "Python 3",
   "language": "python",
   "name": "python3"
  },
  "language_info": {
   "codemirror_mode": {
    "name": "ipython",
    "version": 3
   },
   "file_extension": ".py",
   "mimetype": "text/x-python",
   "name": "python",
   "nbconvert_exporter": "python",
   "pygments_lexer": "ipython3",
   "version": "3.7.3"
  }
 },
 "nbformat": 4,
 "nbformat_minor": 2
}
