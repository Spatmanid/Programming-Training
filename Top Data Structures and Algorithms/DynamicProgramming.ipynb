{
 "cells": [
  {
   "cell_type": "markdown",
   "metadata": {},
   "source": [
    "# Kadane's Algorithm\n",
    "\n",
    "Given an integer array nums, find the contiguous subarray (containing at least one number) which has the largest sum and return its sum.\n",
    "\n",
    "### Complexity\n",
    "\n",
    "Time Complexity: $\\mathcal{O}(n)$.\n",
    "\n",
    "Space Complexity: $\\mathcal{O}(1)$."
   ]
  },
  {
   "cell_type": "code",
   "execution_count": 1,
   "metadata": {},
   "outputs": [
    {
     "name": "stdout",
     "output_type": "stream",
     "text": [
      "161\n"
     ]
    }
   ],
   "source": [
    "class Solution:\n",
    "    def kadane(self, nums):\n",
    "        max_sum = nums[0]\n",
    "        for i in range(1, len(nums)):\n",
    "            if nums[i-1] > 0:\n",
    "                nums[i] += nums[i-1]\n",
    "            max_sum = max(max_sum, nums[i])\n",
    "        return max_sum\n",
    "    \n",
    "def main():\n",
    "    nums = [10, 32, 43, -10, -20, 30, -90, -100, 140, 21]\n",
    "    sol = Solution()\n",
    "    print(sol.kadane(nums))\n",
    "    \n",
    "if __name__ == \"__main__\":\n",
    "    main()"
   ]
  },
  {
   "cell_type": "markdown",
   "metadata": {},
   "source": [
    "# Count the number of score combinations\n",
    "\n",
    "Write a program that takes a final score and scores for individual plays, and retums the number of combinations of plays that result in the final score.\n",
    "\n",
    "### Complexity\n",
    "\n",
    "Time Complexity: $\\mathcal{O}(n \\cdot C)$.\n",
    "\n",
    "Space Complexity: $\\mathcal{O}(C)$."
   ]
  },
  {
   "cell_type": "code",
   "execution_count": 2,
   "metadata": {},
   "outputs": [
    {
     "name": "stdout",
     "output_type": "stream",
     "text": [
      "6\n"
     ]
    }
   ],
   "source": [
    "class Solution:\n",
    "    def count_score_combinations(self, score, target):\n",
    "        dp = [1] + [0] * target\n",
    "        for s in score:\n",
    "            for i in range(s, target + 1):\n",
    "                dp[i] += dp[i-s]\n",
    "        return dp[target]\n",
    "    \n",
    "def main():\n",
    "    score, target = [2, 3, 6], 12\n",
    "    sol = Solution()\n",
    "    print(sol.count_score_combinations(score, target))\n",
    "    \n",
    "if __name__ == \"__main__\":\n",
    "    main()"
   ]
  },
  {
   "cell_type": "markdown",
   "metadata": {},
   "source": [
    "# Compute the levenshtein distance\n",
    "\n",
    "Write a program that takes two strings and computes the minimum number of edits needed to transform the first string into the second one.\n",
    "\n",
    "### Complexity\n",
    "\n",
    "Time Complexity: $\\mathcal{O}(m \\cdot n)$.\n",
    "\n",
    "Space Complexity: $\\mathcal{O}(m \\cdot n)$."
   ]
  },
  {
   "cell_type": "code",
   "execution_count": 3,
   "metadata": {},
   "outputs": [
    {
     "name": "stdout",
     "output_type": "stream",
     "text": [
      "3\n"
     ]
    }
   ],
   "source": [
    "class Solution:\n",
    "    def edit_distance(self, s1, s2):\n",
    "        m, n = len(s1), len(s2)\n",
    "        dp = [[0] * (n+1) for _ in range(m+1)]\n",
    "        for i in range(1, m+1):\n",
    "            dp[i][0] = i\n",
    "        for j in range(1, n+1):\n",
    "            dp[0][j] = j\n",
    "        for i in range(1, m+1):\n",
    "            for j in range(1, n+1):\n",
    "                if s1[i-1] == s2[j-1]:\n",
    "                    dp[i][j] = dp[i-1][j-1]\n",
    "                else:\n",
    "                    dp[i][j] = min(dp[i][j-1], \n",
    "                                   dp[i-1][j-1], \n",
    "                                   dp[i-1][j]) + 1\n",
    "        return dp[m][n]\n",
    "    \n",
    "def main():\n",
    "    s1, s2 = \"SATURDAY\", \"SUNDAY\"\n",
    "    sol = Solution()\n",
    "    print(sol.edit_distance(s1, s2))\n",
    "    \n",
    "if __name__ == \"__main__\":\n",
    "    main()"
   ]
  },
  {
   "cell_type": "markdown",
   "metadata": {},
   "source": [
    "# Count the number of ways to traverse a $2D$ array\n",
    "\n",
    "Write a program that counts how many ways you can go from the top-left to the bottom-right in a 2D array.\n",
    "\n",
    "### Complexity\n",
    "\n",
    "Time Complexity: $\\mathcal{O}(m \\cdot n)$.\n",
    "\n",
    "Space Complexity: $\\mathcal{O}(m \\cdot n)$."
   ]
  },
  {
   "cell_type": "code",
   "execution_count": 4,
   "metadata": {},
   "outputs": [
    {
     "name": "stdout",
     "output_type": "stream",
     "text": [
      "70\n"
     ]
    }
   ],
   "source": [
    "class Solution:\n",
    "    def count_ways_2D(self, m, n):\n",
    "        dp = [[1] * n for _ in range(n)]\n",
    "        for i in range(1, m):\n",
    "            for j in range(1, n):\n",
    "                dp[i][j] = dp[i-1][j] + dp[i][j-1]\n",
    "        return dp[-1][-1]\n",
    "    \n",
    "def main():\n",
    "    m, n = 5, 5\n",
    "    sol = Solution()\n",
    "    print(sol.count_ways_2D(m, n))\n",
    "    \n",
    "if __name__ == \"__main__\":\n",
    "    main()"
   ]
  },
  {
   "cell_type": "markdown",
   "metadata": {},
   "source": [
    "# Compute the binomial coefficients\n",
    "\n",
    "Design an efficient algorithm for computing $\\binom{n}{k}$, which has the property that it never overflows if the final result fits in the integer word size.\n",
    "\n",
    "### Complexity\n",
    "\n",
    "Time Complexity: $\\mathcal{O}(n \\cdot k)$.\n",
    "\n",
    "Space Complexity: $\\mathcal{O}(n \\cdot k)$."
   ]
  },
  {
   "cell_type": "code",
   "execution_count": 5,
   "metadata": {},
   "outputs": [
    {
     "name": "stdout",
     "output_type": "stream",
     "text": [
      "10\n"
     ]
    }
   ],
   "source": [
    "class Solution:\n",
    "    def binomial_coefficient(self, n, k):\n",
    "        def compute_x_choose_y(x, y):\n",
    "            if y in (0, x):\n",
    "                return 1\n",
    "            if x_choose_y[x][y] == 0:\n",
    "                without_y = compute_x_choose_y(x - 1, y)\n",
    "                with_y = compute_x_choose_y(x-1, y-1)\n",
    "                x_choose_y[x][y] = without_y + with_y\n",
    "            return x_choose_y[x][y]\n",
    "        \n",
    "        x_choose_y = [[0] * (k+1) for _ in range(n+1)]\n",
    "        return compute_x_choose_y(n, k)\n",
    "    \n",
    "def main():\n",
    "    n, k = 5, 2\n",
    "    sol = Solution()\n",
    "    print(sol.binomial_coefficient(n, k))\n",
    "    \n",
    "if __name__ == \"__main__\":\n",
    "    main()"
   ]
  },
  {
   "cell_type": "markdown",
   "metadata": {},
   "source": [
    "# Search for a sequence if a $2D$ array\n",
    "\n",
    "Write a program that takes as arguments a $2D$ array and a $lD$ array, and checks whether the $1D$ array occurs in the $2D$ array.\n",
    "\n",
    "### Complexity\n",
    "\n",
    "Time Complexity: $\\mathcal{O}(n \\cdot m \\cdot |S|)$.\n",
    "\n",
    "Space Complexity: $\\mathcal{O}(|S|)$."
   ]
  },
  {
   "cell_type": "code",
   "execution_count": 6,
   "metadata": {},
   "outputs": [
    {
     "name": "stdout",
     "output_type": "stream",
     "text": [
      "True\n"
     ]
    }
   ],
   "source": [
    "class Solution:\n",
    "    def search_for_sequence(self, grid, S):\n",
    "        def dfs(x, y, offset):\n",
    "            if offset == len(S):\n",
    "                return True\n",
    "            if (0 <= x < len(grid) and 0 <= y < len(grid[0]) and \n",
    "                grid[x][y] == S[offset] and \n",
    "                (x, y) not in previous_attempts and\n",
    "                any(dfs(x + a, y + b, offset + 1) \n",
    "                    for a, b in ((0,1), (1,0), (0,-1), (-1,0)))):\n",
    "                return True\n",
    "            previous_attempts.add((x, y, offset))\n",
    "            return False\n",
    "        \n",
    "        previous_attempts = set()\n",
    "        return any(dfs(i, j, 0) \n",
    "                   for i in range(len(grid)) \n",
    "                   for j in range(len(grid[0])))\n",
    "        \n",
    "        \n",
    "def main():\n",
    "    grid = [[1,2,3], [3,4,5], [5,6,7]]\n",
    "    S = [1, 2, 4, 6]\n",
    "    sol = Solution()\n",
    "    print(sol.search_for_sequence(grid, S))\n",
    "    \n",
    "if __name__ == \"__main__\":\n",
    "    main()"
   ]
  },
  {
   "cell_type": "markdown",
   "metadata": {},
   "source": [
    "# The knapsack problem\n",
    "\n",
    "Write a program for the knapsack problem that selects a subset of items that has maximum value and satisfies the weight constraint. All items have integer weights and values. Retum the value of the subset.\n",
    "\n",
    "### Complexity\n",
    "\n",
    "Time Complexity: $\\mathcal{O}(n \\cdot C)$.\n",
    "\n",
    "Space Complexity: $\\mathcal{O}(C)$."
   ]
  },
  {
   "cell_type": "code",
   "execution_count": 7,
   "metadata": {},
   "outputs": [
    {
     "name": "stdout",
     "output_type": "stream",
     "text": [
      "140\n"
     ]
    }
   ],
   "source": [
    "class Solution:\n",
    "    def knapsack(self, value, weight, C):\n",
    "        dp = [0] * (C + 1)\n",
    "        for w, v in zip(weight, value):\n",
    "            for j in range(w, C+1)[::-1]:\n",
    "                dp[j] = max(dp[j], dp[j-w] + v)                \n",
    "        return dp[C]\n",
    "        \n",
    "def main():\n",
    "    value, weight = [70, 60, 80, 40], [5, 3, 4, 2]\n",
    "    capacity = 7\n",
    "    sol = Solution()\n",
    "    print(sol.knapsack(value, weight, capacity))\n",
    "    \n",
    "if __name__ == \"__main__\":\n",
    "    main()"
   ]
  },
  {
   "cell_type": "markdown",
   "metadata": {},
   "source": [
    "# Word break problem\n",
    "\n",
    "Given a string and a dictionary, split this string into multiple words such that each word belongs in dictionary.\n",
    "\n",
    "### Complexity\n",
    "\n",
    "Time Complexity: $\\mathcal{O}(n^3)$.\n",
    "\n",
    "Space Complexity: $\\mathcal{O}(n^2)$."
   ]
  },
  {
   "cell_type": "code",
   "execution_count": 8,
   "metadata": {},
   "outputs": [
    {
     "name": "stdout",
     "output_type": "stream",
     "text": [
      "['to', 'infinity', 'and', 'beyond']\n"
     ]
    }
   ],
   "source": [
    "class Solution:\n",
    "    def word_break(self, domain, dictionary):\n",
    "        n = len(domain)\n",
    "        dp = [[-1] * n for _ in range(n)]\n",
    "        for l in range(1, n+1):\n",
    "            for i in range(n-l+1):\n",
    "                j = i + l - 1\n",
    "                cur_string = domain[i:j+1]\n",
    "                if cur_string in dictionary:\n",
    "                    dp[i][j] = i\n",
    "                for k in range(i+1, j+1):\n",
    "                    if dp[i][k-1] != -1 and dp[k][j] != -1:\n",
    "                        dp[i][j] = k\n",
    "                        break\n",
    "        if dp[0][n-1] == - 1:\n",
    "            return None\n",
    "        \n",
    "        i, j, buffer = 0, n-1, []\n",
    "        while i < j:\n",
    "            k = dp[i][j]\n",
    "            if i == k:\n",
    "                buffer.append(domain[i:j+1])\n",
    "                break\n",
    "            buffer.append(domain[i:k])\n",
    "            i = k\n",
    "        return buffer\n",
    "        \n",
    "def main():\n",
    "    domain = \"toinfinityandbeyond\"\n",
    "    dictionary = set(['to', 'infinity', 'and', 'beyond'])\n",
    "    sol = Solution()\n",
    "    print(sol.word_break(domain, dictionary))\n",
    "    \n",
    "if __name__ == \"__main__\":\n",
    "    main()"
   ]
  },
  {
   "cell_type": "markdown",
   "metadata": {},
   "source": [
    "# Find the minimum weight path in a triangle\n",
    "\n",
    "Write a program that takes as input a triangle of numbers and retums the weight of a minimum weight path.\n",
    "\n",
    "### Complexity\n",
    "\n",
    "Time Complexity: $\\mathcal{O}(n^2)$.\n",
    "\n",
    "Space Complexity: $\\mathcal{O}(n)$."
   ]
  },
  {
   "cell_type": "code",
   "execution_count": 9,
   "metadata": {},
   "outputs": [
    {
     "name": "stdout",
     "output_type": "stream",
     "text": [
      "15\n"
     ]
    }
   ],
   "source": [
    "class Solution:\n",
    "    def triangle_path(self, triangle):\n",
    "        n = len(triangle[-1])\n",
    "        dp = [[float('inf')] * (n + 1) for _ in range(n)]\n",
    "        dp[0][1] = triangle[0][0]\n",
    "        for i in range(1, n):\n",
    "            for j in range(1, i+2):\n",
    "                dp[i][j] = min(dp[i-1][j-1], dp[i-1][j]) + triangle[i][j-1]\n",
    "        return min(dp[n-1])\n",
    "        \n",
    "def main():\n",
    "    triangle = [[2], [4,4], [8,5,6], [4,2,6,2], [1,5,2,3,4]]\n",
    "    sol = Solution()\n",
    "    print(sol.triangle_path(triangle))\n",
    "    \n",
    "if __name__ == \"__main__\":\n",
    "    main()"
   ]
  },
  {
   "cell_type": "markdown",
   "metadata": {},
   "source": [
    "# Pick up coins for maximum gain\n",
    "\n",
    "Design an efficient algorithm for computing the maximum total value for the starting player in the pick-up-coins game.\n",
    "\n",
    "### Complexity\n",
    "\n",
    "Time Complexity: $\\mathcal{O}(n^2)$.\n",
    "\n",
    "Space Complexity: $\\mathcal{O}(n^2)$."
   ]
  },
  {
   "cell_type": "code",
   "execution_count": 10,
   "metadata": {},
   "outputs": [
    {
     "name": "stdout",
     "output_type": "stream",
     "text": [
      "140\n"
     ]
    }
   ],
   "source": [
    "class Solution:\n",
    "    def maximum_gain(self, coins):\n",
    "        n = len(coins)\n",
    "        dp = [[None] * (n) for _ in range(n)]\n",
    "        for i in range(n):\n",
    "            dp[i][i] = (coins[i], 0)\n",
    "        for l in range(2, n+1):\n",
    "            for i in range(n - l + 1):\n",
    "                j = i + l - 1\n",
    "                a = max(coins[i] + dp[i+1][j][1], coins[j] + dp[i][j-1][1])\n",
    "                b = min(dp[i][j-1][0], dp[i+1][j][0])\n",
    "                dp[i][j] = (a, b) \n",
    "        return dp[0][-1][0]\n",
    "           \n",
    "def main():\n",
    "    coins = [25,5,10,5,10,5,10,25,1,25,1,25,1,25,5,10]\n",
    "    sol = Solution()\n",
    "    print(sol.maximum_gain(coins))\n",
    "    \n",
    "if __name__ == \"__main__\":\n",
    "    main()"
   ]
  },
  {
   "cell_type": "markdown",
   "metadata": {},
   "source": [
    "# Count the number of moves to climb stairs\n",
    "\n",
    "Write a program which takes as inputs n andk and retums the number of ways in which you can get to your destination.\n",
    "\n",
    "### Complexity\n",
    "\n",
    "Time Complexity: $\\mathcal{O}(n \\cdot k)$.\n",
    "\n",
    "Space Complexity: $\\mathcal{O}(n)$."
   ]
  },
  {
   "cell_type": "code",
   "execution_count": 11,
   "metadata": {},
   "outputs": [
    {
     "name": "stdout",
     "output_type": "stream",
     "text": [
      "[1, 1, 2, 4, 8, 16, 31, 61, 120]\n",
      "120\n"
     ]
    }
   ],
   "source": [
    "class Solution:\n",
    "    def number_of_ways_to_climb_stairs(self, n, k):\n",
    "        tmp = 0\n",
    "        dp = [1]\n",
    "        for i in range(1, n+1):\n",
    "            start = i - k - 1\n",
    "            end = i - 1\n",
    "            if start >= 0:\n",
    "                tmp -= dp[start]\n",
    "            tmp += dp[end]\n",
    "            dp.append(tmp)\n",
    "        print(dp)\n",
    "        return dp[-1]\n",
    "                \n",
    "        \n",
    "def main():\n",
    "    n, k = 8, 5\n",
    "    sol = Solution()\n",
    "    print(sol.number_of_ways_to_climb_stairs(n, k))\n",
    "    \n",
    "if __name__ == \"__main__\":\n",
    "    main()"
   ]
  },
  {
   "cell_type": "markdown",
   "metadata": {},
   "source": [
    "# The pretty printing problem\n",
    "\n",
    "Given text, i.e., a string of words separated by single blanks, decompose the text into lines such that no word is split across lines and the messiness of the decomposition is minimized. Each line can hold no more than a specified number of characters.\n",
    "\n",
    "### Complexity\n",
    "\n",
    "Time Complexity: $\\mathcal{O}(n \\cdot L)$.\n",
    "\n",
    "Space Complexity: $\\mathcal{O}(n)$."
   ]
  },
  {
   "cell_type": "code",
   "execution_count": 12,
   "metadata": {},
   "outputs": [
    {
     "name": "stdout",
     "output_type": "stream",
     "text": [
      "114\n"
     ]
    }
   ],
   "source": [
    "class Solution:\n",
    "    def minimize_messiness(self, words, line_length):\n",
    "        blanks_left = line_length - len(words[0])\n",
    "        dp = ([blanks_left**2] + [float('inf')] * (len(words)-1))\n",
    "        \n",
    "        for i in range(1, len(words)):\n",
    "            blanks_left = line_length - len(words[i])\n",
    "            dp[i] = dp[i-1] + blanks_left ** 2\n",
    "            for j in reversed(range(i)):\n",
    "                blanks_left -= len(words[j]) + 1\n",
    "                if blanks_left < 0:\n",
    "                    break\n",
    "                first_j_messiness = 0 if j - 1 < 0 else dp[j-1]\n",
    "                current_line_messiness = blanks_left ** 2\n",
    "                dp[i] = min(dp[i], first_j_messiness + current_line_messiness)\n",
    "        return dp[-1]\n",
    "        \n",
    "def main():\n",
    "    words = ['For', 'him', 'science', 'was', 'the', 'means', 'of', 'exposing',\n",
    "             'the', 'immortal', 'nucleus', 'of', 'the', 'human', 'soul.']\n",
    "    line_length = 10\n",
    "    sol = Solution()\n",
    "    print(sol.minimize_messiness(words, line_length))\n",
    "    \n",
    "if __name__ == \"__main__\":\n",
    "    main()"
   ]
  },
  {
   "cell_type": "markdown",
   "metadata": {},
   "source": [
    "# Find the longest nondecreasing subsequence\n",
    "\n",
    "Write a program that takes as input an array of numbers and returns the length of a longest nondecreasing subsequence in the array.\n",
    "\n",
    "### Complexity\n",
    "\n",
    "Time Complexity: $\\mathcal{O}(n \\log{n})$.\n",
    "\n",
    "Space Complexity: $\\mathcal{O}(n)$."
   ]
  },
  {
   "cell_type": "code",
   "execution_count": 13,
   "metadata": {},
   "outputs": [
    {
     "name": "stdout",
     "output_type": "stream",
     "text": [
      "4\n"
     ]
    }
   ],
   "source": [
    "class Solution:\n",
    "    def longest_nondecreasing_subsequence(self, nums):\n",
    "        dp = [float('inf')] * len(nums)\n",
    "        size = 0\n",
    "        for num in nums:\n",
    "            l, r, pos = 0, size, size\n",
    "            while l <= r:\n",
    "                m = l + (r - l) // 2\n",
    "                if num < dp[m]:\n",
    "                    pos = m\n",
    "                    r = m - 1\n",
    "                else:\n",
    "                    l = m + 1\n",
    "            if pos == size:\n",
    "                size += 1\n",
    "            dp[pos] = num\n",
    "        return size\n",
    "        \n",
    "def main():\n",
    "    nums = [0,8,4,12,2,10,6,14,1,9]\n",
    "    sol = Solution()\n",
    "    print(sol.longest_nondecreasing_subsequence(nums))\n",
    "    \n",
    "if __name__ == \"__main__\":\n",
    "    main()"
   ]
  },
  {
   "cell_type": "markdown",
   "metadata": {},
   "source": [
    "# Find a longest nondecreasing subsequence\n",
    "\n",
    "Write a program that takes as input an array of numbers and returns a longest nondecreasing subsequence in the array.\n",
    "\n",
    "### Complexity\n",
    "\n",
    "Time Complexity: $\\mathcal{O}(n \\log{n})$.\n",
    "\n",
    "Space Complexity: $\\mathcal{O}(n)$."
   ]
  },
  {
   "cell_type": "code",
   "execution_count": 14,
   "metadata": {},
   "outputs": [
    {
     "name": "stdout",
     "output_type": "stream",
     "text": [
      "[0, 2, 6, 9]\n"
     ]
    }
   ],
   "source": [
    "class Solution:\n",
    "    def longest_nondecreasing_subsequence(self, nums):\n",
    "        dp = [[(float('inf'), None)] for _ in range(len(nums))]\n",
    "        size = 0\n",
    "        for num in nums:\n",
    "            l, r, pos = 0, size, size\n",
    "            while l <= r and size > 0:\n",
    "                m = l + (r - l) // 2\n",
    "                if num < dp[m][-1][0]:\n",
    "                    pos = m\n",
    "                    r = m - 1\n",
    "                else:\n",
    "                    l = m + 1\n",
    "            if pos == size:\n",
    "                size += 1\n",
    "            if pos == 0:\n",
    "                dp[pos].append((num, None))\n",
    "            else:\n",
    "                dp[pos].append((num, len(dp[pos-1])-1))\n",
    "        res = [dp[size-1][-1][0]]\n",
    "        pos = dp[size-1][-1][1]\n",
    "        for i in range(1, size)[::-1]:\n",
    "            res.append(dp[i-1][pos][0])\n",
    "            pos = dp[i-1][pos][1]\n",
    "        res.reverse()\n",
    "        return res\n",
    "        \n",
    "def main():\n",
    "    nums = [0,8,4,12,2,10,6,14,1,9]\n",
    "    sol = Solution()\n",
    "    print(sol.longest_nondecreasing_subsequence(nums))\n",
    "    \n",
    "if __name__ == \"__main__\":\n",
    "    main()"
   ]
  }
 ],
 "metadata": {
  "kernelspec": {
   "display_name": "Python 3",
   "language": "python",
   "name": "python3"
  },
  "language_info": {
   "codemirror_mode": {
    "name": "ipython",
    "version": 3
   },
   "file_extension": ".py",
   "mimetype": "text/x-python",
   "name": "python",
   "nbconvert_exporter": "python",
   "pygments_lexer": "ipython3",
   "version": "3.7.3"
  }
 },
 "nbformat": 4,
 "nbformat_minor": 2
}
