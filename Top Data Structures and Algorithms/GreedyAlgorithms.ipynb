{
 "cells": [
  {
   "cell_type": "markdown",
   "metadata": {},
   "source": [
    "# Compute an optimum assignment task\n",
    "\n",
    "Design an algorithm that takes as input a set of tasks and returns an optimum assignment.\n",
    "\n",
    "### Complexity\n",
    "\n",
    "Time Complexity: $\\mathcal{O}(n \\log n)$.\n",
    "\n",
    "Space Complexity: $\\mathcal{O}(1)$."
   ]
  },
  {
   "cell_type": "code",
   "execution_count": 1,
   "metadata": {},
   "outputs": [
    {
     "name": "stdout",
     "output_type": "stream",
     "text": [
      "[(1, 6), (2, 5), (4, 4)]\n"
     ]
    }
   ],
   "source": [
    "class Solution:\n",
    "    def optimum_task_assingnment(self, nums):\n",
    "        nums.sort()\n",
    "        return [(nums[i], nums[~i]) for i in range(len(nums)//2)]\n",
    "    \n",
    "def main():\n",
    "    nums = [5,2,1,6,4,4]\n",
    "    sol = Solution()\n",
    "    print(sol.optimum_task_assingnment(nums))\n",
    "    \n",
    "if __name__ == \"__main__\":\n",
    "    main()"
   ]
  },
  {
   "cell_type": "markdown",
   "metadata": {},
   "source": [
    "# Schedule to minimize waiting time\n",
    "\n",
    "Given service times for a set of queries, compute a schedule for processing the queries that minimizes the total waiting time. Return the minimum waiting time.\n",
    "\n",
    "### Complexity\n",
    "\n",
    "Time Complexity: $\\mathcal{O}(n \\log n)$.\n",
    "\n",
    "Space Complexity: $\\mathcal{O}(1)$."
   ]
  },
  {
   "cell_type": "code",
   "execution_count": 2,
   "metadata": {},
   "outputs": [
    {
     "name": "stdout",
     "output_type": "stream",
     "text": [
      "10\n"
     ]
    }
   ],
   "source": [
    "class Solution:\n",
    "    def minimum_waiting_time(self, queries):\n",
    "        if len(queries) == 1:\n",
    "            return 0\n",
    "        queries.sort()\n",
    "        cur_sum = queries[0]\n",
    "        for i in range(1,len(queries)-1):\n",
    "            queries[i] += queries[i-1]\n",
    "            cur_sum += queries[i]\n",
    "        return cur_sum\n",
    "    \n",
    "def main():\n",
    "    queries = [2, 5, 3, 1]\n",
    "    sol = Solution()\n",
    "    print(sol.minimum_waiting_time(queries))\n",
    "    \n",
    "if __name__ == \"__main__\":\n",
    "    main()"
   ]
  },
  {
   "cell_type": "markdown",
   "metadata": {},
   "source": [
    "# The interval covering problem\n",
    "\n",
    "You are given a set of closed intervals. Design an efficient algorithm for finding a minimum sized set of numbers that covers all the intervals.\n",
    "\n",
    "### Complexity\n",
    "\n",
    "Time Complexity: $\\mathcal{O}(n \\log n)$.\n",
    "\n",
    "Space Complexity: $\\mathcal{O}(1)$."
   ]
  },
  {
   "cell_type": "code",
   "execution_count": 3,
   "metadata": {},
   "outputs": [
    {
     "name": "stdout",
     "output_type": "stream",
     "text": [
      "2\n"
     ]
    }
   ],
   "source": [
    "class Solution:\n",
    "    def minimum_visits(self, intervals):\n",
    "        intervals.sort(key=lambda item:item[1])\n",
    "        last_visit_time, num_visits = float('-inf'), 0\n",
    "        for interval in intervals:\n",
    "            if interval[0] > last_visit_time:\n",
    "                last_visit_time = interval[1]\n",
    "                num_visits += 1\n",
    "        return num_visits\n",
    "    \n",
    "def main():\n",
    "    intervals = [[1,2], [2,3], [3,4], [2,3], [3,4], [4,5]]\n",
    "    sol = Solution()\n",
    "    print(sol.minimum_visits(intervals))\n",
    "    \n",
    "if __name__ == \"__main__\":\n",
    "    main()"
   ]
  },
  {
   "cell_type": "markdown",
   "metadata": {},
   "source": [
    "# The $3$-sum problem\n",
    "\n",
    "Design an algorithm that takes as input an array and a number, and determines if there are three entries in the array (not necessarily distinct) which add up to the specified number.\n",
    "\n",
    "### Complexity\n",
    "\n",
    "Time Complexity: $\\mathcal{O}(n \\log n)$.\n",
    "\n",
    "Space Complexity: $\\mathcal{O}(1)$."
   ]
  },
  {
   "cell_type": "code",
   "execution_count": 4,
   "metadata": {},
   "outputs": [
    {
     "name": "stdout",
     "output_type": "stream",
     "text": [
      "True\n"
     ]
    }
   ],
   "source": [
    "class Solution:\n",
    "    def three_sum(self, nums, target):\n",
    "        nums.sort()\n",
    "        n = len(nums)\n",
    "        for i in range(n-2):\n",
    "            if nums[i] > target:\n",
    "                return False\n",
    "            l, r = i + 1, n - 1\n",
    "            while l < r:\n",
    "                total = nums[i] + nums[l] + nums[r]\n",
    "                if total == target:\n",
    "                    return True\n",
    "                elif total > target:\n",
    "                    r -= 1\n",
    "                else:\n",
    "                    l += 1\n",
    "        return False\n",
    "    \n",
    "def main():\n",
    "    nums, target = [10, 5, 29, 1, -5, -10, 8, 23, 12, 8], 53\n",
    "    sol = Solution()\n",
    "    print(sol.three_sum(nums, target))\n",
    "    \n",
    "if __name__ == \"__main__\":\n",
    "    main()"
   ]
  },
  {
   "cell_type": "markdown",
   "metadata": {},
   "source": [
    "# Find the majority element\n",
    "\n",
    "Write a program that makes a single pass over the sequence and identifies the majority element.\n",
    "\n",
    "### Complexity\n",
    "\n",
    "Time Complexity: $\\mathcal{O}(n)$.\n",
    "\n",
    "Space Complexity: $\\mathcal{O}(1)$."
   ]
  },
  {
   "cell_type": "code",
   "execution_count": 5,
   "metadata": {},
   "outputs": [
    {
     "name": "stdout",
     "output_type": "stream",
     "text": [
      "2\n"
     ]
    }
   ],
   "source": [
    "class Solution:\n",
    "    def find_majority_element(self, nums):\n",
    "        candidate, count = None, 0\n",
    "        for num in nums:\n",
    "            if count == 0:\n",
    "                candidate = num\n",
    "                count += 1\n",
    "            elif candidate == num:\n",
    "                count += 1\n",
    "            else:\n",
    "                count -= 1\n",
    "        return candidate\n",
    "    \n",
    "def main():\n",
    "    nums = [1,1,1,1,2,2,2,2,2,2,3,3,2,3,4,1,1,5,1,6,1,6,2,2,2,1]\n",
    "    sol = Solution()\n",
    "    print(sol.find_majority_element(nums))\n",
    "    \n",
    "if __name__ == \"__main__\":\n",
    "    main()"
   ]
  },
  {
   "cell_type": "markdown",
   "metadata": {},
   "source": [
    "# The gasup problem\n",
    "\n",
    "Given an instance of the gasup problem, how would you efficiently compute an ample city? You can assume that there exists an ample city.\n",
    "\n",
    "### Complexity\n",
    "\n",
    "Time Complexity: $\\mathcal{O}(n)$.\n",
    "\n",
    "Space Complexity: $\\mathcal{O}(1)$."
   ]
  },
  {
   "cell_type": "code",
   "execution_count": 6,
   "metadata": {},
   "outputs": [
    {
     "name": "stdout",
     "output_type": "stream",
     "text": [
      "3\n"
     ]
    }
   ],
   "source": [
    "import collections\n",
    "class Solution:\n",
    "    def gasup_problem(self, gallons, distances):\n",
    "        mpg = 20\n",
    "        remaining_gallons = 0\n",
    "        CityAndRemainingGas = collections.namedtuple('CityAndRemainingGas',\n",
    "                                                     ('city', 'remaining_gallons'))\n",
    "        city_remaining_gallons_pair = CityAndRemainingGas(0, 0)\n",
    "        num_cities = len(gallons)\n",
    "        for i in range(1, num_cities):\n",
    "            remaining_gallons += gallons[i-1] - distances[i-1] // mpg\n",
    "            if remaining_gallons < city_remaining_gallons_pair.remaining_gallons:\n",
    "                city_remaining_gallons_pair = CityAndRemainingGas(i, remaining_gallons)\n",
    "        return city_remaining_gallons_pair.city\n",
    "        \n",
    "def main():\n",
    "    gallons = [50, 20, 5, 30, 25, 10, 10]\n",
    "    distances = [900, 600, 200, 400, 600, 200, 100]\n",
    "    sol = Solution()\n",
    "    print(sol.gasup_problem(gallons, distances))\n",
    "    \n",
    "if __name__ == \"__main__\":\n",
    "    main()"
   ]
  },
  {
   "cell_type": "markdown",
   "metadata": {},
   "source": [
    "# Compute the maximum water trapped by a pair of vertical lines\n",
    "\n",
    "Write a program which takes as input an integer array and returns the pair of entries that trap the maximum amount of water.\n",
    "\n",
    "### Complexity\n",
    "\n",
    "Time Complexity: $\\mathcal{O}(n)$.\n",
    "\n",
    "Space Complexity: $\\mathcal{O}(1)$."
   ]
  },
  {
   "cell_type": "code",
   "execution_count": 7,
   "metadata": {},
   "outputs": [
    {
     "name": "stdout",
     "output_type": "stream",
     "text": [
      "48\n"
     ]
    }
   ],
   "source": [
    "class Solution:\n",
    "    def trapping_water(self, heights):\n",
    "        l, r, max_water = 0, len(heights)-1, 0\n",
    "        while l < r:\n",
    "            max_water = max(max_water, min(heights[l], heights[r]) * (r - l))\n",
    "            if heights[l] > heights[r]:\n",
    "                r -= 1\n",
    "            else:\n",
    "                l += 1\n",
    "        return max_water\n",
    "        \n",
    "def main():\n",
    "    heights = [1,2,1,3,4,4,5,6,2,1,3,1,3,2,1,2,4,1]\n",
    "    sol = Solution()\n",
    "    print(sol.trapping_water(heights))\n",
    "    \n",
    "if __name__ == \"__main__\":\n",
    "    main()"
   ]
  },
  {
   "cell_type": "markdown",
   "metadata": {},
   "source": [
    "# Compute the largest rectangle under the skyline\n",
    "\n",
    "Let A be an array representing the heights of adjacent buildings of unit width. Design an algorithm to compute the area of the largest rectangle contained in this skyline.\n",
    "\n",
    "### Complexity\n",
    "\n",
    "Time Complexity: $\\mathcal{O}(n)$.\n",
    "\n",
    "Space Complexity: $\\mathcal{O}(n)$."
   ]
  },
  {
   "cell_type": "code",
   "execution_count": 8,
   "metadata": {},
   "outputs": [
    {
     "name": "stdout",
     "output_type": "stream",
     "text": [
      "20\n"
     ]
    }
   ],
   "source": [
    "class Solution:\n",
    "    def calculate_largest_rectangle(self, heights):\n",
    "        pillar_indices, max_rect_area = [], 0\n",
    "        for i, h in enumerate(heights + [0]):\n",
    "            while pillar_indices and heights[pillar_indices[-1]] >= h:\n",
    "                height = heights[pillar_indices.pop()]\n",
    "                width = i if not pillar_indices else i - pillar_indices[-1] - 1\n",
    "                max_rect_area = max(max_rect_area, height * width)\n",
    "            pillar_indices.append(i)\n",
    "        return max_rect_area\n",
    "        \n",
    "def main():\n",
    "    heights = [1,4,2,5,6,3,2,6,6,5,2,1,3]\n",
    "    sol = Solution()\n",
    "    print(sol.calculate_largest_rectangle(heights))\n",
    "    \n",
    "if __name__ == \"__main__\":\n",
    "    main()"
   ]
  }
 ],
 "metadata": {
  "kernelspec": {
   "display_name": "Python 3",
   "language": "python",
   "name": "python3"
  },
  "language_info": {
   "codemirror_mode": {
    "name": "ipython",
    "version": 3
   },
   "file_extension": ".py",
   "mimetype": "text/x-python",
   "name": "python",
   "nbconvert_exporter": "python",
   "pygments_lexer": "ipython3",
   "version": "3.7.3"
  }
 },
 "nbformat": 4,
 "nbformat_minor": 2
}
