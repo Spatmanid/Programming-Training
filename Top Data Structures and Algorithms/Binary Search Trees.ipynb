{
 "cells": [
  {
   "cell_type": "markdown",
   "metadata": {},
   "source": [
    "# Test if a binary tree is height-balanced\n",
    "\n",
    "Write a program that takes as input a binary tree and checks if the tree satisfies the BST property.\n",
    "\n",
    "### Complexity\n",
    "\n",
    "Time Complexity: $\\mathcal{O}(n)$.\n",
    "\n",
    "Space Complexity: $\\mathcal{O}(h)$."
   ]
  },
  {
   "cell_type": "code",
   "execution_count": 1,
   "metadata": {},
   "outputs": [],
   "source": [
    "class Node:\n",
    "    def __init__(self, val=0, left=None, right=None):\n",
    "        self.val = val\n",
    "        self.left = left\n",
    "        self.right = right\n",
    "\n",
    "from collections import deque\n",
    "class Solution:\n",
    "    def is_binary_tree_bst(self, node, low=float('-inf'), high=float('inf')):\n",
    "        if not node:\n",
    "            return True\n",
    "        elif not low <= node.val <= high:\n",
    "            return False\n",
    "        return (self.is_binary_tree_bst(node.left, low, node.val) and\n",
    "                self.is_binary_tree_bst(node.right, node.val, high))\n",
    "    \n",
    "    def is_binary_tree_bst_bfs(self, root):\n",
    "        queue = deque([(root, float('-inf'), float('inf'))])\n",
    "        while queue:\n",
    "            node, low, high = queue.popleft()\n",
    "            if node:\n",
    "                if not low <= node.val <= high:\n",
    "                    return False\n",
    "                else:\n",
    "                    queue.append((node.left, low, node.val))\n",
    "                    queue.append((node.right, node.val, high))\n",
    "        return True"
   ]
  },
  {
   "cell_type": "markdown",
   "metadata": {},
   "source": [
    "# Find the first key greater than a given value in a BST\n",
    "\n",
    "Write a program that takes as input a BST and a value, and returns the first key that would appear in an inorder traversal which is greater than the input value.\n",
    "\n",
    "### Complexity\n",
    "\n",
    "Time Complexity: $\\mathcal{O}(h)$.\n",
    "\n",
    "Space Complexity: $\\mathcal{O}(1)$."
   ]
  },
  {
   "cell_type": "code",
   "execution_count": 2,
   "metadata": {},
   "outputs": [],
   "source": [
    "class Node:\n",
    "    def __init__(self, val=0, left=None, right=None):\n",
    "        self.val = val\n",
    "        self.left = left\n",
    "        self.right = right\n",
    "        \n",
    "class Solution:\n",
    "    def find_first_key_greater_than_k(self, root, k):\n",
    "        node, first_so_far  = root, None\n",
    "        while node:\n",
    "            if node.val > k:\n",
    "                first_so_far, node = node.val, node.left\n",
    "            else:\n",
    "                node = node.right\n",
    "        return first_so_far"
   ]
  },
  {
   "cell_type": "markdown",
   "metadata": {},
   "source": [
    "# Find the $k$ largest elements in a BST\n",
    "\n",
    "Write a program that takes as input a BST and an integer k, and returns the $k$ largest elements in the BST in decreasing order.\n",
    "\n",
    "### Complexity\n",
    "\n",
    "Time Complexity: $\\mathcal{O}(h + k)$.\n",
    "\n",
    "Space Complexity: $\\mathcal{O}(k)$."
   ]
  },
  {
   "cell_type": "code",
   "execution_count": 3,
   "metadata": {},
   "outputs": [],
   "source": [
    "class Node:\n",
    "    def __init__(self, val=0, left=None, right=None):\n",
    "        self.val = val\n",
    "        self.left = left\n",
    "        self.right = right\n",
    "        \n",
    "class Solution:\n",
    "    def find_k_largest_elements(self, root, k):\n",
    "        def dfs(node):\n",
    "            if node and len(k_largest) < k:\n",
    "                dfs(node.right)\n",
    "                if len(k_largest) < k:\n",
    "                    k_largest.append(node.val)\n",
    "                    dfs(node.left)\n",
    "                    \n",
    "        k_largest = []\n",
    "        dfs(root)\n",
    "        return k_largest"
   ]
  },
  {
   "cell_type": "markdown",
   "metadata": {},
   "source": [
    "# Compute the LCA in a BST\n",
    "\n",
    "Design an algorithm that takes as input a BST and two nodes, and returns the LCA of the two nodes.\n",
    "\n",
    "### Complexity\n",
    "\n",
    "Time Complexity: $\\mathcal{O}(h)$.\n",
    "\n",
    "Space Complexity: $\\mathcal{O}(1)$."
   ]
  },
  {
   "cell_type": "code",
   "execution_count": 4,
   "metadata": {},
   "outputs": [],
   "source": [
    "class Node:\n",
    "    def __init__(self, val=0, left=None, right=None):\n",
    "        self.val = val\n",
    "        self.left = left\n",
    "        self.right = right\n",
    "        \n",
    "class Solution:\n",
    "    def find_LCA_bst(self, root, p, q):\n",
    "        while root:\n",
    "            if root.val > p.val and root.val > q.val:\n",
    "                root = root.left\n",
    "            elif root.val < p.val and root.val < q.val:\n",
    "                root = root.right\n",
    "            else:\n",
    "                return root"
   ]
  },
  {
   "cell_type": "markdown",
   "metadata": {},
   "source": [
    "# Reconstruct a BST from traversal data\n",
    "\n",
    "Write a program that reconstructs a BST from traversal data. The sequence of keys generated by an inorder traversal is not enough to reconstruct the tree. However, if a preorder traversal is given, we can reconstruct the BST.\n",
    "\n",
    "### Complexity\n",
    "\n",
    "Time Complexity: $\\mathcal{O}(n)$.\n",
    "\n",
    "Space Complexity: $\\mathcal{O}(n)$."
   ]
  },
  {
   "cell_type": "code",
   "execution_count": 5,
   "metadata": {},
   "outputs": [],
   "source": [
    "class Node:\n",
    "    def __init__(self, val=0, left=None, right=None):\n",
    "        self.val = val\n",
    "        self.left = left\n",
    "        self.right = right\n",
    "\n",
    "class Solution:\n",
    "    def rebuild_bst_from_preorder(self, preorder_sequence):\n",
    "        if not preorder_sequence:\n",
    "            return None\n",
    "        \n",
    "        l, r = 1, len(preorder_sequence) - 1\n",
    "        transition_point = len(preorder_sequence)\n",
    "        while l <= r:\n",
    "            m = l + (r - l) // 2\n",
    "            if preorder_sequence[m] > preorder_sequence[0]:\n",
    "                transition_point = m\n",
    "                r = m - 1\n",
    "            else:\n",
    "                l = m + 1\n",
    "        return Node(preorder_sequence[0], \n",
    "                    self.rebuild_bst_from_preorder(preorder_sequence[1:transition_point]),\n",
    "                    self.rebuild_bst_from_preorder(preorder_sequence[transition_point:]))"
   ]
  },
  {
   "cell_type": "markdown",
   "metadata": {},
   "source": [
    "# Find the closest entries in three sorted arrays\n",
    "\n",
    "Design an algorithm that takes three sorted arrays and returns one entry from each such that the minimum interval containing these three entries is as small as possible.\n",
    "\n",
    "### Complexity\n",
    "\n",
    "Time Complexity: $\\mathcal{O}(n \\log k)$.\n",
    "\n",
    "Space Complexity: $\\mathcal{O}(k)$."
   ]
  },
  {
   "cell_type": "code",
   "execution_count": 6,
   "metadata": {},
   "outputs": [
    {
     "name": "stdout",
     "output_type": "stream",
     "text": [
      "[15, 15, 16]\n"
     ]
    }
   ],
   "source": [
    "import heapq\n",
    "class Solution:\n",
    "    def find_closest_entries(self, nums):\n",
    "        h, res, cur = [], [], []\n",
    "        \n",
    "        for i in range(3):\n",
    "            tmp = nums[i].pop()\n",
    "            cur.append(tmp)\n",
    "            heapq.heappush(h, (-tmp, i))\n",
    "        min_diff = (max(cur) - min(cur))\n",
    "        res = cur\n",
    "            \n",
    "        while True:\n",
    "            m, j = heapq.heappop(h)\n",
    "            if not nums[j]:\n",
    "                break\n",
    "            tmp = nums[j].pop()\n",
    "            heapq.heappush(h, (-tmp, j))\n",
    "            cur[j] = tmp\n",
    "            if min_diff > max(cur) - min(cur):\n",
    "                min_diff = max(cur) - min(cur)\n",
    "                res = [c for c in cur]\n",
    "\n",
    "        return res\n",
    "    \n",
    "def main():\n",
    "    nums = [[5,10,15], [3,6,9,12,15], [8,16,24]]\n",
    "    sol = Solution()\n",
    "    res = sol.find_closest_entries(nums)\n",
    "    print(res)\n",
    "    \n",
    "if __name__ == \"__main__\":\n",
    "    main()"
   ]
  },
  {
   "cell_type": "markdown",
   "metadata": {},
   "source": [
    "# Build a minimum height BST from a sorted array\n",
    "\n",
    "Given a sorted array, builda BST in order to minimize the height of the tree.\n",
    "\n",
    "### Complexity\n",
    "\n",
    "Time Complexity: $\\mathcal{O}(n)$.\n",
    "\n",
    "Space Complexity: $\\mathcal{O}(n)$."
   ]
  },
  {
   "cell_type": "code",
   "execution_count": 7,
   "metadata": {},
   "outputs": [],
   "source": [
    "class Node:\n",
    "    def __init__(self, val=0, left=None, right=None):\n",
    "        self.val = val\n",
    "        self.left = left\n",
    "        self.right = right\n",
    "\n",
    "class Solution:\n",
    "    def build_minimum_bst_from_sorted_array(self, nums):\n",
    "        def build_tree_helper(start, end):\n",
    "            if start >= end:\n",
    "                return None\n",
    "            mid = start + (end - start) // 2\n",
    "            return Node(nums[mid], \n",
    "                        self.build_tree_helper(start, mid), \n",
    "                        self.build_tree_helper(mid+1, end))\n",
    "        return build_tree_helper(0, len(nums))"
   ]
  },
  {
   "cell_type": "markdown",
   "metadata": {},
   "source": [
    "# Test if three BST nodes are totally ordered\n",
    "\n",
    "Write a program which takes two nodes in a BST and a third node, the \"middle\" node, and determines if one of the two nodes is a proper ancestor and the other a proper descendant of the middle.\n",
    "\n",
    "### Complexity\n",
    "\n",
    "Time Complexity: $\\mathcal{O}(h)$.\n",
    "\n",
    "Space Complexity: $\\mathcal{O}(h)$."
   ]
  },
  {
   "cell_type": "code",
   "execution_count": 8,
   "metadata": {},
   "outputs": [],
   "source": [
    "class Node:\n",
    "    def __init__(self, val=0, left=None, right=None):\n",
    "        self.val = val\n",
    "        self.left = left\n",
    "        self.right = right\n",
    "\n",
    "class Solution:\n",
    "    def pair_includes_ancestor_and_descendant_of_m(self, node_1, node_2, middle):\n",
    "        search_1, search_2 = node_1, node_2\n",
    "        while (search_1 is not node_2 and search_1 is not middle and \n",
    "               search_2 is not node_1 and search_2 is not middle and \n",
    "               (search_0 or search_1)):\n",
    "            if search_1:\n",
    "                search_1 = search_1.left if search_1.val > middle.val else search_1.right\n",
    "            if search_2:\n",
    "                search_2 = search_2.left if search_2.val > middle.val else search_2.right\n",
    "                \n",
    "        if ((search_1 is not middle and search_2 is not middle) or \n",
    "            search_1 is node_2 or search_2 is node_1):\n",
    "            return False\n",
    "        \n",
    "        def search_target(source, target):\n",
    "            while source and source is not target:\n",
    "                source = source.left if source.val > target.val else source.right\n",
    "            return source is target\n",
    "        \n",
    "        return search_target(middle, node_1 if search_1 is middle else node_2)"
   ]
  },
  {
   "cell_type": "markdown",
   "metadata": {},
   "source": [
    "# The range lookup problem\n",
    "\n",
    "Write a program that takes as input a BST and an interval and returns the BST keys that lie in the interval.\n",
    "\n",
    "### Complexity\n",
    "\n",
    "Time Complexity: $\\mathcal{O}(m + h)$.\n",
    "\n",
    "Space Complexity: $\\mathcal{O}(h)$."
   ]
  },
  {
   "cell_type": "code",
   "execution_count": 9,
   "metadata": {},
   "outputs": [],
   "source": [
    "class Node:\n",
    "    def __init__(self, val=0, left=None, right=None):\n",
    "        self.val = val\n",
    "        self.left = left\n",
    "        self.right = right\n",
    "\n",
    "class Solution:\n",
    "    def range_lookup_in_bst(root, interval):\n",
    "        def range_lookup_in_bst_helper(node):\n",
    "            if not node:\n",
    "                 return\n",
    "            \n",
    "            if interval[0] < node.val < interval.right:\n",
    "                range_lookup_in_bst_helper(node.left)\n",
    "                result.append(node.val)\n",
    "                range_lookup_in_bst_helper(node.right)\n",
    "            elif interval[0] > nove.val:\n",
    "                range_lookup_in_bst_helper(node.right)\n",
    "            else:\n",
    "                range_lookup_in_bst_helper(node.left)\n",
    "                \n",
    "        result = []\n",
    "        range_lookup_in_bst_helper(root)\n",
    "        return result"
   ]
  }
 ],
 "metadata": {
  "kernelspec": {
   "display_name": "Python 3",
   "language": "python",
   "name": "python3"
  },
  "language_info": {
   "codemirror_mode": {
    "name": "ipython",
    "version": 3
   },
   "file_extension": ".py",
   "mimetype": "text/x-python",
   "name": "python",
   "nbconvert_exporter": "python",
   "pygments_lexer": "ipython3",
   "version": "3.7.3"
  }
 },
 "nbformat": 4,
 "nbformat_minor": 2
}
