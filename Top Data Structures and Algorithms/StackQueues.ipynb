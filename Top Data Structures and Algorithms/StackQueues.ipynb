{
 "cells": [
  {
   "cell_type": "markdown",
   "metadata": {},
   "source": [
    "# Implement a stack with max API\n",
    "\n",
    "Design a stack that includes a max operation, in addition to push and pop. The max method should return the maximum value stored in the stack.\n",
    "\n",
    "### Complexity\n",
    "\n",
    "Time Complexity: $\\mathcal{O}(1)$.\n",
    "\n",
    "Space Complexity: $\\mathcal{O}(n)$."
   ]
  },
  {
   "cell_type": "code",
   "execution_count": 43,
   "metadata": {},
   "outputs": [
    {
     "name": "stdout",
     "output_type": "stream",
     "text": [
      "[2, 2, 1, 4, 5, 5, 3] [2, 2, 4, 5, 5]\n",
      "5\n",
      "[2, 2, 1] [2, 2]\n",
      "2\n"
     ]
    }
   ],
   "source": [
    "class Solution:\n",
    "    def __init__(self):\n",
    "        self.stack = []\n",
    "        self.maxStack = []\n",
    "        \n",
    "    def push(self, x):\n",
    "        if not self.maxStack:\n",
    "            self.maxStack.append(x)\n",
    "        elif x >= self.maxStack[-1]:\n",
    "            self.maxStack.append(x)\n",
    "        self.stack.append(x)\n",
    "        \n",
    "    def pop(self):\n",
    "        if self.stack:\n",
    "            if self.stack[-1] == self.maxStack[-1]:\n",
    "                self.maxStack.pop()\n",
    "            return self.stack.pop()\n",
    "        else:\n",
    "            raise KeyError(\"pop from empty stack\")\n",
    "            \n",
    "    def stackMax(self):\n",
    "        return self.maxStack[-1] if self.maxStack else None\n",
    "    \n",
    "def main():\n",
    "    sol = Solution()\n",
    "    sol.push(2)\n",
    "    sol.push(2)\n",
    "    sol.push(1)\n",
    "    sol.push(4)\n",
    "    sol.push(5)\n",
    "    sol.push(5)\n",
    "    sol.push(3)\n",
    "    print(sol.stack, sol.maxStack)\n",
    "    print(sol.stackMax())\n",
    "    sol.pop()\n",
    "    sol.pop()\n",
    "    sol.pop()\n",
    "    sol.pop()\n",
    "    print(sol.stack, sol.maxStack)\n",
    "    print(sol.stackMax())\n",
    "\n",
    "    \n",
    "    \n",
    "if __name__ == \"__main__\":\n",
    "    main()"
   ]
  },
  {
   "cell_type": "markdown",
   "metadata": {},
   "source": [
    "# Evaluate RPN expressions\n",
    "\n",
    "Write a program that takes an arithmetical expression in RPN (Reverse Polish Notation) and return the number that the expression evaluates to.\n",
    "\n",
    "\n",
    "### Complexity\n",
    "\n",
    "Time Complexity: $\\mathcal{O}(n)$.\n",
    "\n",
    "Space Complexity: $\\mathcal{O}(n)$."
   ]
  },
  {
   "cell_type": "code",
   "execution_count": 63,
   "metadata": {},
   "outputs": [
    {
     "name": "stdout",
     "output_type": "stream",
     "text": [
      "27\n",
      "27\n"
     ]
    }
   ],
   "source": [
    "class Solution:\n",
    "    # Reverse Polish Notation: \"A, B, o\"\n",
    "    def evalRPN(self, tokens):\n",
    "        stack = []\n",
    "        operators = {'+' : lambda y, x: x + y,\n",
    "                     '-' : lambda y, x: x - y,\n",
    "                     '*' : lambda y, x: x * y,\n",
    "                     '/' : lambda y, x: int(x / y)}\n",
    "        \n",
    "        for token in tokens:\n",
    "            if token in operators:\n",
    "                stack.append(operators[token](stack.pop(), stack.pop() ))\n",
    "            else:\n",
    "                stack.append(int(token))\n",
    "        return stack[-1]\n",
    "    \n",
    "    # Variant Polish Notation: \"o, A, B\"\n",
    "    def evalPN(self, tokens):\n",
    "        stack = []\n",
    "        operators = {'+' : lambda y, x: x + y,\n",
    "                     '-' : lambda y, x: x - y,\n",
    "                     '*' : lambda y, x: x * y,\n",
    "                     '/' : lambda y, x: int(x / y)}\n",
    "        \n",
    "        for token in tokens[::-1]:\n",
    "            if token in operators:\n",
    "                stack.append(operators[token](stack.pop(), stack.pop() ))\n",
    "            else:\n",
    "                stack.append(int(token))\n",
    "        return stack[-1]\n",
    "    \n",
    "def main():\n",
    "    sol = Solution()\n",
    "    tokens = [\"10\", \"6\", \"9\", \"3\", \"+\", \"-11\", \"*\", \"/\", \"*\", \"17\", \"+\", \"5\", \"+\", \"5\", \"+\"]\n",
    "    res = sol.evalRPN(tokens)\n",
    "    print(res) \n",
    "    tokens.reverse()\n",
    "    res = sol.evalPN(tokens)\n",
    "    print(res) \n",
    "    \n",
    "if __name__ == \"__main__\":\n",
    "    main()"
   ]
  },
  {
   "cell_type": "markdown",
   "metadata": {},
   "source": [
    "# Test a string over for well-formedness\n",
    "\n",
    "Write a program that tests if a string made up of the characters \"$~(,~),~[,~],~\\{,~\\}~$\" is well-formed.\n",
    "\n",
    "### Complexity\n",
    "\n",
    "Time Complexity: $\\mathcal{O}(n)$.\n",
    "\n",
    "Space Complexity: $\\mathcal{O}(n)$."
   ]
  },
  {
   "cell_type": "code",
   "execution_count": 64,
   "metadata": {},
   "outputs": [
    {
     "name": "stdout",
     "output_type": "stream",
     "text": [
      "True\n"
     ]
    }
   ],
   "source": [
    "class Solution:\n",
    "    def is_well_formed(self, s):\n",
    "        match = { '(':')', '[':']', '{':'}' }\n",
    "        stack = []\n",
    "        \n",
    "        for c in s:\n",
    "            if c in match:\n",
    "                stack.append(c)\n",
    "            elif not stack or c not in match.values() or match[stack.pop()] != c:\n",
    "                return False\n",
    "        return not stack\n",
    "    \n",
    "def main():\n",
    "    sol = Solution()\n",
    "    s = '(([]))[{()}]'\n",
    "    res = sol.is_well_formed(s)\n",
    "    print(res) \n",
    "    \n",
    "if __name__ == \"__main__\":\n",
    "    main()"
   ]
  },
  {
   "cell_type": "markdown",
   "metadata": {},
   "source": [
    "# Normalize pathnames\n",
    "\n",
    "Write a program which takes a pathname, and returns the shortes equivalent pathname. Assume individual directories and files have names that use only alphanumeric characters. Subdirectory names may be combined using forward slashes (/) the current directory (.), and parent directories (..).\n",
    "\n",
    "### Complexity\n",
    "\n",
    "Time Complexity: $\\mathcal{O}(n)$.\n",
    "\n",
    "Space Complexity: $\\mathcal{O}(n)$."
   ]
  },
  {
   "cell_type": "code",
   "execution_count": 75,
   "metadata": {},
   "outputs": [
    {
     "name": "stdout",
     "output_type": "stream",
     "text": [
      "['sc', '..', 'ab', '..', '..', 'tc', 'awk']\n",
      "../tc/awk\n"
     ]
    }
   ],
   "source": [
    "class Solution:\n",
    "    def shortes_equivalent_pathname(self, path):\n",
    "        if not path:\n",
    "            raise ValueError('Empty string is not a valid path.')\n",
    "        \n",
    "        path_names = []\n",
    "        if path[0] == '/':\n",
    "            path_names.append('/')\n",
    "            \n",
    "        tokens = [token for token in path.split('/') if token not in ['.', '']]\n",
    "        print(tokens)\n",
    "            \n",
    "        for token in tokens:\n",
    "            if token == '..':\n",
    "                if not path_names or path_names[-1] == '..':\n",
    "                    path_names.append(token)\n",
    "                else:\n",
    "                    if path_names[-1] == '/':\n",
    "                        raise ValueError('Path Error')\n",
    "                    path_names.pop()\n",
    "            else:\n",
    "                path_names.append(token)\n",
    "                \n",
    "        result = '/'.join(path_names)\n",
    "        return result[result.startswith('//'):]\n",
    "    \n",
    "    \n",
    "def main():\n",
    "    sol = Solution()\n",
    "    path = 'sc//..//ab//../../tc/awk/./.'\n",
    "    res = sol.shortes_equivalent_pathname(path)\n",
    "    print(res) \n",
    "    \n",
    "if __name__ == \"__main__\":\n",
    "    main()"
   ]
  },
  {
   "cell_type": "markdown",
   "metadata": {},
   "source": [
    "# Compute buildings with a sunset view\n",
    "\n",
    "Design an algorithm that processes buildings in east-to-west order and returns the set of buildings which view the sunset. Each building is specified by its height.\n",
    "\n",
    "### Complexity\n",
    "\n",
    "Time Complexity: $\\mathcal{O}(n)$.\n",
    "\n",
    "Space Complexity: $\\mathcal{O}(n)$."
   ]
  },
  {
   "cell_type": "code",
   "execution_count": 77,
   "metadata": {},
   "outputs": [
    {
     "name": "stdout",
     "output_type": "stream",
     "text": [
      "[2, 5, 6, 7]\n"
     ]
    }
   ],
   "source": [
    "class Solution:\n",
    "    def examine_buildings_with_sunset_view(self, sequence):\n",
    "        if not sequence: return []\n",
    "        \n",
    "        stack = []\n",
    "        for i, h in enumerate(sequence):\n",
    "            while stack and h >= stack[-1][0]:\n",
    "                stack.pop()\n",
    "            stack.append([h,i])\n",
    "        \n",
    "        return [i for _, i in stack]            \n",
    "    \n",
    "    \n",
    "def main():\n",
    "    sol = Solution()\n",
    "    sequence = [1, 3, 5, 2, 1, 3, 2, 1]\n",
    "    res = sol.examine_buildings_with_sunset_view(sequence)\n",
    "    print(res) \n",
    "    \n",
    "if __name__ == \"__main__\":\n",
    "    main()"
   ]
  },
  {
   "cell_type": "markdown",
   "metadata": {},
   "source": [
    "# Compute binary tree nodes in order of increasing depth\n",
    "\n",
    "Given a binary tree, return an array consisting of the keys at the same level. Keys should appear in the order of the corresponding nodes' depths, breakin ties from left to right.\n",
    "\n",
    "### Complexity\n",
    "\n",
    "Time Complexity: $\\mathcal{O}(n)$.\n",
    "\n",
    "Space Complexity: $\\mathcal{O}(n)$."
   ]
  },
  {
   "cell_type": "code",
   "execution_count": 81,
   "metadata": {},
   "outputs": [
    {
     "name": "stdout",
     "output_type": "stream",
     "text": [
      "[[314], [6, 6], [271, 561, 2, 271], [28, 0, 3, 1, 28], [17, 401, 257], [641]]\n"
     ]
    }
   ],
   "source": [
    "from collections import deque\n",
    "class Node:\n",
    "    def __init__(self, val=0, left=None, right=None):\n",
    "        self.val = val\n",
    "        self.left = left\n",
    "        self.right = right\n",
    "\n",
    "class Solution:\n",
    "    def binary_tree_depth_order(self, root):\n",
    "        result = []\n",
    "        if not root:\n",
    "            return result\n",
    "        \n",
    "        q = deque()\n",
    "        q.append(root)\n",
    "        while q:\n",
    "            result.append([node.val for node in q])\n",
    "            q = [child for node in q for child in (node.left, node.right) if child]\n",
    "        return result\n",
    "    \n",
    "def main():\n",
    "    sol = Solution()\n",
    "    \n",
    "    root = Node(314)\n",
    "    root.left = Node(6)\n",
    "    root.right = Node(6)\n",
    "    root.left.left = Node(271)\n",
    "    root.left.right = Node(561)\n",
    "    root.right.left = Node(2)\n",
    "    root.right.right = Node(271)\n",
    "    root.left.left.left = Node(28)\n",
    "    root.left.left.right = Node(0)\n",
    "    root.left.right.right = Node(3)\n",
    "    root.right.left.right = Node(1)\n",
    "    root.right.right.right = Node(28)\n",
    "    root.left.right.right.left = Node(17)\n",
    "    root.right.left.right.left = Node(401)\n",
    "    root.right.left.right.right = Node(257)\n",
    "    root.right.left.right.left.right = Node(641)\n",
    "    \n",
    "    res = sol.binary_tree_depth_order(root)\n",
    "    print(res) \n",
    "    \n",
    "if __name__ == \"__main__\":\n",
    "    main()"
   ]
  }
 ],
 "metadata": {
  "kernelspec": {
   "display_name": "Python 3",
   "language": "python",
   "name": "python3"
  },
  "language_info": {
   "codemirror_mode": {
    "name": "ipython",
    "version": 3
   },
   "file_extension": ".py",
   "mimetype": "text/x-python",
   "name": "python",
   "nbconvert_exporter": "python",
   "pygments_lexer": "ipython3",
   "version": "3.7.3"
  }
 },
 "nbformat": 4,
 "nbformat_minor": 2
}
