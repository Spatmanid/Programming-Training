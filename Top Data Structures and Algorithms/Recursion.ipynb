{
 "cells": [
  {
   "cell_type": "markdown",
   "metadata": {},
   "source": [
    "# The Towers of Hanoi\n",
    "\n",
    "Write a program which prints a sequence of operations that transfers $n$ rings from one peg to another. You have a third peg, which is initially empty. The only operation you can perform is taking a single ring from the top of one peg and placing it on the top of another peg. You must never place a larger ring above a smaller ring.\n",
    "\n",
    "### Complexity\n",
    "\n",
    "Time Complexity: $\\mathcal{O}(2^n)$.\n",
    "\n",
    "Space Complexity: $\\mathcal{O}(2^n)$."
   ]
  },
  {
   "cell_type": "code",
   "execution_count": 8,
   "metadata": {},
   "outputs": [
    {
     "name": "stdout",
     "output_type": "stream",
     "text": [
      "[[0, 2], [0, 1], [2, 1], [0, 2], [1, 0], [1, 2], [0, 2], [0, 1], [2, 1], [2, 0], [1, 0], [2, 1], [0, 2], [0, 1], [2, 1]]\n"
     ]
    }
   ],
   "source": [
    "class Solution:\n",
    "    def tower_hanoi(self, num_rings):\n",
    "        def tower_hanoi_steps(num_rings_to_move, from_peg, to_peg, use_peg):\n",
    "            if num_rings_to_move > 0:\n",
    "                tower_hanoi_steps(num_rings_to_move - 1, from_peg, use_peg, to_peg)\n",
    "                pegs[to_peg].append(pegs[from_peg].pop())\n",
    "                result.append([from_peg, to_peg])\n",
    "                tower_hanoi_steps(num_rings_to_move - 1, use_peg, to_peg, from_peg)\n",
    "        \n",
    "        result = []\n",
    "        pegs = [list(reversed(range(1, num_rings+1)))] + [[] for _ in range(2)]\n",
    "        tower_hanoi_steps(num_rings, 0, 1, 2)\n",
    "        return result\n",
    "    \n",
    "def main():\n",
    "    rings = 4\n",
    "    sol = Solution()\n",
    "    res = sol.tower_hanoi(rings)\n",
    "    print(res)\n",
    "    \n",
    "if __name__ == \"__main__\":\n",
    "    main()"
   ]
  },
  {
   "cell_type": "markdown",
   "metadata": {},
   "source": [
    "# Generate all nonattacking placements of $n$-Queens\n",
    "\n",
    "Write a program which returns all distinct nonattacking placements of $n$-queens on an $n \\times n$ chessboard, where $n$ is an input to the program.\n",
    "\n",
    "### Complexity\n",
    "\n",
    "Time Complexity: $\\mathcal{O}(\\dfrac{n!}{c^n})$, where $c \\approx 2.54$."
   ]
  },
  {
   "cell_type": "code",
   "execution_count": 17,
   "metadata": {},
   "outputs": [
    {
     "name": "stdout",
     "output_type": "stream",
     "text": [
      "[[3, 1, 2, 1], [3, 1, 2, 1]]\n"
     ]
    }
   ],
   "source": [
    "class Solution:\n",
    "    def n_queens(self, n):\n",
    "        def solve_n_queens(row):\n",
    "            if row == n:\n",
    "                result.append(placement)\n",
    "                return\n",
    "            for q in range(n):\n",
    "                if all( abs(c - q) not in (0, row - i)\n",
    "                        for i, c in enumerate(placement[:row]) ):\n",
    "                    placement[row] = q\n",
    "                    solve_n_queens(row + 1)\n",
    "\n",
    "        result, placement = [], [0] * n\n",
    "        solve_n_queens(0)\n",
    "        return result\n",
    "            \n",
    "def main():\n",
    "    queens = 4\n",
    "    sol = Solution()\n",
    "    res = sol.n_queens(queens)\n",
    "    print(res)\n",
    "    \n",
    "if __name__ == \"__main__\":\n",
    "    main()"
   ]
  },
  {
   "cell_type": "markdown",
   "metadata": {},
   "source": [
    "# Generate permutations\n",
    "\n",
    "Write a program which takes as input an array of distinct integers and generates all permutations of that array. No permutation of the array may appear more than once.\n",
    "\n",
    "### Complexity\n",
    "\n",
    "Time Complexity: $\\mathcal{O}(n \\times n!)$."
   ]
  },
  {
   "cell_type": "code",
   "execution_count": 20,
   "metadata": {},
   "outputs": [
    {
     "name": "stdout",
     "output_type": "stream",
     "text": [
      "[[2, 3, 5, 7], [2, 3, 7, 5], [2, 5, 3, 7], [2, 5, 7, 3], [2, 7, 5, 3], [2, 7, 3, 5], [3, 2, 5, 7], [3, 2, 7, 5], [3, 5, 2, 7], [3, 5, 7, 2], [3, 7, 5, 2], [3, 7, 2, 5], [5, 3, 2, 7], [5, 3, 7, 2], [5, 2, 3, 7], [5, 2, 7, 3], [5, 7, 2, 3], [5, 7, 3, 2], [7, 3, 5, 2], [7, 3, 2, 5], [7, 5, 3, 2], [7, 5, 2, 3], [7, 2, 5, 3], [7, 2, 3, 5]]\n"
     ]
    }
   ],
   "source": [
    "class Solution:\n",
    "    def permutations(self, A):\n",
    "        def directed_permutations(i):\n",
    "            if i == len(A):\n",
    "                result.append(A.copy())\n",
    "                return\n",
    "            \n",
    "            for j in range(i, len(A)):\n",
    "                A[i], A[j] = A[j], A[i]\n",
    "                directed_permutations(i+1)\n",
    "                A[i], A[j] = A[j], A[i]\n",
    "        \n",
    "        result = []\n",
    "        directed_permutations(0)\n",
    "        return result\n",
    "    \n",
    "def main():\n",
    "    A = [2,3,5,7]\n",
    "    sol = Solution()\n",
    "    res = sol.permutations(A)\n",
    "    print(res)\n",
    "    \n",
    "if __name__ == \"__main__\":\n",
    "    main()"
   ]
  },
  {
   "cell_type": "markdown",
   "metadata": {},
   "source": [
    "# Generate the power set\n",
    "\n",
    "Write a function that takes as input a set and returns its power set.\n",
    "\n",
    "### Complexity\n",
    "\n",
    "Time Complexity: $\\mathcal{O}(n \\times 2^n)$.\n",
    "\n",
    "Space Complexity: $\\mathcal{O}(n \\times 2^n)$."
   ]
  },
  {
   "cell_type": "code",
   "execution_count": 33,
   "metadata": {},
   "outputs": [
    {
     "name": "stdout",
     "output_type": "stream",
     "text": [
      "[[], [2], [3], [3, 2], [2], [2, 2], [2, 3], [2, 3, 2], [1], [1, 2], [1, 3], [1, 3, 2], [1, 2], [1, 2, 2], [1, 2, 3], [1, 2, 3, 2]]\n"
     ]
    }
   ],
   "source": [
    "class Solution:\n",
    "    def power_set(self, A):\n",
    "        def directed_power_set(to_be_selected, selected_so_far):\n",
    "            if to_be_selected == len(A):\n",
    "                power_set.append(selected_so_far)\n",
    "                return\n",
    "            \n",
    "            directed_power_set(to_be_selected + 1, selected_so_far)\n",
    "            directed_power_set(to_be_selected + 1, selected_so_far + [A[to_be_selected]])\n",
    "        \n",
    "        power_set = []\n",
    "        directed_power_set(0, [])\n",
    "        return power_set\n",
    "    \n",
    "def main():\n",
    "    A = [1,2,3,2]\n",
    "    sol = Solution()\n",
    "    res = sol.power_set(A)\n",
    "    print(res)\n",
    "    \n",
    "if __name__ == \"__main__\":\n",
    "    main()"
   ]
  },
  {
   "cell_type": "markdown",
   "metadata": {},
   "source": [
    "# Generate all subsets of size $k$\n",
    "\n",
    "Write a program which computes all size k subsets of ${1, 2, \\dots, n}$ where $k$ and $n$ are program inputs.\n",
    "\n",
    "### Complexity\n",
    "\n",
    "Time Complexity: $\\mathcal{O}(n \\binom{n}{k})$."
   ]
  },
  {
   "cell_type": "code",
   "execution_count": 37,
   "metadata": {},
   "outputs": [
    {
     "name": "stdout",
     "output_type": "stream",
     "text": [
      "[[1, 2], [1, 3], [1, 4], [1, 5], [2, 3], [2, 4], [2, 5], [3, 4], [3, 5], [4, 5]]\n"
     ]
    }
   ],
   "source": [
    "class Solution:\n",
    "    def combinations(self, n, k):\n",
    "        def directed_combinations(offset, partial_combination):\n",
    "            if len(partial_combination) == k:\n",
    "                result.append(partial_combination)\n",
    "                return\n",
    "            \n",
    "            num_remaining = k - len(partial_combination)\n",
    "            i = offset\n",
    "            while i <= n and num_remaining <= n - i + 1:\n",
    "                directed_combinations(i + 1, partial_combination + [i])\n",
    "                i += 1\n",
    "        \n",
    "        result = []\n",
    "        directed_combinations(1, [])\n",
    "        return result\n",
    "    \n",
    "def main():\n",
    "    n, k = 5, 2\n",
    "    sol = Solution()\n",
    "    res = sol.combinations(n, k)\n",
    "    print(res)\n",
    "    \n",
    "if __name__ == \"__main__\":\n",
    "    main()"
   ]
  },
  {
   "cell_type": "markdown",
   "metadata": {},
   "source": [
    "# Generate strings of matched parens\n",
    "\n",
    "Write a program that takes as input a number and returns all the strings with that number of matched pairs of parens.\n",
    "\n",
    "### Complexity\n",
    "\n",
    "Time Complexity: $\\mathcal{O}(\\frac{(2k)!}{k!(k+1)!})$."
   ]
  },
  {
   "cell_type": "code",
   "execution_count": 39,
   "metadata": {},
   "outputs": [
    {
     "name": "stdout",
     "output_type": "stream",
     "text": [
      "['(((())))', '((()()))', '((())())', '((()))()', '(()(()))', '(()()())', '(()())()', '(())(())', '(())()()', '()((()))', '()(()())', '()(())()', '()()(())', '()()()()']\n"
     ]
    }
   ],
   "source": [
    "class Solution:\n",
    "    def generate_parenthesis(self, n):\n",
    "        def directed_generate_parenthesis(left, right, cur):\n",
    "            if left == 0 and right == 0:\n",
    "                result.append(cur)\n",
    "                return\n",
    "            \n",
    "            if left > 0:\n",
    "                directed_generate_parenthesis(left-1, right, cur + '(')\n",
    "                \n",
    "            if right > left:\n",
    "                directed_generate_parenthesis(left, right-1, cur + ')')\n",
    "        \n",
    "        result = []\n",
    "        directed_generate_parenthesis(n, n, '')\n",
    "        return result\n",
    "    \n",
    "def main():\n",
    "    n = 4\n",
    "    sol = Solution()\n",
    "    res = sol.generate_parenthesis(n)\n",
    "    print(res)\n",
    "    \n",
    "if __name__ == \"__main__\":\n",
    "    main()"
   ]
  },
  {
   "cell_type": "markdown",
   "metadata": {},
   "source": [
    "# Generate palindromic decompositions\n",
    "\n",
    "Compute all palindromic decompositions of a given string.\n",
    "\n",
    "### Complexity\n",
    "\n",
    "Time Complexity: $\\mathcal{O}(n \\times 2^n)$."
   ]
  },
  {
   "cell_type": "code",
   "execution_count": 41,
   "metadata": {},
   "outputs": [
    {
     "name": "stdout",
     "output_type": "stream",
     "text": [
      "[['1', '4', '1', '3', '3', '7', '8', '9', '9', '8'], ['1', '4', '1', '3', '3', '7', '8', '99', '8'], ['1', '4', '1', '3', '3', '7', '8998'], ['1', '4', '1', '33', '7', '8', '9', '9', '8'], ['1', '4', '1', '33', '7', '8', '99', '8'], ['1', '4', '1', '33', '7', '8998'], ['141', '3', '3', '7', '8', '9', '9', '8'], ['141', '3', '3', '7', '8', '99', '8'], ['141', '3', '3', '7', '8998'], ['141', '33', '7', '8', '9', '9', '8'], ['141', '33', '7', '8', '99', '8'], ['141', '33', '7', '8998']]\n"
     ]
    }
   ],
   "source": [
    "class Solution:\n",
    "    def palindrome_decompositions(self, s):\n",
    "        def directed_palindrome_decompositions(offset, partial_partition):\n",
    "            if offset == len(s):\n",
    "                result.append(partial_partition)\n",
    "                return\n",
    "            \n",
    "            for i in range(offset+1, len(s)+1):\n",
    "                prefix = s[offset:i]\n",
    "                if prefix == prefix[::-1]:\n",
    "                    directed_palindrome_decompositions(i, partial_partition + [prefix])\n",
    "            \n",
    "        result = []\n",
    "        directed_palindrome_decompositions(0, [])\n",
    "        return result\n",
    "    \n",
    "def main():\n",
    "    s = \"1413378998\"\n",
    "    sol = Solution()\n",
    "    res = sol.palindrome_decompositions(s)\n",
    "    print(res)\n",
    "    \n",
    "if __name__ == \"__main__\":\n",
    "    main()"
   ]
  },
  {
   "cell_type": "markdown",
   "metadata": {},
   "source": [
    "# Generate binary trees\n",
    "\n",
    "Write a program which returns all distinct binary trees with a specified number of nodes.\n",
    "\n",
    "### Complexity\n",
    "\n",
    "Time Complexity: $\\mathcal{O}(n \\binom{n}{k})$."
   ]
  },
  {
   "cell_type": "code",
   "execution_count": 43,
   "metadata": {},
   "outputs": [
    {
     "name": "stdout",
     "output_type": "stream",
     "text": [
      "5\n"
     ]
    }
   ],
   "source": [
    "class Node:\n",
    "    def __init__(self, val=0, left=None, right=None):\n",
    "        self.val = val\n",
    "        self.left = left\n",
    "        self.right = right\n",
    "\n",
    "class Solution:\n",
    "    def generate_all_binary_trees(self, num_nodes):\n",
    "        if num_nodes == 0:\n",
    "            return [None]\n",
    "        \n",
    "        result = []\n",
    "        for num_left_tree_nodes in range(num_nodes):\n",
    "            num_right_tree_nodes = num_nodes - 1 - num_left_tree_nodes\n",
    "            left_subtrees = self.generate_all_binary_trees(num_left_tree_nodes)\n",
    "            right_subtrees = self.generate_all_binary_trees(num_right_tree_nodes)\n",
    "            result.append(Node(0, left, right) for left in left_subtrees for right in right_subtrees)\n",
    "            \n",
    "        return result\n",
    "    \n",
    "def main():\n",
    "    num_nodes = 5\n",
    "    sol = Solution()\n",
    "    res = sol.generate_all_binary_trees(num_nodes)\n",
    "    print(len(res))\n",
    "    \n",
    "if __name__ == \"__main__\":\n",
    "    main()"
   ]
  },
  {
   "cell_type": "markdown",
   "metadata": {},
   "source": [
    "# Implement a sudoku solver\n",
    "\n",
    "Implement a Sudoku solver.\n",
    "\n",
    "### Complexity\n",
    "\n",
    "Time Complexity: $\\mathcal{O}(n \\binom{n}{k})$."
   ]
  },
  {
   "cell_type": "code",
   "execution_count": 1,
   "metadata": {},
   "outputs": [],
   "source": [
    "class Solution:\n",
    "    def sudoku_solver(self, partial_assignment):\n",
    "        def partial_sudoku_solver(i, j):\n",
    "            if i == len(partial_assignment):\n",
    "                i = 0\n",
    "                j += 1\n",
    "                if j == len(partial_assignment[i]):\n",
    "                    return True\n",
    "                \n",
    "            if partial_assignment[i][j] != EMPTY_ENTRY:\n",
    "                return partial_sudoku_solver(i + 1, j)\n",
    "            \n",
    "            def valid_to_add(i, j, val):\n",
    "                if any(val == partial_assignment[k][j]\n",
    "                       for k in range(len(partial_assignment))):\n",
    "                    return False\n",
    "                if val in partial_assignment[i]:\n",
    "                    return False\n",
    "                region_size = int(math.sqrt(len(partial_assignment)))\n",
    "                I, J = i // region_size, j // region_size\n",
    "                return not any(val == partial_assignment[region_size * I + a][region_size * J + b]\n",
    "                               for a, b in itertools.product(range(region_size),repeat=2))\n",
    "            \n",
    "            for val in range(1, len(partial_assignment)+1):\n",
    "                if valid_to_add(i, j, val):\n",
    "                    partial_assignment[i][j] = val\n",
    "                    if partial_sudoku_solver(i + 1, j):\n",
    "                        return True\n",
    "            \n",
    "        EMPTY_ENTRY = 0\n",
    "        return partial_sudoku_solver(0, 0)       "
   ]
  },
  {
   "cell_type": "markdown",
   "metadata": {},
   "source": [
    "# Compute a Gray Code\n",
    "\n",
    "Write a program which takes $n$ as input and retums an n-bit Gray code.\n",
    "\n",
    "### Complexity\n",
    "\n",
    "Time Complexity: $\\mathcal{O}(n \\binom{n}{k})$."
   ]
  },
  {
   "cell_type": "code",
   "execution_count": 8,
   "metadata": {},
   "outputs": [
    {
     "name": "stdout",
     "output_type": "stream",
     "text": [
      "[0, 1, 3, 2, 6, 7, 5, 4, 12, 13, 15, 14, 10, 11, 9, 8]\n"
     ]
    }
   ],
   "source": [
    "class Solution:\n",
    "    def gray_code(self, num_bits):\n",
    "        result = [0]\n",
    "        for i in range(num_bits):\n",
    "            result += [x + 2**i for x in reversed(result)]\n",
    "        return result\n",
    "\n",
    "def main():\n",
    "    num_bits = 4\n",
    "    sol = Solution()\n",
    "    res = sol.gray_code(num_bits)\n",
    "    print(res)\n",
    "    \n",
    "if __name__ == \"__main__\":\n",
    "    main()"
   ]
  }
 ],
 "metadata": {
  "kernelspec": {
   "display_name": "Python 3",
   "language": "python",
   "name": "python3"
  },
  "language_info": {
   "codemirror_mode": {
    "name": "ipython",
    "version": 3
   },
   "file_extension": ".py",
   "mimetype": "text/x-python",
   "name": "python",
   "nbconvert_exporter": "python",
   "pygments_lexer": "ipython3",
   "version": "3.7.3"
  }
 },
 "nbformat": 4,
 "nbformat_minor": 2
}
